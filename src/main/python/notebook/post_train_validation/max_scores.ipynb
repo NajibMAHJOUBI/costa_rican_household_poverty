{
 "cells": [
  {
   "cell_type": "markdown",
   "metadata": {},
   "source": [
    "## Import libraries"
   ]
  },
  {
   "cell_type": "code",
   "execution_count": 9,
   "metadata": {},
   "outputs": [],
   "source": [
    "import pandas as pd\n",
    "import os\n",
    "import numpy as np\n",
    "import ast"
   ]
  },
  {
   "cell_type": "markdown",
   "metadata": {},
   "source": [
    "## Initialization"
   ]
  },
  {
   "cell_type": "code",
   "execution_count": 10,
   "metadata": {},
   "outputs": [],
   "source": [
    "estimator = \"random_forest\"\n",
    "path = \"../../../../../submission/sklearn/train_validation/continuous\""
   ]
  },
  {
   "cell_type": "code",
   "execution_count": 11,
   "metadata": {},
   "outputs": [],
   "source": [
    "# list_classifier = [\"decision_tree\", \"logistic_regression\", \"nearest_neighbors\", \"random_forest\",\n",
    "#                   \"one_vs_rest/decision_tree\", \"one_vs_rest/logistic_regression\", \n",
    "#                   \"one_vs_rest/random_forest\", \"one_vs_rest/nearest_neighbors\", \"xgboost\"]\n",
    "\n",
    "list_classifier = [\"decision_tree\", \n",
    "                   \"random_forest\",\n",
    "                  \"one_vs_rest/decision_tree\", \n",
    "                  \"one_vs_rest/random_forest\",\n",
    "                  \"extra_trees\",\n",
    "                  \"xgboost\"]"
   ]
  },
  {
   "cell_type": "markdown",
   "metadata": {},
   "source": [
    "## Continuous"
   ]
  },
  {
   "cell_type": "markdown",
   "metadata": {},
   "source": [
    "### All Features"
   ]
  },
  {
   "cell_type": "code",
   "execution_count": 18,
   "metadata": {},
   "outputs": [
    {
     "name": "stdout",
     "output_type": "stream",
     "text": [
      "decision_tree: [0.76955911]\n",
      "random_forest: [0.83034994]\n",
      "one_vs_rest/decision_tree: [0.81311657]\n",
      "one_vs_rest/random_forest: [0.83014536]\n",
      "extra_trees: [0.83989956]\n",
      "xgboost: [0.85645167]\n"
     ]
    }
   ],
   "source": [
    "for estimator in list_classifier:\n",
    "    try:\n",
    "        classifier = pd.read_csv(os.path.join(path, \"{0}/estimators_parameters.csv\".format(estimator)), header=0, sep=\";\")\n",
    "\n",
    "        results = pd.read_csv(os.path.join(path, \"{0}/results.csv\".format(estimator)), header=0, sep=\",\")\n",
    "\n",
    "        best_f1 = results[results[\"f1\"] == float(results[\"f1\"].max())][\"f1\"]\n",
    "\n",
    "        print(\"{0}: {1}\".format(estimator, np.unique(best_f1)))\n",
    "    except:\n",
    "        print(\"{0}: error\".format(estimator))"
   ]
  },
  {
   "cell_type": "code",
   "execution_count": 20,
   "metadata": {},
   "outputs": [],
   "source": [
    "classifier = pd.read_csv(os.path.join(path, \"xgboost/estimators_parameters.csv\".format(estimator)), header=0, sep=\";\")\n",
    "results = pd.read_csv(os.path.join(path, \"xgboost/results.csv\".format(estimator)), header=0, sep=\",\")"
   ]
  },
  {
   "cell_type": "code",
   "execution_count": 21,
   "metadata": {},
   "outputs": [
    {
     "data": {
      "text/html": [
       "<div>\n",
       "<table border=\"1\" class=\"dataframe\">\n",
       "  <thead>\n",
       "    <tr style=\"text-align: right;\">\n",
       "      <th></th>\n",
       "      <th>index</th>\n",
       "      <th>accuracy</th>\n",
       "      <th>precision</th>\n",
       "      <th>recall</th>\n",
       "      <th>f1</th>\n",
       "    </tr>\n",
       "  </thead>\n",
       "  <tbody>\n",
       "    <tr>\n",
       "      <th>27</th>\n",
       "      <td>27</td>\n",
       "      <td>0.90516</td>\n",
       "      <td>0.865833</td>\n",
       "      <td>0.847589</td>\n",
       "      <td>0.856452</td>\n",
       "    </tr>\n",
       "  </tbody>\n",
       "</table>\n",
       "</div>"
      ],
      "text/plain": [
       "    index  accuracy  precision    recall        f1\n",
       "27     27   0.90516   0.865833  0.847589  0.856452"
      ]
     },
     "execution_count": 21,
     "metadata": {},
     "output_type": "execute_result"
    }
   ],
   "source": [
    "best_f1 = results[results[\"f1\"] == float(results[\"f1\"].max())]\n",
    "best_f1"
   ]
  },
  {
   "cell_type": "code",
   "execution_count": 33,
   "metadata": {
    "scrolled": true
   },
   "outputs": [],
   "source": [
    "pp = classifier[classifier[\"index\"] == int(best_f1[\"index\"])][[\"estimators\"]][\"estimators\"].to_dict()"
   ]
  },
  {
   "cell_type": "code",
   "execution_count": 36,
   "metadata": {},
   "outputs": [
    {
     "data": {
      "text/plain": [
       "{27: \"{'reg_alpha': 0, 'n_jobs': 1, 'colsample_bytree': 1, 'silent': True, 'colsample_bylevel': 1, 'scale_pos_weight': 1, 'learning_rate': 0.1, 'missing': None, 'max_delta_step': 0, 'nthread': None, 'base_score': 0.5, 'n_estimators': 100, 'subsample': 1, 'reg_lambda': 1, 'random_state': 0, 'min_child_weight': 1, 'objective': 'multi:softprob', 'seed': None, 'max_depth': 30, 'gamma': 0, 'booster': 'gbtree'}\"}"
      ]
     },
     "execution_count": 36,
     "metadata": {},
     "output_type": "execute_result"
    }
   ],
   "source": [
    "pp"
   ]
  }
 ],
 "metadata": {
  "kernelspec": {
   "display_name": "Python [Root]",
   "language": "python",
   "name": "Python [Root]"
  },
  "language_info": {
   "codemirror_mode": {
    "name": "ipython",
    "version": 2
   },
   "file_extension": ".py",
   "mimetype": "text/x-python",
   "name": "python",
   "nbconvert_exporter": "python",
   "pygments_lexer": "ipython2",
   "version": "2.7.15"
  }
 },
 "nbformat": 4,
 "nbformat_minor": 1
}
