{
 "cells": [
  {
   "cell_type": "markdown",
   "metadata": {},
   "source": [
    "## Import libraries"
   ]
  },
  {
   "cell_type": "code",
   "execution_count": 1,
   "metadata": {},
   "outputs": [],
   "source": [
    "import pandas as pd\n",
    "import os\n",
    "import numpy as np\n",
    "import ast"
   ]
  },
  {
   "cell_type": "markdown",
   "metadata": {},
   "source": [
    "## Initialization"
   ]
  },
  {
   "cell_type": "code",
   "execution_count": 4,
   "metadata": {},
   "outputs": [],
   "source": [
    "estimator = \"random_forest\"\n",
    "path = \"../../../../../submission/sklearn/train_validation/continuous\""
   ]
  },
  {
   "cell_type": "code",
   "execution_count": 5,
   "metadata": {},
   "outputs": [],
   "source": [
    "list_classifier = [\"decision_tree\", \"logistic_regression\", \"nearest_neighbors\", \"random_forest\",\n",
    "                  \"one_vs_rest/decision_tree\", \"one_vs_rest/logistic_regression\", \n",
    "                  \"one_vs_rest/random_forest\", \"one_vs_rest/nearest_neighbors\", \"xgboost\"]"
   ]
  },
  {
   "cell_type": "markdown",
   "metadata": {},
   "source": [
    "## Continuous"
   ]
  },
  {
   "cell_type": "markdown",
   "metadata": {},
   "source": [
    "### All Features"
   ]
  },
  {
   "cell_type": "code",
   "execution_count": 6,
   "metadata": {},
   "outputs": [
    {
     "name": "stdout",
     "output_type": "stream",
     "text": [
      "decision_tree: error\n",
      "logistic_regression: error\n",
      "nearest_neighbors: error\n",
      "random_forest: error\n",
      "one_vs_rest/decision_tree: error\n",
      "one_vs_rest/logistic_regression: error\n",
      "one_vs_rest/random_forest: error\n",
      "one_vs_rest/nearest_neighbors: error\n",
      "xgboost: error\n"
     ]
    }
   ],
   "source": [
    "for estimator in list_classifier:\n",
    "    try:\n",
    "        classifier = pd.read_csv(os.path.join(path, \"{0}/classifier.csv\".format(estimator)), header=0)\n",
    "\n",
    "        results = pd.read_csv(os.path.join(path, \"{0}/results.csv\".format(estimator)))\n",
    "\n",
    "        best_f1 = results[results[\"f1\"] == float(results[\"f1\"].max())][\"f1\"]\n",
    "\n",
    "        print(\"{0}: {1}\".format(estimator, np.unique(best_f1)))\n",
    "    except:\n",
    "        print(\"{0}: error\".format(estimator))"
   ]
  },
  {
   "cell_type": "code",
   "execution_count": 29,
   "metadata": {},
   "outputs": [],
   "source": [
    "classifier = pd.read_csv(os.path.join(path, \"one_vs_rest/random_forest/classifier.csv\".format(estimator)), header=0, sep=\";\")\n",
    "\n",
    "results = pd.read_csv(os.path.join(path, \"one_vs_rest/random_forest/results.csv\".format(estimator)), header=0, sep=\",\")"
   ]
  },
  {
   "cell_type": "code",
   "execution_count": 30,
   "metadata": {},
   "outputs": [
    {
     "data": {
      "text/html": [
       "<div>\n",
       "<table border=\"1\" class=\"dataframe\">\n",
       "  <thead>\n",
       "    <tr style=\"text-align: right;\">\n",
       "      <th></th>\n",
       "      <th>index</th>\n",
       "      <th>accuracy</th>\n",
       "      <th>precision</th>\n",
       "      <th>recall</th>\n",
       "      <th>f1</th>\n",
       "    </tr>\n",
       "  </thead>\n",
       "  <tbody>\n",
       "    <tr>\n",
       "      <th>48</th>\n",
       "      <td>48</td>\n",
       "      <td>0.852162</td>\n",
       "      <td>0.858526</td>\n",
       "      <td>0.728124</td>\n",
       "      <td>0.779394</td>\n",
       "    </tr>\n",
       "  </tbody>\n",
       "</table>\n",
       "</div>"
      ],
      "text/plain": [
       "    index  accuracy  precision    recall        f1\n",
       "48     48  0.852162   0.858526  0.728124  0.779394"
      ]
     },
     "execution_count": 30,
     "metadata": {},
     "output_type": "execute_result"
    }
   ],
   "source": [
    "best_f1 = results[results[\"f1\"] == float(results[\"f1\"].max())]\n",
    "best_f1"
   ]
  },
  {
   "cell_type": "code",
   "execution_count": 31,
   "metadata": {},
   "outputs": [
    {
     "data": {
      "text/html": [
       "<div>\n",
       "<table border=\"1\" class=\"dataframe\">\n",
       "  <thead>\n",
       "    <tr style=\"text-align: right;\">\n",
       "      <th></th>\n",
       "      <th>index</th>\n",
       "      <th>estimator</th>\n",
       "    </tr>\n",
       "  </thead>\n",
       "  <tbody>\n",
       "    <tr>\n",
       "      <th>0</th>\n",
       "      <td>0</td>\n",
       "      <td>{'warm_start': False, 'oob_score': False, 'n_j...</td>\n",
       "    </tr>\n",
       "    <tr>\n",
       "      <th>1</th>\n",
       "      <td>1</td>\n",
       "      <td>{'warm_start': False, 'oob_score': False, 'n_j...</td>\n",
       "    </tr>\n",
       "    <tr>\n",
       "      <th>2</th>\n",
       "      <td>2</td>\n",
       "      <td>{'warm_start': False, 'oob_score': False, 'n_j...</td>\n",
       "    </tr>\n",
       "    <tr>\n",
       "      <th>3</th>\n",
       "      <td>3</td>\n",
       "      <td>{'warm_start': False, 'oob_score': False, 'n_j...</td>\n",
       "    </tr>\n",
       "    <tr>\n",
       "      <th>4</th>\n",
       "      <td>4</td>\n",
       "      <td>{'warm_start': False, 'oob_score': False, 'n_j...</td>\n",
       "    </tr>\n",
       "    <tr>\n",
       "      <th>5</th>\n",
       "      <td>5</td>\n",
       "      <td>{'warm_start': False, 'oob_score': False, 'n_j...</td>\n",
       "    </tr>\n",
       "    <tr>\n",
       "      <th>6</th>\n",
       "      <td>6</td>\n",
       "      <td>{'warm_start': False, 'oob_score': False, 'n_j...</td>\n",
       "    </tr>\n",
       "    <tr>\n",
       "      <th>7</th>\n",
       "      <td>7</td>\n",
       "      <td>{'warm_start': False, 'oob_score': False, 'n_j...</td>\n",
       "    </tr>\n",
       "    <tr>\n",
       "      <th>8</th>\n",
       "      <td>8</td>\n",
       "      <td>{'warm_start': False, 'oob_score': False, 'n_j...</td>\n",
       "    </tr>\n",
       "    <tr>\n",
       "      <th>9</th>\n",
       "      <td>9</td>\n",
       "      <td>{'warm_start': False, 'oob_score': False, 'n_j...</td>\n",
       "    </tr>\n",
       "    <tr>\n",
       "      <th>10</th>\n",
       "      <td>10</td>\n",
       "      <td>{'warm_start': False, 'oob_score': False, 'n_j...</td>\n",
       "    </tr>\n",
       "    <tr>\n",
       "      <th>11</th>\n",
       "      <td>11</td>\n",
       "      <td>{'warm_start': False, 'oob_score': False, 'n_j...</td>\n",
       "    </tr>\n",
       "    <tr>\n",
       "      <th>12</th>\n",
       "      <td>12</td>\n",
       "      <td>{'warm_start': False, 'oob_score': False, 'n_j...</td>\n",
       "    </tr>\n",
       "    <tr>\n",
       "      <th>13</th>\n",
       "      <td>13</td>\n",
       "      <td>{'warm_start': False, 'oob_score': False, 'n_j...</td>\n",
       "    </tr>\n",
       "    <tr>\n",
       "      <th>14</th>\n",
       "      <td>14</td>\n",
       "      <td>{'warm_start': False, 'oob_score': False, 'n_j...</td>\n",
       "    </tr>\n",
       "    <tr>\n",
       "      <th>15</th>\n",
       "      <td>15</td>\n",
       "      <td>{'warm_start': False, 'oob_score': False, 'n_j...</td>\n",
       "    </tr>\n",
       "    <tr>\n",
       "      <th>16</th>\n",
       "      <td>16</td>\n",
       "      <td>{'warm_start': False, 'oob_score': False, 'n_j...</td>\n",
       "    </tr>\n",
       "    <tr>\n",
       "      <th>17</th>\n",
       "      <td>17</td>\n",
       "      <td>{'warm_start': False, 'oob_score': False, 'n_j...</td>\n",
       "    </tr>\n",
       "    <tr>\n",
       "      <th>18</th>\n",
       "      <td>18</td>\n",
       "      <td>{'warm_start': False, 'oob_score': False, 'n_j...</td>\n",
       "    </tr>\n",
       "    <tr>\n",
       "      <th>19</th>\n",
       "      <td>19</td>\n",
       "      <td>{'warm_start': False, 'oob_score': False, 'n_j...</td>\n",
       "    </tr>\n",
       "    <tr>\n",
       "      <th>20</th>\n",
       "      <td>20</td>\n",
       "      <td>{'warm_start': False, 'oob_score': False, 'n_j...</td>\n",
       "    </tr>\n",
       "    <tr>\n",
       "      <th>21</th>\n",
       "      <td>21</td>\n",
       "      <td>{'warm_start': False, 'oob_score': False, 'n_j...</td>\n",
       "    </tr>\n",
       "    <tr>\n",
       "      <th>22</th>\n",
       "      <td>22</td>\n",
       "      <td>{'warm_start': False, 'oob_score': False, 'n_j...</td>\n",
       "    </tr>\n",
       "    <tr>\n",
       "      <th>23</th>\n",
       "      <td>23</td>\n",
       "      <td>{'warm_start': False, 'oob_score': False, 'n_j...</td>\n",
       "    </tr>\n",
       "    <tr>\n",
       "      <th>24</th>\n",
       "      <td>24</td>\n",
       "      <td>{'warm_start': False, 'oob_score': False, 'n_j...</td>\n",
       "    </tr>\n",
       "    <tr>\n",
       "      <th>25</th>\n",
       "      <td>25</td>\n",
       "      <td>{'warm_start': False, 'oob_score': False, 'n_j...</td>\n",
       "    </tr>\n",
       "    <tr>\n",
       "      <th>26</th>\n",
       "      <td>26</td>\n",
       "      <td>{'warm_start': False, 'oob_score': False, 'n_j...</td>\n",
       "    </tr>\n",
       "    <tr>\n",
       "      <th>27</th>\n",
       "      <td>27</td>\n",
       "      <td>{'warm_start': False, 'oob_score': False, 'n_j...</td>\n",
       "    </tr>\n",
       "    <tr>\n",
       "      <th>28</th>\n",
       "      <td>28</td>\n",
       "      <td>{'warm_start': False, 'oob_score': False, 'n_j...</td>\n",
       "    </tr>\n",
       "    <tr>\n",
       "      <th>29</th>\n",
       "      <td>29</td>\n",
       "      <td>{'warm_start': False, 'oob_score': False, 'n_j...</td>\n",
       "    </tr>\n",
       "    <tr>\n",
       "      <th>...</th>\n",
       "      <td>...</td>\n",
       "      <td>...</td>\n",
       "    </tr>\n",
       "    <tr>\n",
       "      <th>51</th>\n",
       "      <td>51</td>\n",
       "      <td>{'warm_start': False, 'oob_score': False, 'n_j...</td>\n",
       "    </tr>\n",
       "    <tr>\n",
       "      <th>52</th>\n",
       "      <td>52</td>\n",
       "      <td>{'warm_start': False, 'oob_score': False, 'n_j...</td>\n",
       "    </tr>\n",
       "    <tr>\n",
       "      <th>53</th>\n",
       "      <td>53</td>\n",
       "      <td>{'warm_start': False, 'oob_score': False, 'n_j...</td>\n",
       "    </tr>\n",
       "    <tr>\n",
       "      <th>54</th>\n",
       "      <td>54</td>\n",
       "      <td>{'warm_start': False, 'oob_score': False, 'n_j...</td>\n",
       "    </tr>\n",
       "    <tr>\n",
       "      <th>55</th>\n",
       "      <td>55</td>\n",
       "      <td>{'warm_start': False, 'oob_score': False, 'n_j...</td>\n",
       "    </tr>\n",
       "    <tr>\n",
       "      <th>56</th>\n",
       "      <td>56</td>\n",
       "      <td>{'warm_start': False, 'oob_score': False, 'n_j...</td>\n",
       "    </tr>\n",
       "    <tr>\n",
       "      <th>57</th>\n",
       "      <td>57</td>\n",
       "      <td>{'warm_start': False, 'oob_score': False, 'n_j...</td>\n",
       "    </tr>\n",
       "    <tr>\n",
       "      <th>58</th>\n",
       "      <td>58</td>\n",
       "      <td>{'warm_start': False, 'oob_score': False, 'n_j...</td>\n",
       "    </tr>\n",
       "    <tr>\n",
       "      <th>59</th>\n",
       "      <td>59</td>\n",
       "      <td>{'warm_start': False, 'oob_score': False, 'n_j...</td>\n",
       "    </tr>\n",
       "    <tr>\n",
       "      <th>60</th>\n",
       "      <td>60</td>\n",
       "      <td>{'warm_start': False, 'oob_score': False, 'n_j...</td>\n",
       "    </tr>\n",
       "    <tr>\n",
       "      <th>61</th>\n",
       "      <td>61</td>\n",
       "      <td>{'warm_start': False, 'oob_score': False, 'n_j...</td>\n",
       "    </tr>\n",
       "    <tr>\n",
       "      <th>62</th>\n",
       "      <td>62</td>\n",
       "      <td>{'warm_start': False, 'oob_score': False, 'n_j...</td>\n",
       "    </tr>\n",
       "    <tr>\n",
       "      <th>63</th>\n",
       "      <td>63</td>\n",
       "      <td>{'warm_start': False, 'oob_score': False, 'n_j...</td>\n",
       "    </tr>\n",
       "    <tr>\n",
       "      <th>64</th>\n",
       "      <td>64</td>\n",
       "      <td>{'warm_start': False, 'oob_score': False, 'n_j...</td>\n",
       "    </tr>\n",
       "    <tr>\n",
       "      <th>65</th>\n",
       "      <td>65</td>\n",
       "      <td>{'warm_start': False, 'oob_score': False, 'n_j...</td>\n",
       "    </tr>\n",
       "    <tr>\n",
       "      <th>66</th>\n",
       "      <td>66</td>\n",
       "      <td>{'warm_start': False, 'oob_score': False, 'n_j...</td>\n",
       "    </tr>\n",
       "    <tr>\n",
       "      <th>67</th>\n",
       "      <td>67</td>\n",
       "      <td>{'warm_start': False, 'oob_score': False, 'n_j...</td>\n",
       "    </tr>\n",
       "    <tr>\n",
       "      <th>68</th>\n",
       "      <td>68</td>\n",
       "      <td>{'warm_start': False, 'oob_score': False, 'n_j...</td>\n",
       "    </tr>\n",
       "    <tr>\n",
       "      <th>69</th>\n",
       "      <td>69</td>\n",
       "      <td>{'warm_start': False, 'oob_score': False, 'n_j...</td>\n",
       "    </tr>\n",
       "    <tr>\n",
       "      <th>70</th>\n",
       "      <td>70</td>\n",
       "      <td>{'warm_start': False, 'oob_score': False, 'n_j...</td>\n",
       "    </tr>\n",
       "    <tr>\n",
       "      <th>71</th>\n",
       "      <td>71</td>\n",
       "      <td>{'warm_start': False, 'oob_score': False, 'n_j...</td>\n",
       "    </tr>\n",
       "    <tr>\n",
       "      <th>72</th>\n",
       "      <td>72</td>\n",
       "      <td>{'warm_start': False, 'oob_score': False, 'n_j...</td>\n",
       "    </tr>\n",
       "    <tr>\n",
       "      <th>73</th>\n",
       "      <td>73</td>\n",
       "      <td>{'warm_start': False, 'oob_score': False, 'n_j...</td>\n",
       "    </tr>\n",
       "    <tr>\n",
       "      <th>74</th>\n",
       "      <td>74</td>\n",
       "      <td>{'warm_start': False, 'oob_score': False, 'n_j...</td>\n",
       "    </tr>\n",
       "    <tr>\n",
       "      <th>75</th>\n",
       "      <td>75</td>\n",
       "      <td>{'warm_start': False, 'oob_score': False, 'n_j...</td>\n",
       "    </tr>\n",
       "    <tr>\n",
       "      <th>76</th>\n",
       "      <td>76</td>\n",
       "      <td>{'warm_start': False, 'oob_score': False, 'n_j...</td>\n",
       "    </tr>\n",
       "    <tr>\n",
       "      <th>77</th>\n",
       "      <td>77</td>\n",
       "      <td>{'warm_start': False, 'oob_score': False, 'n_j...</td>\n",
       "    </tr>\n",
       "    <tr>\n",
       "      <th>78</th>\n",
       "      <td>78</td>\n",
       "      <td>{'warm_start': False, 'oob_score': False, 'n_j...</td>\n",
       "    </tr>\n",
       "    <tr>\n",
       "      <th>79</th>\n",
       "      <td>79</td>\n",
       "      <td>{'warm_start': False, 'oob_score': False, 'n_j...</td>\n",
       "    </tr>\n",
       "    <tr>\n",
       "      <th>80</th>\n",
       "      <td>80</td>\n",
       "      <td>{'warm_start': False, 'oob_score': False, 'n_j...</td>\n",
       "    </tr>\n",
       "  </tbody>\n",
       "</table>\n",
       "<p>81 rows × 2 columns</p>\n",
       "</div>"
      ],
      "text/plain": [
       "    index                                          estimator\n",
       "0       0  {'warm_start': False, 'oob_score': False, 'n_j...\n",
       "1       1  {'warm_start': False, 'oob_score': False, 'n_j...\n",
       "2       2  {'warm_start': False, 'oob_score': False, 'n_j...\n",
       "3       3  {'warm_start': False, 'oob_score': False, 'n_j...\n",
       "4       4  {'warm_start': False, 'oob_score': False, 'n_j...\n",
       "5       5  {'warm_start': False, 'oob_score': False, 'n_j...\n",
       "6       6  {'warm_start': False, 'oob_score': False, 'n_j...\n",
       "7       7  {'warm_start': False, 'oob_score': False, 'n_j...\n",
       "8       8  {'warm_start': False, 'oob_score': False, 'n_j...\n",
       "9       9  {'warm_start': False, 'oob_score': False, 'n_j...\n",
       "10     10  {'warm_start': False, 'oob_score': False, 'n_j...\n",
       "11     11  {'warm_start': False, 'oob_score': False, 'n_j...\n",
       "12     12  {'warm_start': False, 'oob_score': False, 'n_j...\n",
       "13     13  {'warm_start': False, 'oob_score': False, 'n_j...\n",
       "14     14  {'warm_start': False, 'oob_score': False, 'n_j...\n",
       "15     15  {'warm_start': False, 'oob_score': False, 'n_j...\n",
       "16     16  {'warm_start': False, 'oob_score': False, 'n_j...\n",
       "17     17  {'warm_start': False, 'oob_score': False, 'n_j...\n",
       "18     18  {'warm_start': False, 'oob_score': False, 'n_j...\n",
       "19     19  {'warm_start': False, 'oob_score': False, 'n_j...\n",
       "20     20  {'warm_start': False, 'oob_score': False, 'n_j...\n",
       "21     21  {'warm_start': False, 'oob_score': False, 'n_j...\n",
       "22     22  {'warm_start': False, 'oob_score': False, 'n_j...\n",
       "23     23  {'warm_start': False, 'oob_score': False, 'n_j...\n",
       "24     24  {'warm_start': False, 'oob_score': False, 'n_j...\n",
       "25     25  {'warm_start': False, 'oob_score': False, 'n_j...\n",
       "26     26  {'warm_start': False, 'oob_score': False, 'n_j...\n",
       "27     27  {'warm_start': False, 'oob_score': False, 'n_j...\n",
       "28     28  {'warm_start': False, 'oob_score': False, 'n_j...\n",
       "29     29  {'warm_start': False, 'oob_score': False, 'n_j...\n",
       "..    ...                                                ...\n",
       "51     51  {'warm_start': False, 'oob_score': False, 'n_j...\n",
       "52     52  {'warm_start': False, 'oob_score': False, 'n_j...\n",
       "53     53  {'warm_start': False, 'oob_score': False, 'n_j...\n",
       "54     54  {'warm_start': False, 'oob_score': False, 'n_j...\n",
       "55     55  {'warm_start': False, 'oob_score': False, 'n_j...\n",
       "56     56  {'warm_start': False, 'oob_score': False, 'n_j...\n",
       "57     57  {'warm_start': False, 'oob_score': False, 'n_j...\n",
       "58     58  {'warm_start': False, 'oob_score': False, 'n_j...\n",
       "59     59  {'warm_start': False, 'oob_score': False, 'n_j...\n",
       "60     60  {'warm_start': False, 'oob_score': False, 'n_j...\n",
       "61     61  {'warm_start': False, 'oob_score': False, 'n_j...\n",
       "62     62  {'warm_start': False, 'oob_score': False, 'n_j...\n",
       "63     63  {'warm_start': False, 'oob_score': False, 'n_j...\n",
       "64     64  {'warm_start': False, 'oob_score': False, 'n_j...\n",
       "65     65  {'warm_start': False, 'oob_score': False, 'n_j...\n",
       "66     66  {'warm_start': False, 'oob_score': False, 'n_j...\n",
       "67     67  {'warm_start': False, 'oob_score': False, 'n_j...\n",
       "68     68  {'warm_start': False, 'oob_score': False, 'n_j...\n",
       "69     69  {'warm_start': False, 'oob_score': False, 'n_j...\n",
       "70     70  {'warm_start': False, 'oob_score': False, 'n_j...\n",
       "71     71  {'warm_start': False, 'oob_score': False, 'n_j...\n",
       "72     72  {'warm_start': False, 'oob_score': False, 'n_j...\n",
       "73     73  {'warm_start': False, 'oob_score': False, 'n_j...\n",
       "74     74  {'warm_start': False, 'oob_score': False, 'n_j...\n",
       "75     75  {'warm_start': False, 'oob_score': False, 'n_j...\n",
       "76     76  {'warm_start': False, 'oob_score': False, 'n_j...\n",
       "77     77  {'warm_start': False, 'oob_score': False, 'n_j...\n",
       "78     78  {'warm_start': False, 'oob_score': False, 'n_j...\n",
       "79     79  {'warm_start': False, 'oob_score': False, 'n_j...\n",
       "80     80  {'warm_start': False, 'oob_score': False, 'n_j...\n",
       "\n",
       "[81 rows x 2 columns]"
      ]
     },
     "execution_count": 31,
     "metadata": {},
     "output_type": "execute_result"
    }
   ],
   "source": [
    "classifier"
   ]
  },
  {
   "cell_type": "code",
   "execution_count": 32,
   "metadata": {
    "scrolled": true
   },
   "outputs": [
    {
     "name": "stdout",
     "output_type": "stream",
     "text": [
      "{'warm_start': False, 'oob_score': False, 'n_jobs': 1, 'min_impurity_decrease': 0.0, 'verbose': 0, 'max_leaf_nodes': None, 'bootstrap': True, 'min_samples_leaf': 5, 'n_estimators': 100, 'max_features': 'auto', 'min_weight_fraction_leaf': 0.0, 'criterion': 'gini', 'random_state': None, 'min_impurity_split': None, 'min_samples_split': 10, 'max_depth': 15, 'class_weight': None}\n"
     ]
    }
   ],
   "source": [
    "try:\n",
    "    dict_param = ast.literal_eval(classifier[classifier[\"index\"] == int(best_f1[\"index\"])][\"estimator\"].tolist()[0])\n",
    "    print dict_param \n",
    "except:\n",
    "    print(classifier[classifier[\"index\"] == int(best_f1[\"index\"])])"
   ]
  },
  {
   "cell_type": "code",
   "execution_count": 33,
   "metadata": {},
   "outputs": [
    {
     "data": {
      "text/plain": [
       "{'bootstrap': True,\n",
       " 'class_weight': None,\n",
       " 'criterion': 'gini',\n",
       " 'max_depth': 15,\n",
       " 'max_features': 'auto',\n",
       " 'max_leaf_nodes': None,\n",
       " 'min_impurity_decrease': 0.0,\n",
       " 'min_impurity_split': None,\n",
       " 'min_samples_leaf': 5,\n",
       " 'min_samples_split': 10,\n",
       " 'min_weight_fraction_leaf': 0.0,\n",
       " 'n_estimators': 100,\n",
       " 'n_jobs': 1,\n",
       " 'oob_score': False,\n",
       " 'random_state': None,\n",
       " 'verbose': 0,\n",
       " 'warm_start': False}"
      ]
     },
     "execution_count": 33,
     "metadata": {},
     "output_type": "execute_result"
    }
   ],
   "source": [
    "dict_param"
   ]
  },
  {
   "cell_type": "markdown",
   "metadata": {},
   "source": [
    "### Pearson Features"
   ]
  },
  {
   "cell_type": "code",
   "execution_count": 7,
   "metadata": {},
   "outputs": [
    {
     "name": "stdout",
     "output_type": "stream",
     "text": [
      "decision_tree: [0.61578494]\n",
      "logistic_regression: [0.41413648]\n",
      "nearest_neighbors: [0.72872079]\n",
      "random_forest: [0.8304762]\n",
      "one_vs_rest/decision_tree: [0.7165805]\n",
      "one_vs_rest/logistic_regression: [0.41413648]\n",
      "one_vs_rest/random_forest: error\n",
      "one_vs_rest/nearest_neighbors: [0.72872079]\n",
      "xgboost: error\n"
     ]
    }
   ],
   "source": [
    "for estimator in list_classifier:\n",
    "    try:\n",
    "        classifier = pd.read_csv(os.path.join(path, \"{0}/pearson_features/classifier.csv\".format(estimator)), header=0)\n",
    "        \n",
    "        results = pd.read_csv(os.path.join(path, \"{0}/pearson_features/results.csv\".format(estimator)))\n",
    " \n",
    "        best_f1 = results[results[\"f1\"] == float(results[\"f1\"].max())][\"f1\"]\n",
    "\n",
    "        print(\"{0}: {1}\".format(estimator, np.unique(best_f1)))\n",
    "        \n",
    "    except:\n",
    "        print(\"{0}: error\".format(estimator))"
   ]
  },
  {
   "cell_type": "code",
   "execution_count": 20,
   "metadata": {},
   "outputs": [],
   "source": [
    "classifier = pd.read_csv(os.path.join(path, \"nearest_neighbors/pearson_features/classifier.csv\".format(estimator)), header=0, sep=\",\")\n",
    "\n",
    "results = pd.read_csv(os.path.join(path, \"nearest_neighbors/pearson_features/results.csv\".format(estimator)), header=0, sep=\",\")"
   ]
  },
  {
   "cell_type": "code",
   "execution_count": 21,
   "metadata": {},
   "outputs": [
    {
     "data": {
      "text/html": [
       "<div>\n",
       "<table border=\"1\" class=\"dataframe\">\n",
       "  <thead>\n",
       "    <tr style=\"text-align: right;\">\n",
       "      <th></th>\n",
       "      <th>index</th>\n",
       "      <th>accuracy</th>\n",
       "      <th>precision</th>\n",
       "      <th>recall</th>\n",
       "      <th>f1</th>\n",
       "    </tr>\n",
       "  </thead>\n",
       "  <tbody>\n",
       "    <tr>\n",
       "      <th>0</th>\n",
       "      <td>0</td>\n",
       "      <td>0.804742</td>\n",
       "      <td>0.719058</td>\n",
       "      <td>0.750021</td>\n",
       "      <td>0.733346</td>\n",
       "    </tr>\n",
       "    <tr>\n",
       "      <th>1</th>\n",
       "      <td>1</td>\n",
       "      <td>0.804742</td>\n",
       "      <td>0.719058</td>\n",
       "      <td>0.750021</td>\n",
       "      <td>0.733346</td>\n",
       "    </tr>\n",
       "    <tr>\n",
       "      <th>8</th>\n",
       "      <td>8</td>\n",
       "      <td>0.804742</td>\n",
       "      <td>0.719058</td>\n",
       "      <td>0.750021</td>\n",
       "      <td>0.733346</td>\n",
       "    </tr>\n",
       "    <tr>\n",
       "      <th>9</th>\n",
       "      <td>9</td>\n",
       "      <td>0.804742</td>\n",
       "      <td>0.719058</td>\n",
       "      <td>0.750021</td>\n",
       "      <td>0.733346</td>\n",
       "    </tr>\n",
       "    <tr>\n",
       "      <th>10</th>\n",
       "      <td>10</td>\n",
       "      <td>0.804742</td>\n",
       "      <td>0.719058</td>\n",
       "      <td>0.750021</td>\n",
       "      <td>0.733346</td>\n",
       "    </tr>\n",
       "    <tr>\n",
       "      <th>11</th>\n",
       "      <td>11</td>\n",
       "      <td>0.804742</td>\n",
       "      <td>0.719058</td>\n",
       "      <td>0.750021</td>\n",
       "      <td>0.733346</td>\n",
       "    </tr>\n",
       "    <tr>\n",
       "      <th>12</th>\n",
       "      <td>12</td>\n",
       "      <td>0.804742</td>\n",
       "      <td>0.719058</td>\n",
       "      <td>0.750021</td>\n",
       "      <td>0.733346</td>\n",
       "    </tr>\n",
       "    <tr>\n",
       "      <th>13</th>\n",
       "      <td>13</td>\n",
       "      <td>0.804742</td>\n",
       "      <td>0.719058</td>\n",
       "      <td>0.750021</td>\n",
       "      <td>0.733346</td>\n",
       "    </tr>\n",
       "  </tbody>\n",
       "</table>\n",
       "</div>"
      ],
      "text/plain": [
       "    index  accuracy  precision    recall        f1\n",
       "0       0  0.804742   0.719058  0.750021  0.733346\n",
       "1       1  0.804742   0.719058  0.750021  0.733346\n",
       "8       8  0.804742   0.719058  0.750021  0.733346\n",
       "9       9  0.804742   0.719058  0.750021  0.733346\n",
       "10     10  0.804742   0.719058  0.750021  0.733346\n",
       "11     11  0.804742   0.719058  0.750021  0.733346\n",
       "12     12  0.804742   0.719058  0.750021  0.733346\n",
       "13     13  0.804742   0.719058  0.750021  0.733346"
      ]
     },
     "execution_count": 21,
     "metadata": {},
     "output_type": "execute_result"
    }
   ],
   "source": [
    "best_f1 = results[results[\"f1\"] == float(results[\"f1\"].max())]\n",
    "best_f1"
   ]
  },
  {
   "cell_type": "code",
   "execution_count": 22,
   "metadata": {},
   "outputs": [
    {
     "ename": "TypeError",
     "evalue": "cannot convert the series to <type 'int'>",
     "output_type": "error",
     "traceback": [
      "\u001b[1;31m---------------------------------------------------------------------------\u001b[0m",
      "\u001b[1;31mTypeError\u001b[0m                                 Traceback (most recent call last)",
      "\u001b[1;32m<ipython-input-22-13621f56fe50>\u001b[0m in \u001b[0;36m<module>\u001b[1;34m()\u001b[0m\n\u001b[1;32m----> 1\u001b[1;33m \u001b[0mclassifier\u001b[0m\u001b[1;33m[\u001b[0m\u001b[0mclassifier\u001b[0m\u001b[1;33m[\u001b[0m\u001b[1;34m\"index\"\u001b[0m\u001b[1;33m]\u001b[0m \u001b[1;33m==\u001b[0m \u001b[0mint\u001b[0m\u001b[1;33m(\u001b[0m\u001b[0mbest_f1\u001b[0m\u001b[1;33m[\u001b[0m\u001b[1;34m\"index\"\u001b[0m\u001b[1;33m]\u001b[0m\u001b[1;33m)\u001b[0m\u001b[1;33m]\u001b[0m\u001b[1;33m\u001b[0m\u001b[0m\n\u001b[0m",
      "\u001b[1;32m/home/mahjoubi/anaconda2/lib/python2.7/site-packages/pandas/core/series.pyc\u001b[0m in \u001b[0;36mwrapper\u001b[1;34m(self)\u001b[0m\n\u001b[0;32m     91\u001b[0m             \u001b[1;32mreturn\u001b[0m \u001b[0mconverter\u001b[0m\u001b[1;33m(\u001b[0m\u001b[0mself\u001b[0m\u001b[1;33m.\u001b[0m\u001b[0miloc\u001b[0m\u001b[1;33m[\u001b[0m\u001b[1;36m0\u001b[0m\u001b[1;33m]\u001b[0m\u001b[1;33m)\u001b[0m\u001b[1;33m\u001b[0m\u001b[0m\n\u001b[0;32m     92\u001b[0m         raise TypeError(\"cannot convert the series to \"\n\u001b[1;32m---> 93\u001b[1;33m                         \"{0}\".format(str(converter)))\n\u001b[0m\u001b[0;32m     94\u001b[0m \u001b[1;33m\u001b[0m\u001b[0m\n\u001b[0;32m     95\u001b[0m     \u001b[1;32mreturn\u001b[0m \u001b[0mwrapper\u001b[0m\u001b[1;33m\u001b[0m\u001b[0m\n",
      "\u001b[1;31mTypeError\u001b[0m: cannot convert the series to <type 'int'>"
     ]
    }
   ],
   "source": [
    "classifier[classifier[\"index\"] == int(best_f1[\"index\"])]"
   ]
  },
  {
   "cell_type": "code",
   "execution_count": 19,
   "metadata": {},
   "outputs": [
    {
     "data": {
      "text/html": [
       "<div>\n",
       "<table border=\"1\" class=\"dataframe\">\n",
       "  <thead>\n",
       "    <tr style=\"text-align: right;\">\n",
       "      <th></th>\n",
       "      <th>index</th>\n",
       "      <th>n_estimators</th>\n",
       "      <th>criterion</th>\n",
       "      <th>max_depth</th>\n",
       "      <th>min_samples_split</th>\n",
       "      <th>min_samples_leaf</th>\n",
       "    </tr>\n",
       "  </thead>\n",
       "  <tbody>\n",
       "    <tr>\n",
       "      <th>75</th>\n",
       "      <td>75</td>\n",
       "      <td>150</td>\n",
       "      <td>gini</td>\n",
       "      <td>15</td>\n",
       "      <td>10</td>\n",
       "      <td>5</td>\n",
       "    </tr>\n",
       "  </tbody>\n",
       "</table>\n",
       "</div>"
      ],
      "text/plain": [
       "    index  n_estimators criterion  max_depth  min_samples_split  \\\n",
       "75     75           150      gini         15                 10   \n",
       "\n",
       "    min_samples_leaf  \n",
       "75                 5  "
      ]
     },
     "execution_count": 19,
     "metadata": {},
     "output_type": "execute_result"
    }
   ],
   "source": [
    "classifier[classifier[\"index\"] == int(best_f1[\"index\"])]"
   ]
  },
  {
   "cell_type": "code",
   "execution_count": null,
   "metadata": {},
   "outputs": [],
   "source": []
  },
  {
   "cell_type": "markdown",
   "metadata": {},
   "source": [
    "## Categorical"
   ]
  },
  {
   "cell_type": "markdown",
   "metadata": {},
   "source": [
    "### All Features"
   ]
  },
  {
   "cell_type": "code",
   "execution_count": 14,
   "metadata": {},
   "outputs": [
    {
     "data": {
      "text/html": [
       "<div>\n",
       "<style scoped>\n",
       "    .dataframe tbody tr th:only-of-type {\n",
       "        vertical-align: middle;\n",
       "    }\n",
       "\n",
       "    .dataframe tbody tr th {\n",
       "        vertical-align: top;\n",
       "    }\n",
       "\n",
       "    .dataframe thead th {\n",
       "        text-align: right;\n",
       "    }\n",
       "</style>\n",
       "<table border=\"1\" class=\"dataframe\">\n",
       "  <thead>\n",
       "    <tr style=\"text-align: right;\">\n",
       "      <th></th>\n",
       "      <th>index</th>\n",
       "      <th>accuracy</th>\n",
       "      <th>precision</th>\n",
       "      <th>recall</th>\n",
       "      <th>f1</th>\n",
       "    </tr>\n",
       "  </thead>\n",
       "  <tbody>\n",
       "    <tr>\n",
       "      <th>75</th>\n",
       "      <td>75</td>\n",
       "      <td>0.714435</td>\n",
       "      <td>0.630562</td>\n",
       "      <td>0.542668</td>\n",
       "      <td>0.565676</td>\n",
       "    </tr>\n",
       "  </tbody>\n",
       "</table>\n",
       "</div>"
      ],
      "text/plain": [
       "    index  accuracy  precision    recall        f1\n",
       "75     75  0.714435   0.630562  0.542668  0.565676"
      ]
     },
     "execution_count": 14,
     "metadata": {},
     "output_type": "execute_result"
    }
   ],
   "source": [
    "classifier = pd.read_csv(os.path.join(path, \"categorical/{0}/all_features/classifier.csv\".format(estimator)))\n",
    "\n",
    "results = pd.read_csv(os.path.join(path, \"categorical/{0}/all_features/results.csv\".format(estimator)))\n",
    "\n",
    "best_f1 = results[results[\"f1\"] == float(results[\"f1\"].max())]\n",
    "\n",
    "best_f1.head()"
   ]
  },
  {
   "cell_type": "code",
   "execution_count": 15,
   "metadata": {},
   "outputs": [
    {
     "data": {
      "text/html": [
       "<div>\n",
       "<style scoped>\n",
       "    .dataframe tbody tr th:only-of-type {\n",
       "        vertical-align: middle;\n",
       "    }\n",
       "\n",
       "    .dataframe tbody tr th {\n",
       "        vertical-align: top;\n",
       "    }\n",
       "\n",
       "    .dataframe thead th {\n",
       "        text-align: right;\n",
       "    }\n",
       "</style>\n",
       "<table border=\"1\" class=\"dataframe\">\n",
       "  <thead>\n",
       "    <tr style=\"text-align: right;\">\n",
       "      <th></th>\n",
       "      <th>index</th>\n",
       "      <th>n_estimators</th>\n",
       "      <th>criterion</th>\n",
       "      <th>max_depth</th>\n",
       "      <th>min_samples_split</th>\n",
       "      <th>min_samples_leaf</th>\n",
       "    </tr>\n",
       "  </thead>\n",
       "  <tbody>\n",
       "    <tr>\n",
       "      <th>75</th>\n",
       "      <td>75</td>\n",
       "      <td>150</td>\n",
       "      <td>gini</td>\n",
       "      <td>15</td>\n",
       "      <td>10</td>\n",
       "      <td>5</td>\n",
       "    </tr>\n",
       "  </tbody>\n",
       "</table>\n",
       "</div>"
      ],
      "text/plain": [
       "    index  n_estimators criterion  max_depth  min_samples_split  \\\n",
       "75     75           150      gini         15                 10   \n",
       "\n",
       "    min_samples_leaf  \n",
       "75                 5  "
      ]
     },
     "execution_count": 15,
     "metadata": {},
     "output_type": "execute_result"
    }
   ],
   "source": [
    "classifier_continuous[classifier_continuous[\"index\"] == int(best_f1[\"index\"])]"
   ]
  },
  {
   "cell_type": "markdown",
   "metadata": {},
   "source": [
    "### Chi2 Features"
   ]
  },
  {
   "cell_type": "code",
   "execution_count": 16,
   "metadata": {},
   "outputs": [],
   "source": [
    "classifier = pd.read_csv(os.path.join(path, \"categorical/{0}/chi2_features/classifier.csv\".format(estimator)))\n",
    "\n",
    "results = pd.read_csv(os.path.join(path, \"categorical/{0}/chi2_features/results.csv\".format(estimator)))\n",
    "\n",
    "best_f1 = results[results[\"f1\"] == float(results[\"f1\"].max())]"
   ]
  },
  {
   "cell_type": "code",
   "execution_count": 17,
   "metadata": {},
   "outputs": [
    {
     "data": {
      "text/html": [
       "<div>\n",
       "<style scoped>\n",
       "    .dataframe tbody tr th:only-of-type {\n",
       "        vertical-align: middle;\n",
       "    }\n",
       "\n",
       "    .dataframe tbody tr th {\n",
       "        vertical-align: top;\n",
       "    }\n",
       "\n",
       "    .dataframe thead th {\n",
       "        text-align: right;\n",
       "    }\n",
       "</style>\n",
       "<table border=\"1\" class=\"dataframe\">\n",
       "  <thead>\n",
       "    <tr style=\"text-align: right;\">\n",
       "      <th></th>\n",
       "      <th>index</th>\n",
       "      <th>accuracy</th>\n",
       "      <th>precision</th>\n",
       "      <th>recall</th>\n",
       "      <th>f1</th>\n",
       "    </tr>\n",
       "  </thead>\n",
       "  <tbody>\n",
       "    <tr>\n",
       "      <th>78</th>\n",
       "      <td>78</td>\n",
       "      <td>0.717573</td>\n",
       "      <td>0.610852</td>\n",
       "      <td>0.563329</td>\n",
       "      <td>0.578105</td>\n",
       "    </tr>\n",
       "  </tbody>\n",
       "</table>\n",
       "</div>"
      ],
      "text/plain": [
       "    index  accuracy  precision    recall        f1\n",
       "78     78  0.717573   0.610852  0.563329  0.578105"
      ]
     },
     "execution_count": 17,
     "metadata": {},
     "output_type": "execute_result"
    }
   ],
   "source": [
    "best_f1.head()"
   ]
  },
  {
   "cell_type": "code",
   "execution_count": 18,
   "metadata": {},
   "outputs": [
    {
     "data": {
      "text/html": [
       "<div>\n",
       "<style scoped>\n",
       "    .dataframe tbody tr th:only-of-type {\n",
       "        vertical-align: middle;\n",
       "    }\n",
       "\n",
       "    .dataframe tbody tr th {\n",
       "        vertical-align: top;\n",
       "    }\n",
       "\n",
       "    .dataframe thead th {\n",
       "        text-align: right;\n",
       "    }\n",
       "</style>\n",
       "<table border=\"1\" class=\"dataframe\">\n",
       "  <thead>\n",
       "    <tr style=\"text-align: right;\">\n",
       "      <th></th>\n",
       "      <th>index</th>\n",
       "      <th>n_estimators</th>\n",
       "      <th>criterion</th>\n",
       "      <th>max_depth</th>\n",
       "      <th>min_samples_split</th>\n",
       "      <th>min_samples_leaf</th>\n",
       "    </tr>\n",
       "  </thead>\n",
       "  <tbody>\n",
       "    <tr>\n",
       "      <th>78</th>\n",
       "      <td>78</td>\n",
       "      <td>150</td>\n",
       "      <td>gini</td>\n",
       "      <td>15</td>\n",
       "      <td>15</td>\n",
       "      <td>5</td>\n",
       "    </tr>\n",
       "  </tbody>\n",
       "</table>\n",
       "</div>"
      ],
      "text/plain": [
       "    index  n_estimators criterion  max_depth  min_samples_split  \\\n",
       "78     78           150      gini         15                 15   \n",
       "\n",
       "    min_samples_leaf  \n",
       "78                 5  "
      ]
     },
     "execution_count": 18,
     "metadata": {},
     "output_type": "execute_result"
    }
   ],
   "source": [
    "classifier_continuous[classifier_continuous[\"index\"] == int(best_f1[\"index\"])]"
   ]
  },
  {
   "cell_type": "code",
   "execution_count": null,
   "metadata": {},
   "outputs": [],
   "source": []
  },
  {
   "cell_type": "code",
   "execution_count": null,
   "metadata": {},
   "outputs": [],
   "source": []
  }
 ],
 "metadata": {
  "kernelspec": {
   "display_name": "Python 2",
   "language": "python",
   "name": "python2"
  },
  "language_info": {
   "codemirror_mode": {
    "name": "ipython",
    "version": 2
   },
   "file_extension": ".py",
   "mimetype": "text/x-python",
   "name": "python",
   "nbconvert_exporter": "python",
   "pygments_lexer": "ipython2",
   "version": "2.7.14"
  }
 },
 "nbformat": 4,
 "nbformat_minor": 1
}
