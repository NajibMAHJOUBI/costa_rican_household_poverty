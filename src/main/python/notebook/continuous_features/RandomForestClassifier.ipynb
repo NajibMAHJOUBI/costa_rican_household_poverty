{
 "cells": [
  {
   "cell_type": "markdown",
   "metadata": {},
   "source": [
    "## Import package"
   ]
  },
  {
   "cell_type": "code",
   "execution_count": 1,
   "metadata": {},
   "outputs": [],
   "source": [
    "from __future__ import division\n",
    "    \n",
    "import numpy as np\n",
    "import pandas as pd\n",
    "from sklearn.ensemble import RandomForestClassifier\n",
    "from sklearn.metrics import accuracy_score, precision_score, recall_score, f1_score\n",
    "from sklearn.metrics import accuracy_score\n",
    "from sklearn.model_selection import GridSearchCV\n",
    "from sklearn.model_selection import train_test_split\n",
    "from sklearn.metrics import confusion_matrix\n",
    "import matplotlib.pyplot as plt\n",
    "%matplotlib inline\n",
    "import seaborn as sns\n",
    "from imblearn.over_sampling import ADASYN, SMOTE"
   ]
  },
  {
   "cell_type": "markdown",
   "metadata": {},
   "source": [
    "## Load dataset: Train"
   ]
  },
  {
   "cell_type": "code",
   "execution_count": 2,
   "metadata": {},
   "outputs": [],
   "source": [
    "train = pd.read_csv(\"../../../../../data/train/train.csv\")\n",
    "test = pd.read_csv(\"../../../../../data/test/test.csv\")"
   ]
  },
  {
   "cell_type": "code",
   "execution_count": 3,
   "metadata": {},
   "outputs": [
    {
     "name": "stdout",
     "output_type": "stream",
     "text": [
      "(9557, 143)\n",
      "(23856, 142)\n"
     ]
    }
   ],
   "source": [
    "print(train.shape)\n",
    "print(test.shape)"
   ]
  },
  {
   "cell_type": "code",
   "execution_count": 4,
   "metadata": {},
   "outputs": [
    {
     "data": {
      "text/html": [
       "<div>\n",
       "<style scoped>\n",
       "    .dataframe tbody tr th:only-of-type {\n",
       "        vertical-align: middle;\n",
       "    }\n",
       "\n",
       "    .dataframe tbody tr th {\n",
       "        vertical-align: top;\n",
       "    }\n",
       "\n",
       "    .dataframe thead th {\n",
       "        text-align: right;\n",
       "    }\n",
       "</style>\n",
       "<table border=\"1\" class=\"dataframe\">\n",
       "  <thead>\n",
       "    <tr style=\"text-align: right;\">\n",
       "      <th></th>\n",
       "      <th>Id</th>\n",
       "      <th>v2a1</th>\n",
       "      <th>hacdor</th>\n",
       "      <th>rooms</th>\n",
       "      <th>hacapo</th>\n",
       "      <th>v14a</th>\n",
       "      <th>refrig</th>\n",
       "      <th>v18q</th>\n",
       "      <th>v18q1</th>\n",
       "      <th>r4h1</th>\n",
       "      <th>...</th>\n",
       "      <th>SQBescolari</th>\n",
       "      <th>SQBage</th>\n",
       "      <th>SQBhogar_total</th>\n",
       "      <th>SQBedjefe</th>\n",
       "      <th>SQBhogar_nin</th>\n",
       "      <th>SQBovercrowding</th>\n",
       "      <th>SQBdependency</th>\n",
       "      <th>SQBmeaned</th>\n",
       "      <th>agesq</th>\n",
       "      <th>Target</th>\n",
       "    </tr>\n",
       "  </thead>\n",
       "  <tbody>\n",
       "    <tr>\n",
       "      <th>0</th>\n",
       "      <td>ID_279628684</td>\n",
       "      <td>190000.0</td>\n",
       "      <td>0</td>\n",
       "      <td>3</td>\n",
       "      <td>0</td>\n",
       "      <td>1</td>\n",
       "      <td>1</td>\n",
       "      <td>0</td>\n",
       "      <td>NaN</td>\n",
       "      <td>0</td>\n",
       "      <td>...</td>\n",
       "      <td>100</td>\n",
       "      <td>1849</td>\n",
       "      <td>1</td>\n",
       "      <td>100</td>\n",
       "      <td>0</td>\n",
       "      <td>1.000000</td>\n",
       "      <td>0.0</td>\n",
       "      <td>100.0</td>\n",
       "      <td>1849</td>\n",
       "      <td>4</td>\n",
       "    </tr>\n",
       "    <tr>\n",
       "      <th>1</th>\n",
       "      <td>ID_f29eb3ddd</td>\n",
       "      <td>135000.0</td>\n",
       "      <td>0</td>\n",
       "      <td>4</td>\n",
       "      <td>0</td>\n",
       "      <td>1</td>\n",
       "      <td>1</td>\n",
       "      <td>1</td>\n",
       "      <td>1.0</td>\n",
       "      <td>0</td>\n",
       "      <td>...</td>\n",
       "      <td>144</td>\n",
       "      <td>4489</td>\n",
       "      <td>1</td>\n",
       "      <td>144</td>\n",
       "      <td>0</td>\n",
       "      <td>1.000000</td>\n",
       "      <td>64.0</td>\n",
       "      <td>144.0</td>\n",
       "      <td>4489</td>\n",
       "      <td>4</td>\n",
       "    </tr>\n",
       "    <tr>\n",
       "      <th>2</th>\n",
       "      <td>ID_68de51c94</td>\n",
       "      <td>NaN</td>\n",
       "      <td>0</td>\n",
       "      <td>8</td>\n",
       "      <td>0</td>\n",
       "      <td>1</td>\n",
       "      <td>1</td>\n",
       "      <td>0</td>\n",
       "      <td>NaN</td>\n",
       "      <td>0</td>\n",
       "      <td>...</td>\n",
       "      <td>121</td>\n",
       "      <td>8464</td>\n",
       "      <td>1</td>\n",
       "      <td>0</td>\n",
       "      <td>0</td>\n",
       "      <td>0.250000</td>\n",
       "      <td>64.0</td>\n",
       "      <td>121.0</td>\n",
       "      <td>8464</td>\n",
       "      <td>4</td>\n",
       "    </tr>\n",
       "    <tr>\n",
       "      <th>3</th>\n",
       "      <td>ID_d671db89c</td>\n",
       "      <td>180000.0</td>\n",
       "      <td>0</td>\n",
       "      <td>5</td>\n",
       "      <td>0</td>\n",
       "      <td>1</td>\n",
       "      <td>1</td>\n",
       "      <td>1</td>\n",
       "      <td>1.0</td>\n",
       "      <td>0</td>\n",
       "      <td>...</td>\n",
       "      <td>81</td>\n",
       "      <td>289</td>\n",
       "      <td>16</td>\n",
       "      <td>121</td>\n",
       "      <td>4</td>\n",
       "      <td>1.777778</td>\n",
       "      <td>1.0</td>\n",
       "      <td>121.0</td>\n",
       "      <td>289</td>\n",
       "      <td>4</td>\n",
       "    </tr>\n",
       "    <tr>\n",
       "      <th>4</th>\n",
       "      <td>ID_d56d6f5f5</td>\n",
       "      <td>180000.0</td>\n",
       "      <td>0</td>\n",
       "      <td>5</td>\n",
       "      <td>0</td>\n",
       "      <td>1</td>\n",
       "      <td>1</td>\n",
       "      <td>1</td>\n",
       "      <td>1.0</td>\n",
       "      <td>0</td>\n",
       "      <td>...</td>\n",
       "      <td>121</td>\n",
       "      <td>1369</td>\n",
       "      <td>16</td>\n",
       "      <td>121</td>\n",
       "      <td>4</td>\n",
       "      <td>1.777778</td>\n",
       "      <td>1.0</td>\n",
       "      <td>121.0</td>\n",
       "      <td>1369</td>\n",
       "      <td>4</td>\n",
       "    </tr>\n",
       "  </tbody>\n",
       "</table>\n",
       "<p>5 rows × 143 columns</p>\n",
       "</div>"
      ],
      "text/plain": [
       "             Id      v2a1  hacdor  rooms  hacapo  v14a  refrig  v18q  v18q1  \\\n",
       "0  ID_279628684  190000.0       0      3       0     1       1     0    NaN   \n",
       "1  ID_f29eb3ddd  135000.0       0      4       0     1       1     1    1.0   \n",
       "2  ID_68de51c94       NaN       0      8       0     1       1     0    NaN   \n",
       "3  ID_d671db89c  180000.0       0      5       0     1       1     1    1.0   \n",
       "4  ID_d56d6f5f5  180000.0       0      5       0     1       1     1    1.0   \n",
       "\n",
       "   r4h1   ...    SQBescolari  SQBage  SQBhogar_total  SQBedjefe  SQBhogar_nin  \\\n",
       "0     0   ...            100    1849               1        100             0   \n",
       "1     0   ...            144    4489               1        144             0   \n",
       "2     0   ...            121    8464               1          0             0   \n",
       "3     0   ...             81     289              16        121             4   \n",
       "4     0   ...            121    1369              16        121             4   \n",
       "\n",
       "   SQBovercrowding  SQBdependency  SQBmeaned  agesq  Target  \n",
       "0         1.000000            0.0      100.0   1849       4  \n",
       "1         1.000000           64.0      144.0   4489       4  \n",
       "2         0.250000           64.0      121.0   8464       4  \n",
       "3         1.777778            1.0      121.0    289       4  \n",
       "4         1.777778            1.0      121.0   1369       4  \n",
       "\n",
       "[5 rows x 143 columns]"
      ]
     },
     "execution_count": 4,
     "metadata": {},
     "output_type": "execute_result"
    }
   ],
   "source": [
    "train.head(5)"
   ]
  },
  {
   "cell_type": "code",
   "execution_count": 5,
   "metadata": {},
   "outputs": [
    {
     "data": {
      "text/html": [
       "<div>\n",
       "<style scoped>\n",
       "    .dataframe tbody tr th:only-of-type {\n",
       "        vertical-align: middle;\n",
       "    }\n",
       "\n",
       "    .dataframe tbody tr th {\n",
       "        vertical-align: top;\n",
       "    }\n",
       "\n",
       "    .dataframe thead th {\n",
       "        text-align: right;\n",
       "    }\n",
       "</style>\n",
       "<table border=\"1\" class=\"dataframe\">\n",
       "  <thead>\n",
       "    <tr style=\"text-align: right;\">\n",
       "      <th></th>\n",
       "      <th>Id</th>\n",
       "      <th>v2a1</th>\n",
       "      <th>hacdor</th>\n",
       "      <th>rooms</th>\n",
       "      <th>hacapo</th>\n",
       "      <th>v14a</th>\n",
       "      <th>refrig</th>\n",
       "      <th>v18q</th>\n",
       "      <th>v18q1</th>\n",
       "      <th>r4h1</th>\n",
       "      <th>...</th>\n",
       "      <th>age</th>\n",
       "      <th>SQBescolari</th>\n",
       "      <th>SQBage</th>\n",
       "      <th>SQBhogar_total</th>\n",
       "      <th>SQBedjefe</th>\n",
       "      <th>SQBhogar_nin</th>\n",
       "      <th>SQBovercrowding</th>\n",
       "      <th>SQBdependency</th>\n",
       "      <th>SQBmeaned</th>\n",
       "      <th>agesq</th>\n",
       "    </tr>\n",
       "  </thead>\n",
       "  <tbody>\n",
       "    <tr>\n",
       "      <th>0</th>\n",
       "      <td>ID_2f6873615</td>\n",
       "      <td>NaN</td>\n",
       "      <td>0</td>\n",
       "      <td>5</td>\n",
       "      <td>0</td>\n",
       "      <td>1</td>\n",
       "      <td>1</td>\n",
       "      <td>0</td>\n",
       "      <td>NaN</td>\n",
       "      <td>1</td>\n",
       "      <td>...</td>\n",
       "      <td>4</td>\n",
       "      <td>0</td>\n",
       "      <td>16</td>\n",
       "      <td>9</td>\n",
       "      <td>0</td>\n",
       "      <td>1</td>\n",
       "      <td>2.25</td>\n",
       "      <td>0.25</td>\n",
       "      <td>272.25</td>\n",
       "      <td>16</td>\n",
       "    </tr>\n",
       "    <tr>\n",
       "      <th>1</th>\n",
       "      <td>ID_1c78846d2</td>\n",
       "      <td>NaN</td>\n",
       "      <td>0</td>\n",
       "      <td>5</td>\n",
       "      <td>0</td>\n",
       "      <td>1</td>\n",
       "      <td>1</td>\n",
       "      <td>0</td>\n",
       "      <td>NaN</td>\n",
       "      <td>1</td>\n",
       "      <td>...</td>\n",
       "      <td>41</td>\n",
       "      <td>256</td>\n",
       "      <td>1681</td>\n",
       "      <td>9</td>\n",
       "      <td>0</td>\n",
       "      <td>1</td>\n",
       "      <td>2.25</td>\n",
       "      <td>0.25</td>\n",
       "      <td>272.25</td>\n",
       "      <td>1681</td>\n",
       "    </tr>\n",
       "    <tr>\n",
       "      <th>2</th>\n",
       "      <td>ID_e5442cf6a</td>\n",
       "      <td>NaN</td>\n",
       "      <td>0</td>\n",
       "      <td>5</td>\n",
       "      <td>0</td>\n",
       "      <td>1</td>\n",
       "      <td>1</td>\n",
       "      <td>0</td>\n",
       "      <td>NaN</td>\n",
       "      <td>1</td>\n",
       "      <td>...</td>\n",
       "      <td>41</td>\n",
       "      <td>289</td>\n",
       "      <td>1681</td>\n",
       "      <td>9</td>\n",
       "      <td>0</td>\n",
       "      <td>1</td>\n",
       "      <td>2.25</td>\n",
       "      <td>0.25</td>\n",
       "      <td>272.25</td>\n",
       "      <td>1681</td>\n",
       "    </tr>\n",
       "    <tr>\n",
       "      <th>3</th>\n",
       "      <td>ID_a8db26a79</td>\n",
       "      <td>NaN</td>\n",
       "      <td>0</td>\n",
       "      <td>14</td>\n",
       "      <td>0</td>\n",
       "      <td>1</td>\n",
       "      <td>1</td>\n",
       "      <td>1</td>\n",
       "      <td>1.0</td>\n",
       "      <td>0</td>\n",
       "      <td>...</td>\n",
       "      <td>59</td>\n",
       "      <td>256</td>\n",
       "      <td>3481</td>\n",
       "      <td>1</td>\n",
       "      <td>256</td>\n",
       "      <td>0</td>\n",
       "      <td>1.00</td>\n",
       "      <td>0.00</td>\n",
       "      <td>256.00</td>\n",
       "      <td>3481</td>\n",
       "    </tr>\n",
       "    <tr>\n",
       "      <th>4</th>\n",
       "      <td>ID_a62966799</td>\n",
       "      <td>175000.0</td>\n",
       "      <td>0</td>\n",
       "      <td>4</td>\n",
       "      <td>0</td>\n",
       "      <td>1</td>\n",
       "      <td>1</td>\n",
       "      <td>1</td>\n",
       "      <td>1.0</td>\n",
       "      <td>0</td>\n",
       "      <td>...</td>\n",
       "      <td>18</td>\n",
       "      <td>121</td>\n",
       "      <td>324</td>\n",
       "      <td>1</td>\n",
       "      <td>0</td>\n",
       "      <td>1</td>\n",
       "      <td>0.25</td>\n",
       "      <td>64.00</td>\n",
       "      <td>NaN</td>\n",
       "      <td>324</td>\n",
       "    </tr>\n",
       "  </tbody>\n",
       "</table>\n",
       "<p>5 rows × 142 columns</p>\n",
       "</div>"
      ],
      "text/plain": [
       "             Id      v2a1  hacdor  rooms  hacapo  v14a  refrig  v18q  v18q1  \\\n",
       "0  ID_2f6873615       NaN       0      5       0     1       1     0    NaN   \n",
       "1  ID_1c78846d2       NaN       0      5       0     1       1     0    NaN   \n",
       "2  ID_e5442cf6a       NaN       0      5       0     1       1     0    NaN   \n",
       "3  ID_a8db26a79       NaN       0     14       0     1       1     1    1.0   \n",
       "4  ID_a62966799  175000.0       0      4       0     1       1     1    1.0   \n",
       "\n",
       "   r4h1  ...    age  SQBescolari  SQBage  SQBhogar_total  SQBedjefe  \\\n",
       "0     1  ...      4            0      16               9          0   \n",
       "1     1  ...     41          256    1681               9          0   \n",
       "2     1  ...     41          289    1681               9          0   \n",
       "3     0  ...     59          256    3481               1        256   \n",
       "4     0  ...     18          121     324               1          0   \n",
       "\n",
       "   SQBhogar_nin  SQBovercrowding  SQBdependency  SQBmeaned  agesq  \n",
       "0             1             2.25           0.25     272.25     16  \n",
       "1             1             2.25           0.25     272.25   1681  \n",
       "2             1             2.25           0.25     272.25   1681  \n",
       "3             0             1.00           0.00     256.00   3481  \n",
       "4             1             0.25          64.00        NaN    324  \n",
       "\n",
       "[5 rows x 142 columns]"
      ]
     },
     "execution_count": 5,
     "metadata": {},
     "output_type": "execute_result"
    }
   ],
   "source": [
    "test.head(5)"
   ]
  },
  {
   "cell_type": "code",
   "execution_count": 6,
   "metadata": {},
   "outputs": [
    {
     "name": "stdout",
     "output_type": "stream",
     "text": [
      "Number of numerical columns: 38\n",
      "Number of categorical columns: 102\n",
      "Number of yes/no columns: 3\n"
     ]
    }
   ],
   "source": [
    "f = open(\"../../../resources/continuousFeatures\", \"r\")\n",
    "continuous_columns = f.read().split(\",\")\n",
    "f.close()\n",
    "\n",
    "f = open(\"../../../resources/categoricalFeatures\", \"r\")\n",
    "categorical_columns = f.read().split(\",\")\n",
    "f.close()\n",
    "\n",
    "f = open(\"../../../resources/yesNoFeaturesNames\", \"r\")\n",
    "yes_no_columns = f.read().split(\",\")\n",
    "f.close()\n",
    "\n",
    "print(\"Number of numerical columns: {0}\".format(len(continuous_columns)))\n",
    "print(\"Number of categorical columns: {0}\".format(len(categorical_columns)))\n",
    "print(\"Number of yes/no columns: {0}\".format(len(yes_no_columns)))"
   ]
  },
  {
   "cell_type": "code",
   "execution_count": 7,
   "metadata": {},
   "outputs": [
    {
     "name": "stdout",
     "output_type": "stream",
     "text": [
      "(Category, Count): [(1, 755), (2, 1597), (3, 1209), (4, 5996)]\n"
     ]
    }
   ],
   "source": [
    "category, category_ount = np.unique(train[\"Target\"], return_counts=True)\n",
    "print(\"(Category, Count): {0}\".format(zip(category, category_ount)))"
   ]
  },
  {
   "cell_type": "markdown",
   "metadata": {},
   "source": [
    "## Fil Yes/No values"
   ]
  },
  {
   "cell_type": "code",
   "execution_count": 8,
   "metadata": {},
   "outputs": [],
   "source": [
    "# yes=1 and no=0\n",
    "def fill_yes_no(value):\n",
    "    if value == \"yes\":\n",
    "        return 1.0\n",
    "    elif value == \"no\":\n",
    "        return 0.0\n",
    "    else:\n",
    "        return float(value)"
   ]
  },
  {
   "cell_type": "code",
   "execution_count": 9,
   "metadata": {},
   "outputs": [],
   "source": [
    "for column in yes_no_columns:\n",
    "    train[\"new_{0}\".format(column)] = train.apply(lambda row: fill_yes_no(row[column]), axis=1)\n",
    "    test[\"new_{0}\".format(column)] = test.apply(lambda row: fill_yes_no(row[column]), axis=1)\n",
    "\n",
    "train = train.drop(yes_no_columns, axis=1)\n",
    "test = test.drop(yes_no_columns, axis=1)\n",
    "\n",
    "columns={\"new_{0}\".format(column): column for column in yes_no_columns}\n",
    "train = train.rename(index=str, columns=columns)\n",
    "test = test.rename(index=str, columns=columns)"
   ]
  },
  {
   "cell_type": "markdown",
   "metadata": {},
   "source": [
    "## Fill Nan values"
   ]
  },
  {
   "cell_type": "code",
   "execution_count": 10,
   "metadata": {},
   "outputs": [],
   "source": [
    "null_columns = train.isnull().any()"
   ]
  },
  {
   "cell_type": "code",
   "execution_count": 11,
   "metadata": {},
   "outputs": [
    {
     "data": {
      "text/plain": [
       "['v2a1', 'v18q1', 'rez_esc', 'meaneduc', 'SQBmeaned']"
      ]
     },
     "execution_count": 11,
     "metadata": {},
     "output_type": "execute_result"
    }
   ],
   "source": [
    "null_columns = train.columns[train.isnull().any()].tolist() ## continuous variables\n",
    "null_columns"
   ]
  },
  {
   "cell_type": "code",
   "execution_count": 12,
   "metadata": {},
   "outputs": [
    {
     "data": {
      "text/html": [
       "<div>\n",
       "<style scoped>\n",
       "    .dataframe tbody tr th:only-of-type {\n",
       "        vertical-align: middle;\n",
       "    }\n",
       "\n",
       "    .dataframe tbody tr th {\n",
       "        vertical-align: top;\n",
       "    }\n",
       "\n",
       "    .dataframe thead th {\n",
       "        text-align: right;\n",
       "    }\n",
       "</style>\n",
       "<table border=\"1\" class=\"dataframe\">\n",
       "  <thead>\n",
       "    <tr style=\"text-align: right;\">\n",
       "      <th></th>\n",
       "      <th>Target</th>\n",
       "      <th>v2a1</th>\n",
       "      <th>v18q1</th>\n",
       "      <th>rez_esc</th>\n",
       "      <th>meaneduc</th>\n",
       "      <th>SQBmeaned</th>\n",
       "    </tr>\n",
       "  </thead>\n",
       "  <tbody>\n",
       "    <tr>\n",
       "      <th>0</th>\n",
       "      <td>4</td>\n",
       "      <td>190000.0</td>\n",
       "      <td>NaN</td>\n",
       "      <td>NaN</td>\n",
       "      <td>10.0</td>\n",
       "      <td>100.0</td>\n",
       "    </tr>\n",
       "    <tr>\n",
       "      <th>1</th>\n",
       "      <td>4</td>\n",
       "      <td>135000.0</td>\n",
       "      <td>1.0</td>\n",
       "      <td>NaN</td>\n",
       "      <td>12.0</td>\n",
       "      <td>144.0</td>\n",
       "    </tr>\n",
       "    <tr>\n",
       "      <th>2</th>\n",
       "      <td>4</td>\n",
       "      <td>NaN</td>\n",
       "      <td>NaN</td>\n",
       "      <td>NaN</td>\n",
       "      <td>11.0</td>\n",
       "      <td>121.0</td>\n",
       "    </tr>\n",
       "    <tr>\n",
       "      <th>3</th>\n",
       "      <td>4</td>\n",
       "      <td>180000.0</td>\n",
       "      <td>1.0</td>\n",
       "      <td>1.0</td>\n",
       "      <td>11.0</td>\n",
       "      <td>121.0</td>\n",
       "    </tr>\n",
       "    <tr>\n",
       "      <th>4</th>\n",
       "      <td>4</td>\n",
       "      <td>180000.0</td>\n",
       "      <td>1.0</td>\n",
       "      <td>NaN</td>\n",
       "      <td>11.0</td>\n",
       "      <td>121.0</td>\n",
       "    </tr>\n",
       "  </tbody>\n",
       "</table>\n",
       "</div>"
      ],
      "text/plain": [
       "   Target      v2a1  v18q1  rez_esc  meaneduc  SQBmeaned\n",
       "0       4  190000.0    NaN      NaN      10.0      100.0\n",
       "1       4  135000.0    1.0      NaN      12.0      144.0\n",
       "2       4       NaN    NaN      NaN      11.0      121.0\n",
       "3       4  180000.0    1.0      1.0      11.0      121.0\n",
       "4       4  180000.0    1.0      NaN      11.0      121.0"
      ]
     },
     "execution_count": 12,
     "metadata": {},
     "output_type": "execute_result"
    }
   ],
   "source": [
    "train[[\"Target\",\"v2a1\", 'v18q1', 'rez_esc', 'meaneduc', 'SQBmeaned']].head()"
   ]
  },
  {
   "cell_type": "code",
   "execution_count": 13,
   "metadata": {},
   "outputs": [],
   "source": [
    "label_mean = train[null_columns].mean()\n",
    "# label_mean.to_dict()"
   ]
  },
  {
   "cell_type": "code",
   "execution_count": 14,
   "metadata": {},
   "outputs": [
    {
     "data": {
      "text/plain": [
       "v2a1         165231.606971\n",
       "v18q1             1.404063\n",
       "rez_esc           0.459791\n",
       "meaneduc          9.231523\n",
       "SQBmeaned       102.588867\n",
       "dtype: float64"
      ]
     },
     "execution_count": 14,
     "metadata": {},
     "output_type": "execute_result"
    }
   ],
   "source": [
    "label_mean"
   ]
  },
  {
   "cell_type": "code",
   "execution_count": 15,
   "metadata": {},
   "outputs": [],
   "source": [
    "for column in null_columns:\n",
    "    train[\"new_{0}\".format(column)] = train.apply(\n",
    "    lambda row: label_mean[column] if np.isnan(row[column]) else row[column],\n",
    "    axis=1)\n",
    "    \n",
    "    test[\"new_{0}\".format(column)] = test.apply(\n",
    "    lambda row: label_mean[column] if np.isnan(row[column]) else row[column],\n",
    "    axis=1)    \n",
    "\n",
    "train = train.drop(null_columns, axis=1)\n",
    "test = test.drop(null_columns, axis=1)\n",
    "train = train.rename(index=str, columns={\"new_{0}\".format(column): column for column in null_columns})\n",
    "test = test.rename(index=str, columns={\"new_{0}\".format(column): column for column in null_columns})"
   ]
  },
  {
   "cell_type": "markdown",
   "metadata": {},
   "source": [
    "## Standard scaled"
   ]
  },
  {
   "cell_type": "code",
   "execution_count": 16,
   "metadata": {},
   "outputs": [],
   "source": [
    "from sklearn.preprocessing import StandardScaler\n",
    "estimator = StandardScaler(copy=True, with_mean=True, with_std=True)\n",
    "model = estimator.fit(train[continuous_columns])\n",
    "X_scaled = model.transform(train[continuous_columns])\n",
    "x_test_scaled = model.transform(test[continuous_columns])"
   ]
  },
  {
   "cell_type": "markdown",
   "metadata": {},
   "source": [
    "## Train - Validation split"
   ]
  },
  {
   "cell_type": "code",
   "execution_count": 17,
   "metadata": {},
   "outputs": [],
   "source": [
    "# X_train, X_validation, y_train, y_validation = train_test_split(X_scaled, train[\"Target\"], test_size=0.2, stratify=train[\"Target\"])\n",
    "X_train, X_validation, y_train, y_validation = train_test_split(X_scaled, train[\"Target\"], test_size=0.2, stratify=train[\"Target\"])"
   ]
  },
  {
   "cell_type": "code",
   "execution_count": 18,
   "metadata": {},
   "outputs": [
    {
     "name": "stdout",
     "output_type": "stream",
     "text": [
      "((7645, 38), (7645,))\n",
      "((1912, 38), (1912,))\n"
     ]
    }
   ],
   "source": [
    "print(X_train.shape, y_train.shape)\n",
    "print(X_validation.shape, y_validation.shape)"
   ]
  },
  {
   "cell_type": "code",
   "execution_count": 19,
   "metadata": {},
   "outputs": [
    {
     "name": "stdout",
     "output_type": "stream",
     "text": [
      "(Category, Count): [(1, 604), (2, 1278), (3, 967), (4, 4796)]\n",
      "(Category, Count): [(1, 151), (2, 319), (3, 242), (4, 1200)]\n"
     ]
    }
   ],
   "source": [
    "category, category_count = np.unique(y_train, return_counts=True)\n",
    "print(\"(Category, Count): {0}\".format(zip(category, category_count)))\n",
    "      \n",
    "category, category_count = np.unique(y_validation, return_counts=True)\n",
    "print(\"(Category, Count): {0}\".format(zip(category, category_count)))     "
   ]
  },
  {
   "cell_type": "markdown",
   "metadata": {},
   "source": [
    "## Balanced datasets - SMOTE"
   ]
  },
  {
   "cell_type": "code",
   "execution_count": 20,
   "metadata": {},
   "outputs": [],
   "source": [
    "smo = SMOTE(kind=\"svm\")\n",
    "X_resampled, y_resampled = smo.fit_sample(X_train, y_train)"
   ]
  },
  {
   "cell_type": "markdown",
   "metadata": {},
   "source": [
    "## Utilities functions"
   ]
  },
  {
   "cell_type": "code",
   "execution_count": 21,
   "metadata": {},
   "outputs": [],
   "source": [
    "def all_score(y_true, y_prediction):\n",
    "    accuracy = accuracy_score(y_true, y_prediction)\n",
    "    precision = precision_score(y_true, y_prediction, average=\"macro\")\n",
    "    recall = recall_score(y_true, y_prediction, average=\"macro\")\n",
    "    f1 = f1_score(y_true, y_prediction, average=\"macro\")\n",
    "    return accuracy, precision, recall, f1"
   ]
  },
  {
   "cell_type": "code",
   "execution_count": 22,
   "metadata": {},
   "outputs": [],
   "source": [
    "def print_score(accuracy, precision, recall, f1):\n",
    "    print('Accuracy:', accuracy)\n",
    "    print('Precision:', precision)\n",
    "    print('Recall:', recall)\n",
    "    print('F1:', f1)"
   ]
  },
  {
   "cell_type": "markdown",
   "metadata": {},
   "source": [
    "## Classifier: RandomForestClassifier"
   ]
  },
  {
   "cell_type": "markdown",
   "metadata": {},
   "source": [
    "### n_estimators"
   ]
  },
  {
   "cell_type": "code",
   "execution_count": 23,
   "metadata": {},
   "outputs": [],
   "source": [
    "scores_train = {\"accuracy\": [], \"precision\": [], \n",
    "          \"recall\": [], \"f1\": []}\n",
    "scores_validation = {\"accuracy\": [], \"precision\": [], \n",
    "          \"recall\": [], \"f1\": []}\n",
    "estimators = [10, 50, 100, 200, 300, 400, 500, 600, 700, 800, 900, 1000]"
   ]
  },
  {
   "cell_type": "code",
   "execution_count": 24,
   "metadata": {},
   "outputs": [
    {
     "name": "stdout",
     "output_type": "stream",
     "text": [
      "estimator: \n",
      "10  50  100  200  300  400  500  600  700  800  900  1000 \n"
     ]
    }
   ],
   "source": [
    "print(\"estimator: \")\n",
    "for n_estimator in estimators:\n",
    "    print(\"{0} \".format(n_estimator)),\n",
    "    estimator = RandomForestClassifier(n_estimators=n_estimator)\n",
    "    model = estimator.fit(X_resampled, y_resampled)\n",
    "    \n",
    "    prediction_resampled = model.predict(X_resampled)\n",
    "    accuracy, precision, recall, f1 = all_score(y_resampled, prediction_resampled)\n",
    "    scores_train[\"accuracy\"].append(accuracy) \n",
    "    scores_train[\"precision\"].append(precision)\n",
    "    scores_train[\"recall\"].append(recall)\n",
    "    scores_train[\"f1\"].append(f1)\n",
    "    \n",
    "    prediction_validation = model.predict(X_validation)\n",
    "    accuracy, precision, recall, f1 = all_score(y_validation, prediction_validation)\n",
    "    scores_validation[\"accuracy\"].append(accuracy) \n",
    "    scores_validation[\"precision\"].append(precision)\n",
    "    scores_validation[\"recall\"].append(recall)\n",
    "    scores_validation[\"f1\"].append(f1)"
   ]
  },
  {
   "cell_type": "markdown",
   "metadata": {},
   "source": [
    "# scores"
   ]
  },
  {
   "cell_type": "code",
   "execution_count": 25,
   "metadata": {},
   "outputs": [
    {
     "data": {
      "text/plain": [
       "<matplotlib.legend.Legend at 0xab484bec>"
      ]
     },
     "execution_count": 25,
     "metadata": {},
     "output_type": "execute_result"
    },
    {
     "data": {
      "image/png": "[encoded data removed]",
      "text/plain": [
       "<Figure size 432x288 with 4 Axes>"
      ]
     },
     "metadata": {},
     "output_type": "display_data"
    }
   ],
   "source": [
    "fig, ax = plt.subplots(nrows=2, ncols=2)\n",
    "\n",
    "# ax[0][0].plot(estimators, scores_train[\"accuracy\"], c=\"r\", label=\"train\")\n",
    "ax[0][0].plot(estimators, scores_validation[\"accuracy\"], c=\"b\", label=\"validation\")\n",
    "ax[0][0].set_xlabel(\"n_estimators\")\n",
    "ax[0][0].set_title(\"Accuracy\")\n",
    "ax[0][0].legend() \n",
    "\n",
    "# ax[0][1].plot(estimators, scores_train[\"f1\"], c=\"r\", label=\"train\")\n",
    "ax[0][1].plot(estimators, scores_validation[\"f1\"], c=\"b\", label=\"validation\")\n",
    "ax[0][1].set_xlabel(\"n_estimators\")\n",
    "ax[0][1].set_title(\"F1\")\n",
    "ax[0][1].legend()\n",
    "\n",
    "# ax[1][0].plot(estimators, scores_train[\"precision\"], c=\"r\", label=\"train\")\n",
    "ax[1][0].plot(estimators, scores_validation[\"f1\"], c=\"b\", label=\"validation\")\n",
    "ax[1][0].set_xlabel(\"n_estimators\")\n",
    "ax[1][0].set_title(\"precision\")\n",
    "ax[1][0].legend()\n",
    "\n",
    "# ax[1][1].plot(estimators, scores_train[\"recall\"], c=\"r\", label=\"train\")\n",
    "ax[1][1].plot(estimators, scores_validation[\"recall\"], c=\"b\", label=\"validation\")\n",
    "ax[1][1].set_xlabel(\"n_estimators\")\n",
    "ax[1][1].set_title(\"recall\")\n",
    "ax[1][1].legend()"
   ]
  },
  {
   "cell_type": "markdown",
   "metadata": {},
   "source": [
    "### min_samples_split"
   ]
  },
  {
   "cell_type": "code",
   "execution_count": 26,
   "metadata": {},
   "outputs": [],
   "source": [
    "scores_train = {\"accuracy\": [], \"precision\": [], \n",
    "          \"recall\": [], \"f1\": []}\n",
    "scores_validation = {\"accuracy\": [], \"precision\": [], \n",
    "          \"recall\": [], \"f1\": []}\n",
    "splits = [2, 3, 4, 5, 6, 7, 8, 9]"
   ]
  },
  {
   "cell_type": "code",
   "execution_count": 27,
   "metadata": {},
   "outputs": [
    {
     "name": "stdout",
     "output_type": "stream",
     "text": [
      "split: \n",
      "2  3  4  5  6  7  8  9 \n"
     ]
    }
   ],
   "source": [
    "print(\"split: \")\n",
    "for split in splits:\n",
    "    print(\"{0} \".format(split)),\n",
    "    estimator = RandomForestClassifier(n_estimators=200, \n",
    "                                     min_samples_split=split)\n",
    "    model = estimator.fit(X_resampled, y_resampled)\n",
    "    \n",
    "    prediction_resampled = model.predict(X_resampled)\n",
    "    accuracy, precision, recall, f1 = all_score(y_resampled, prediction_resampled)\n",
    "    scores_train[\"accuracy\"].append(accuracy) \n",
    "    scores_train[\"precision\"].append(precision)\n",
    "    scores_train[\"recall\"].append(recall)\n",
    "    scores_train[\"f1\"].append(f1)\n",
    "    \n",
    "    prediction_validation = model.predict(X_validation)\n",
    "    accuracy, precision, recall, f1 = all_score(y_validation, prediction_validation)\n",
    "    scores_validation[\"accuracy\"].append(accuracy) \n",
    "    scores_validation[\"precision\"].append(precision)\n",
    "    scores_validation[\"recall\"].append(recall)\n",
    "    scores_validation[\"f1\"].append(f1)"
   ]
  },
  {
   "cell_type": "code",
   "execution_count": 28,
   "metadata": {},
   "outputs": [
    {
     "data": {
      "text/plain": [
       "<matplotlib.legend.Legend at 0xa2b971cc>"
      ]
     },
     "execution_count": 28,
     "metadata": {},
     "output_type": "execute_result"
    },
    {
     "data": {
      "image/png": "[encoded data removed]",
      "text/plain": [
       "<Figure size 432x288 with 4 Axes>"
      ]
     },
     "metadata": {},
     "output_type": "display_data"
    }
   ],
   "source": [
    "fig, ax = plt.subplots(nrows=2, ncols=2)\n",
    "\n",
    "# ax[0][0].plot(estimators, scores_train[\"accuracy\"], c=\"r\", label=\"train\")\n",
    "ax[0][0].plot(splits, scores_validation[\"accuracy\"], c=\"b\", label=\"validation\")\n",
    "ax[0][0].set_xlabel(\"n_estimators\")\n",
    "ax[0][0].set_title(\"Accuracy\")\n",
    "ax[0][0].legend() \n",
    "\n",
    "# ax[0][1].plot(estimators, scores_train[\"f1\"], c=\"r\", label=\"train\")\n",
    "ax[0][1].plot(splits, scores_validation[\"f1\"], c=\"b\", label=\"validation\")\n",
    "ax[0][1].set_xlabel(\"n_estimators\")\n",
    "ax[0][1].set_title(\"F1\")\n",
    "ax[0][1].legend()\n",
    "\n",
    "# ax[1][0].plot(estimators, scores_train[\"precision\"], c=\"r\", label=\"train\")\n",
    "ax[1][0].plot(splits, scores_validation[\"f1\"], c=\"b\", label=\"validation\")\n",
    "ax[1][0].set_xlabel(\"n_estimators\")\n",
    "ax[1][0].set_title(\"precision\")\n",
    "ax[1][0].legend()\n",
    "\n",
    "# ax[1][1].plot(estimators, scores_train[\"recall\"], c=\"r\", label=\"train\")\n",
    "ax[1][1].plot(splits, scores_validation[\"recall\"], c=\"b\", label=\"validation\")\n",
    "ax[1][1].set_xlabel(\"n_estimators\")\n",
    "ax[1][1].set_title(\"recall\")\n",
    "ax[1][1].legend()"
   ]
  },
  {
   "cell_type": "markdown",
   "metadata": {},
   "source": [
    "### min_samples_leaf"
   ]
  },
  {
   "cell_type": "code",
   "execution_count": 29,
   "metadata": {},
   "outputs": [],
   "source": [
    "scores_train = {\"accuracy\": [], \"precision\": [], \n",
    "          \"recall\": [], \"f1\": []}\n",
    "scores_validation = {\"accuracy\": [], \"precision\": [], \n",
    "          \"recall\": [], \"f1\": []}\n",
    "leafs = [2, 3, 4, 5, 6, 7, 8, 9]"
   ]
  },
  {
   "cell_type": "code",
   "execution_count": 30,
   "metadata": {},
   "outputs": [
    {
     "name": "stdout",
     "output_type": "stream",
     "text": [
      "leaf: \n",
      "2  3  4  5  6  7  8  9 \n"
     ]
    }
   ],
   "source": [
    "print(\"leaf: \")\n",
    "for leaf in leafs:\n",
    "    print(\"{0} \".format(leaf)),\n",
    "    estimator = RandomForestClassifier(n_estimators=200, \n",
    "                                     min_samples_split=3,\n",
    "                                     min_samples_leaf=leaf)\n",
    "    model = estimator.fit(X_resampled, y_resampled)\n",
    "    \n",
    "    prediction_resampled = model.predict(X_resampled)\n",
    "    accuracy, precision, recall, f1 = all_score(y_resampled, prediction_resampled)\n",
    "    scores_train[\"accuracy\"].append(accuracy) \n",
    "    scores_train[\"precision\"].append(precision)\n",
    "    scores_train[\"recall\"].append(recall)\n",
    "    scores_train[\"f1\"].append(f1)\n",
    "    \n",
    "    prediction_validation = model.predict(X_validation)\n",
    "    accuracy, precision, recall, f1 = all_score(y_validation, prediction_validation)\n",
    "    scores_validation[\"accuracy\"].append(accuracy) \n",
    "    scores_validation[\"precision\"].append(precision)\n",
    "    scores_validation[\"recall\"].append(recall)\n",
    "    scores_validation[\"f1\"].append(f1)"
   ]
  },
  {
   "cell_type": "code",
   "execution_count": 31,
   "metadata": {},
   "outputs": [
    {
     "data": {
      "text/plain": [
       "<matplotlib.legend.Legend at 0xaaee796c>"
      ]
     },
     "execution_count": 31,
     "metadata": {},
     "output_type": "execute_result"
    },
    {
     "data": {
      "image/png": "[encoded data removed]",
      "text/plain": [
       "<Figure size 432x288 with 4 Axes>"
      ]
     },
     "metadata": {},
     "output_type": "display_data"
    }
   ],
   "source": [
    "fig, ax = plt.subplots(nrows=2, ncols=2)\n",
    "\n",
    "# ax[0][0].plot(estimators, scores_train[\"accuracy\"], c=\"r\", label=\"train\")\n",
    "ax[0][0].plot(leafs, scores_validation[\"accuracy\"], c=\"b\", label=\"validation\")\n",
    "ax[0][0].set_xlabel(\"n_estimators\")\n",
    "ax[0][0].set_title(\"Accuracy\")\n",
    "ax[0][0].legend() \n",
    "\n",
    "# ax[0][1].plot(estimators, scores_train[\"f1\"], c=\"r\", label=\"train\")\n",
    "ax[0][1].plot(leafs, scores_validation[\"f1\"], c=\"b\", label=\"validation\")\n",
    "ax[0][1].set_xlabel(\"n_estimators\")\n",
    "ax[0][1].set_title(\"F1\")\n",
    "ax[0][1].legend()\n",
    "\n",
    "# ax[1][0].plot(estimators, scores_train[\"precision\"], c=\"r\", label=\"train\")\n",
    "ax[1][0].plot(leafs, scores_validation[\"f1\"], c=\"b\", label=\"validation\")\n",
    "ax[1][0].set_xlabel(\"n_estimators\")\n",
    "ax[1][0].set_title(\"precision\")\n",
    "ax[1][0].legend()\n",
    "\n",
    "# ax[1][1].plot(estimators, scores_train[\"recall\"], c=\"r\", label=\"train\")\n",
    "ax[1][1].plot(leafs, scores_validation[\"recall\"], c=\"b\", label=\"validation\")\n",
    "ax[1][1].set_xlabel(\"n_estimators\")\n",
    "ax[1][1].set_title(\"recall\")\n",
    "ax[1][1].legend()"
   ]
  },
  {
   "cell_type": "markdown",
   "metadata": {},
   "source": [
    "### max_depth"
   ]
  },
  {
   "cell_type": "code",
   "execution_count": 32,
   "metadata": {},
   "outputs": [],
   "source": [
    "scores_train = {\"accuracy\": [], \"precision\": [], \n",
    "          \"recall\": [], \"f1\": []}\n",
    "scores_validation = {\"accuracy\": [], \"precision\": [], \n",
    "          \"recall\": [], \"f1\": []}\n",
    "depths = [1, 5, 10, 15, 20, 25, 30, 35, 40]"
   ]
  },
  {
   "cell_type": "code",
   "execution_count": 33,
   "metadata": {},
   "outputs": [
    {
     "name": "stdout",
     "output_type": "stream",
     "text": [
      "depth: \n",
      "1  5  10  15  20  25  30  35  40 \n"
     ]
    }
   ],
   "source": [
    "print(\"depth: \")\n",
    "for depth in depths:\n",
    "    print(\"{0} \".format(depth)),\n",
    "    estimator = RandomForestClassifier(n_estimators=200, \n",
    "                                     min_samples_split=3,\n",
    "                                     min_samples_leaf=2,\n",
    "                                     max_depth=depth)\n",
    "    model = estimator.fit(X_resampled, y_resampled)\n",
    "    \n",
    "    prediction_resampled = model.predict(X_resampled)\n",
    "    accuracy, precision, recall, f1 = all_score(y_resampled, prediction_resampled)\n",
    "    scores_train[\"accuracy\"].append(accuracy) \n",
    "    scores_train[\"precision\"].append(precision)\n",
    "    scores_train[\"recall\"].append(recall)\n",
    "    scores_train[\"f1\"].append(f1)\n",
    "    \n",
    "    prediction_validation = model.predict(X_validation)\n",
    "    accuracy, precision, recall, f1 = all_score(y_validation, prediction_validation)\n",
    "    scores_validation[\"accuracy\"].append(accuracy) \n",
    "    scores_validation[\"precision\"].append(precision)\n",
    "    scores_validation[\"recall\"].append(recall)\n",
    "    scores_validation[\"f1\"].append(f1)"
   ]
  },
  {
   "cell_type": "code",
   "execution_count": 34,
   "metadata": {},
   "outputs": [
    {
     "data": {
      "text/plain": [
       "<matplotlib.legend.Legend at 0xaae2de0c>"
      ]
     },
     "execution_count": 34,
     "metadata": {},
     "output_type": "execute_result"
    },
    {
     "data": {
      "image/png": "[encoded data removed]",
      "text/plain": [
       "<Figure size 432x288 with 4 Axes>"
      ]
     },
     "metadata": {},
     "output_type": "display_data"
    }
   ],
   "source": [
    "fig, ax = plt.subplots(nrows=2, ncols=2)\n",
    "\n",
    "# ax[0][0].plot(estimators, scores_train[\"accuracy\"], c=\"r\", label=\"train\")\n",
    "ax[0][0].plot(depths, scores_validation[\"accuracy\"], c=\"b\", label=\"validation\")\n",
    "ax[0][0].set_xlabel(\"n_estimators\")\n",
    "ax[0][0].set_title(\"Accuracy\")\n",
    "ax[0][0].legend() \n",
    "\n",
    "# ax[0][1].plot(estimators, scores_train[\"f1\"], c=\"r\", label=\"train\")\n",
    "ax[0][1].plot(depths, scores_validation[\"f1\"], c=\"b\", label=\"validation\")\n",
    "ax[0][1].set_xlabel(\"n_estimators\")\n",
    "ax[0][1].set_title(\"F1\")\n",
    "ax[0][1].legend()\n",
    "\n",
    "# ax[1][0].plot(estimators, scores_train[\"precision\"], c=\"r\", label=\"train\")\n",
    "ax[1][0].plot(depths, scores_validation[\"f1\"], c=\"b\", label=\"validation\")\n",
    "ax[1][0].set_xlabel(\"n_estimators\")\n",
    "ax[1][0].set_title(\"precision\")\n",
    "ax[1][0].legend()\n",
    "\n",
    "# ax[1][1].plot(estimators, scores_train[\"recall\"], c=\"r\", label=\"train\")\n",
    "ax[1][1].plot(depths, scores_validation[\"recall\"], c=\"b\", label=\"validation\")\n",
    "ax[1][1].set_xlabel(\"n_estimators\")\n",
    "ax[1][1].set_title(\"recall\")\n",
    "ax[1][1].legend()"
   ]
  },
  {
   "cell_type": "markdown",
   "metadata": {},
   "source": [
    "## Test submission"
   ]
  },
  {
   "cell_type": "code",
   "execution_count": null,
   "metadata": {},
   "outputs": [],
   "source": []
  },
  {
   "cell_type": "code",
   "execution_count": 40,
   "metadata": {},
   "outputs": [],
   "source": [
    "estimator = RandomForestClassifier(n_estimators=300, \n",
    "                                     min_samples_split=2,\n",
    "                                     min_samples_leaf=2,\n",
    "                                     max_depth=30)\n",
    "model = estimator.fit(X_resampled, y_resampled)\n",
    "prediction = model.predict(x_test_scaled)"
   ]
  },
  {
   "cell_type": "code",
   "execution_count": 41,
   "metadata": {},
   "outputs": [],
   "source": [
    "id_kaggle = test[\"Id\"]\n",
    "d = {\"Id\": id_kaggle, \"Target\": prediction}\n",
    "data = pd.DataFrame(d)"
   ]
  },
  {
   "cell_type": "code",
   "execution_count": 42,
   "metadata": {},
   "outputs": [
    {
     "data": {
      "text/html": [
       "<div>\n",
       "<style scoped>\n",
       "    .dataframe tbody tr th:only-of-type {\n",
       "        vertical-align: middle;\n",
       "    }\n",
       "\n",
       "    .dataframe tbody tr th {\n",
       "        vertical-align: top;\n",
       "    }\n",
       "\n",
       "    .dataframe thead th {\n",
       "        text-align: right;\n",
       "    }\n",
       "</style>\n",
       "<table border=\"1\" class=\"dataframe\">\n",
       "  <thead>\n",
       "    <tr style=\"text-align: right;\">\n",
       "      <th></th>\n",
       "      <th>Id</th>\n",
       "      <th>Target</th>\n",
       "    </tr>\n",
       "  </thead>\n",
       "  <tbody>\n",
       "    <tr>\n",
       "      <th>0</th>\n",
       "      <td>ID_2f6873615</td>\n",
       "      <td>4</td>\n",
       "    </tr>\n",
       "    <tr>\n",
       "      <th>1</th>\n",
       "      <td>ID_1c78846d2</td>\n",
       "      <td>4</td>\n",
       "    </tr>\n",
       "    <tr>\n",
       "      <th>2</th>\n",
       "      <td>ID_e5442cf6a</td>\n",
       "      <td>4</td>\n",
       "    </tr>\n",
       "  </tbody>\n",
       "</table>\n",
       "</div>"
      ],
      "text/plain": [
       "             Id  Target\n",
       "0  ID_2f6873615       4\n",
       "1  ID_1c78846d2       4\n",
       "2  ID_e5442cf6a       4"
      ]
     },
     "execution_count": 42,
     "metadata": {},
     "output_type": "execute_result"
    }
   ],
   "source": [
    "data.head(3)"
   ]
  },
  {
   "cell_type": "code",
   "execution_count": 43,
   "metadata": {},
   "outputs": [
    {
     "data": {
      "text/html": [
       "<div>\n",
       "<style scoped>\n",
       "    .dataframe tbody tr th:only-of-type {\n",
       "        vertical-align: middle;\n",
       "    }\n",
       "\n",
       "    .dataframe tbody tr th {\n",
       "        vertical-align: top;\n",
       "    }\n",
       "\n",
       "    .dataframe thead th {\n",
       "        text-align: right;\n",
       "    }\n",
       "</style>\n",
       "<table border=\"1\" class=\"dataframe\">\n",
       "  <thead>\n",
       "    <tr style=\"text-align: right;\">\n",
       "      <th></th>\n",
       "      <th>Id</th>\n",
       "    </tr>\n",
       "    <tr>\n",
       "      <th>Target</th>\n",
       "      <th></th>\n",
       "    </tr>\n",
       "  </thead>\n",
       "  <tbody>\n",
       "    <tr>\n",
       "      <th>1</th>\n",
       "      <td>1609</td>\n",
       "    </tr>\n",
       "    <tr>\n",
       "      <th>2</th>\n",
       "      <td>4162</td>\n",
       "    </tr>\n",
       "    <tr>\n",
       "      <th>3</th>\n",
       "      <td>1966</td>\n",
       "    </tr>\n",
       "    <tr>\n",
       "      <th>4</th>\n",
       "      <td>16119</td>\n",
       "    </tr>\n",
       "  </tbody>\n",
       "</table>\n",
       "</div>"
      ],
      "text/plain": [
       "           Id\n",
       "Target       \n",
       "1        1609\n",
       "2        4162\n",
       "3        1966\n",
       "4       16119"
      ]
     },
     "execution_count": 43,
     "metadata": {},
     "output_type": "execute_result"
    }
   ],
   "source": [
    "data.groupby([\"Target\"]).count()"
   ]
  },
  {
   "cell_type": "code",
   "execution_count": 39,
   "metadata": {},
   "outputs": [],
   "source": [
    "data.to_csv(\"submission.csv\", index=False)"
   ]
  },
  {
   "cell_type": "code",
   "execution_count": 44,
   "metadata": {},
   "outputs": [],
   "source": [
    "prediction_validation = model.predict(X_validation)"
   ]
  },
  {
   "cell_type": "code",
   "execution_count": 45,
   "metadata": {},
   "outputs": [
    {
     "name": "stdout",
     "output_type": "stream",
     "text": [
      "[[ 113   15    4   19]\n",
      " [   8  249   11   51]\n",
      " [  10   22  159   51]\n",
      " [   7   28   29 1136]]\n"
     ]
    }
   ],
   "source": [
    "confusion_mc = confusion_matrix(y_validation, prediction_validation)\n",
    "print confusion_mc"
   ]
  },
  {
   "cell_type": "code",
   "execution_count": 46,
   "metadata": {},
   "outputs": [
    {
     "data": {
      "text/plain": [
       "<matplotlib.axes._subplots.AxesSubplot at 0xaae1518c>"
      ]
     },
     "execution_count": 46,
     "metadata": {},
     "output_type": "execute_result"
    },
    {
     "data": {
      "image/png": "[encoded data removed]",
      "text/plain": [
       "<Figure size 432x432 with 2 Axes>"
      ]
     },
     "metadata": {},
     "output_type": "display_data"
    }
   ],
   "source": [
    "# convert to a dataframe\n",
    "df_cm = pd.DataFrame(confusion_mc,\n",
    "                     index = [i for i in range(0,4)],\n",
    "                     columns = [i for i in range(0,4)])\n",
    "# plot graph\n",
    "plt.figure(figsize=(6,6)) # define graph\n",
    "sns.heatmap(df_cm, annot=True) # draw heatmap, add annotation"
   ]
  },
  {
   "cell_type": "code",
   "execution_count": 47,
   "metadata": {},
   "outputs": [],
   "source": [
    "accuracy, precision, recall, f1 = all_score(y_validation, prediction_validation)"
   ]
  },
  {
   "cell_type": "code",
   "execution_count": 48,
   "metadata": {},
   "outputs": [
    {
     "data": {
      "text/plain": [
       "(0.8666317991631799, 0.824706125766862, 0.7831500235597268, 0.8020121111282721)"
      ]
     },
     "execution_count": 48,
     "metadata": {},
     "output_type": "execute_result"
    }
   ],
   "source": [
    "accuracy, precision, recall, f1"
   ]
  },
  {
   "cell_type": "code",
   "execution_count": null,
   "metadata": {},
   "outputs": [],
   "source": []
  }
 ],
 "metadata": {
  "kernelspec": {
   "display_name": "Python 2",
   "language": "python",
   "name": "python2"
  },
  "language_info": {
   "codemirror_mode": {
    "name": "ipython",
    "version": 2
   },
   "file_extension": ".py",
   "mimetype": "text/x-python",
   "name": "python",
   "nbconvert_exporter": "python",
   "pygments_lexer": "ipython2",
   "version": "2.7.14"
  }
 },
 "nbformat": 4,
 "nbformat_minor": 1
}
