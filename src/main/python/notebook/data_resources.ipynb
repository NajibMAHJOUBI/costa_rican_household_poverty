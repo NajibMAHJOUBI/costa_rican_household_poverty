{
 "cells": [
  {
   "cell_type": "code",
   "execution_count": 1,
   "metadata": {},
   "outputs": [],
   "source": [
    "from pyspark.sql.functions import col\n",
    "from pyspark.sql.types import FloatType, IntegerType, StringType, DoubleType\n",
    "from pyspark.sql.types import StructField, StructType\n",
    "from pyspark.sql.functions import udf, col"
   ]
  },
  {
   "cell_type": "markdown",
   "metadata": {},
   "source": [
    "## loadDataSet"
   ]
  },
  {
   "cell_type": "code",
   "execution_count": 15,
   "metadata": {},
   "outputs": [],
   "source": [
    "data = [(1, 1.0, \"a\"), (2, 2.0, \"b\")]"
   ]
  },
  {
   "cell_type": "code",
   "execution_count": 16,
   "metadata": {},
   "outputs": [],
   "source": [
    "schema = StructType([\n",
    "    StructField(\"int\", IntegerType(), True),\n",
    "    StructField(\"float\", FloatType(), True),\n",
    "    StructField(\"string\", StringType(), True)])"
   ]
  },
  {
   "cell_type": "code",
   "execution_count": 17,
   "metadata": {},
   "outputs": [
    {
     "name": "stdout",
     "output_type": "stream",
     "text": [
      "+---+-----+------+\n",
      "|int|float|string|\n",
      "+---+-----+------+\n",
      "|  1|  1.0|     a|\n",
      "|  2|  2.0|     b|\n",
      "+---+-----+------+\n",
      "\n"
     ]
    }
   ],
   "source": [
    "df = spark.createDataFrame(data, schema=schema)\n",
    "df.show()"
   ]
  },
  {
   "cell_type": "code",
   "execution_count": 18,
   "metadata": {},
   "outputs": [
    {
     "name": "stdout",
     "output_type": "stream",
     "text": [
      "root\n",
      " |-- int: integer (nullable = true)\n",
      " |-- float: float (nullable = true)\n",
      " |-- string: string (nullable = true)\n",
      "\n"
     ]
    }
   ],
   "source": [
    "df.printSchema()"
   ]
  },
  {
   "cell_type": "code",
   "execution_count": 19,
   "metadata": {},
   "outputs": [],
   "source": [
    "df.write.csv(\"../../../test/resources/loadDataSet/\", header=True)"
   ]
  },
  {
   "cell_type": "markdown",
   "metadata": {},
   "source": [
    "## replacementNoneValues"
   ]
  },
  {
   "cell_type": "code",
   "execution_count": 17,
   "metadata": {},
   "outputs": [],
   "source": [
    "data = [(100, 1.0, 2), (100, 2.0, 4), (100, None, None), (200, 1.0, 1), (200, 1.0, 1)]"
   ]
  },
  {
   "cell_type": "code",
   "execution_count": 18,
   "metadata": {},
   "outputs": [],
   "source": [
    "schema = StructType([\n",
    "    StructField(\"target\", IntegerType(), True),\n",
    "    StructField(\"x\", FloatType(), True),\n",
    "    StructField(\"y\", IntegerType(), True)])"
   ]
  },
  {
   "cell_type": "code",
   "execution_count": 19,
   "metadata": {},
   "outputs": [
    {
     "name": "stdout",
     "output_type": "stream",
     "text": [
      "+------+----+----+\n",
      "|target|   x|   y|\n",
      "+------+----+----+\n",
      "|   100| 1.0|   2|\n",
      "|   100| 2.0|   4|\n",
      "|   100|null|null|\n",
      "|   200| 1.0|   1|\n",
      "|   200| 1.0|   1|\n",
      "+------+----+----+\n",
      "\n"
     ]
    }
   ],
   "source": [
    "df = spark.createDataFrame(data, schema=schema)\n",
    "df.show()"
   ]
  },
  {
   "cell_type": "code",
   "execution_count": 21,
   "metadata": {},
   "outputs": [],
   "source": [
    "df.coalesce(1).write.mode(\"overwrite\").csv(\"../../../test/resources/replacementNoneValues\", header=True)"
   ]
  },
  {
   "cell_type": "code",
   "execution_count": 15,
   "metadata": {},
   "outputs": [
    {
     "name": "stdout",
     "output_type": "stream",
     "text": [
      "root\n",
      " |-- target: integer (nullable = true)\n",
      " |-- x: float (nullable = true)\n",
      " |-- y: integer (nullable = true)\n",
      "\n"
     ]
    }
   ],
   "source": [
    "df.printSchema()"
   ]
  },
  {
   "cell_type": "code",
   "execution_count": 16,
   "metadata": {},
   "outputs": [
    {
     "name": "stdout",
     "output_type": "stream",
     "text": [
      "+------+---+---+\n",
      "|target|  x|  y|\n",
      "+------+---+---+\n",
      "|   100|1.5|3.0|\n",
      "|   200|1.0|1.0|\n",
      "+------+---+---+\n",
      "\n"
     ]
    }
   ],
   "source": [
    "(df\n",
    " .groupBy(\"target\").mean(\"x\", \"y\")\n",
    " .withColumnRenamed(\"avg(x)\", \"x\")\n",
    " .withColumnRenamed(\"avg(y)\", \"y\")\n",
    " .show())"
   ]
  },
  {
   "cell_type": "markdown",
   "metadata": {},
   "source": [
    "## replacementYesNoValues"
   ]
  },
  {
   "cell_type": "code",
   "execution_count": 1,
   "metadata": {},
   "outputs": [],
   "source": [
    "data = [(100, 1.0, 2), (100, 2.0, 4), (100, \"yes\", \"no\"), (200, 1.0, 1), (200, 1.0, 1)]"
   ]
  },
  {
   "cell_type": "code",
   "execution_count": 4,
   "metadata": {},
   "outputs": [],
   "source": [
    "schema = StructType([\n",
    "    StructField(\"target\", IntegerType(), True),\n",
    "    StructField(\"x\", StringType(), True),\n",
    "    StructField(\"y\", StringType(), True)])"
   ]
  },
  {
   "cell_type": "code",
   "execution_count": 5,
   "metadata": {},
   "outputs": [
    {
     "name": "stdout",
     "output_type": "stream",
     "text": [
      "+------+---+---+\n",
      "|target|  x|  y|\n",
      "+------+---+---+\n",
      "|   100|1.0|  2|\n",
      "|   100|2.0|  4|\n",
      "|   100|yes| no|\n",
      "|   200|1.0|  1|\n",
      "|   200|1.0|  1|\n",
      "+------+---+---+\n",
      "\n"
     ]
    }
   ],
   "source": [
    "df = spark.createDataFrame(data, schema=schema)\n",
    "df.show()"
   ]
  },
  {
   "cell_type": "code",
   "execution_count": 6,
   "metadata": {},
   "outputs": [
    {
     "name": "stdout",
     "output_type": "stream",
     "text": [
      "root\n",
      " |-- target: integer (nullable = true)\n",
      " |-- x: string (nullable = true)\n",
      " |-- y: string (nullable = true)\n",
      "\n"
     ]
    }
   ],
   "source": [
    "df.printSchema()"
   ]
  },
  {
   "cell_type": "code",
   "execution_count": 7,
   "metadata": {},
   "outputs": [],
   "source": [
    "df.coalesce(1).write.mode(\"overwrite\").csv(\"../../../test/resources/replacementYesNoValues\", header=True)"
   ]
  },
  {
   "cell_type": "markdown",
   "metadata": {},
   "source": [
    "## DefineLabelFeatures"
   ]
  },
  {
   "cell_type": "code",
   "execution_count": 2,
   "metadata": {},
   "outputs": [],
   "source": [
    "data = [(\"a\", 0, 1.0, 2.0), \n",
    "        (\"b\", 0, 2.0, 4.0), \n",
    "        (\"c\", 1, 1.0, 1.0), \n",
    "        (\"d\", 1, 1.0, 1.0)]"
   ]
  },
  {
   "cell_type": "code",
   "execution_count": 3,
   "metadata": {},
   "outputs": [],
   "source": [
    "schema = StructType([\n",
    "    StructField(\"id\", StringType(), True),\n",
    "    StructField(\"target\", IntegerType(), True),\n",
    "    StructField(\"x\", FloatType(), True),\n",
    "    StructField(\"y\", FloatType(), True)])"
   ]
  },
  {
   "cell_type": "code",
   "execution_count": 4,
   "metadata": {},
   "outputs": [
    {
     "name": "stdout",
     "output_type": "stream",
     "text": [
      "+---+------+---+---+\n",
      "| id|target|  x|  y|\n",
      "+---+------+---+---+\n",
      "|  a|     0|1.0|2.0|\n",
      "|  b|     0|2.0|4.0|\n",
      "|  c|     1|1.0|1.0|\n",
      "|  d|     1|1.0|1.0|\n",
      "+---+------+---+---+\n",
      "\n"
     ]
    }
   ],
   "source": [
    "df = spark.createDataFrame(data, schema=schema)\n",
    "df.show()"
   ]
  },
  {
   "cell_type": "code",
   "execution_count": 5,
   "metadata": {},
   "outputs": [],
   "source": [
    "df.coalesce(1).write.mode(\"overwrite\").csv(\"../../../test/resources/defineLabelFeatures\", header=True)"
   ]
  },
  {
   "cell_type": "markdown",
   "metadata": {},
   "source": [
    "## String Indexer"
   ]
  },
  {
   "cell_type": "code",
   "execution_count": 5,
   "metadata": {},
   "outputs": [],
   "source": [
    "data = [(\"0\",), (\"10\",), (\"5\",), (\"11\",)]"
   ]
  },
  {
   "cell_type": "code",
   "execution_count": 6,
   "metadata": {},
   "outputs": [],
   "source": [
    "schema = StructType([\n",
    "    StructField(\"target\", StringType(), True),])"
   ]
  },
  {
   "cell_type": "code",
   "execution_count": 7,
   "metadata": {},
   "outputs": [
    {
     "name": "stdout",
     "output_type": "stream",
     "text": [
      "+------+\n",
      "|target|\n",
      "+------+\n",
      "|     0|\n",
      "|    10|\n",
      "|     5|\n",
      "|    11|\n",
      "+------+\n",
      "\n"
     ]
    }
   ],
   "source": [
    "df = spark.createDataFrame(data, schema=schema)\n",
    "df.show()"
   ]
  },
  {
   "cell_type": "code",
   "execution_count": 8,
   "metadata": {},
   "outputs": [
    {
     "name": "stdout",
     "output_type": "stream",
     "text": [
      "root\n",
      " |-- target: string (nullable = true)\n",
      "\n"
     ]
    }
   ],
   "source": [
    "df.printSchema()"
   ]
  },
  {
   "cell_type": "code",
   "execution_count": 9,
   "metadata": {},
   "outputs": [],
   "source": [
    "df.coalesce(1).write.mode(\"overwrite\").csv(\"../../../test/resources/stringIndexer\", header=True)"
   ]
  },
  {
   "cell_type": "markdown",
   "metadata": {},
   "source": [
    "## adaBoost"
   ]
  },
  {
   "cell_type": "code",
   "execution_count": 3,
   "metadata": {},
   "outputs": [
    {
     "name": "stdout",
     "output_type": "stream",
     "text": [
      "+---+------+-----------------+\n",
      "| id|target|         features|\n",
      "+---+------+-----------------+\n",
      "|  a|     0|[1.0,2.0,1.0,2.0]|\n",
      "|  b|     0|[2.0,4.0,2.0,4.0]|\n",
      "|  c|     1|[1.0,1.0,1.0,1.0]|\n",
      "|  d|     1|[1.0,1.0,1.0,1.0]|\n",
      "+---+------+-----------------+\n",
      "\n"
     ]
    }
   ],
   "source": [
    "data = spark.read.parquet(\"/home/ubuntu/Documents/costa_rican_household_poverty/src/test/resources/classificationTask\")\n",
    "data.show()"
   ]
  },
  {
   "cell_type": "code",
   "execution_count": 4,
   "metadata": {},
   "outputs": [],
   "source": [
    "dic_weight = spark.sparkContext.broadcast({\"a\": 0.1, \"b\": 0.2, \"c\": 0.3, \"d\": 0.4})\n",
    "dic_prediction = spark.sparkContext.broadcast({\"a\": 1, \"b\": 0, \"c\": 1, \"d\": 0})\n",
    "\n",
    "set_weight = udf(lambda id_: dic_weight.value[id_], DoubleType())\n",
    "set_prediction = udf(lambda id_: dic_prediction.value[id_], IntegerType())"
   ]
  },
  {
   "cell_type": "code",
   "execution_count": 5,
   "metadata": {},
   "outputs": [
    {
     "name": "stdout",
     "output_type": "stream",
     "text": [
      "+---+------+-----------------+----------+------+\n",
      "| id|target|         features|prediction|weight|\n",
      "+---+------+-----------------+----------+------+\n",
      "|  a|     0|[1.0,2.0,1.0,2.0]|         1|   0.1|\n",
      "|  b|     0|[2.0,4.0,2.0,4.0]|         0|   0.2|\n",
      "|  c|     1|[1.0,1.0,1.0,1.0]|         1|   0.3|\n",
      "|  d|     1|[1.0,1.0,1.0,1.0]|         0|   0.4|\n",
      "+---+------+-----------------+----------+------+\n",
      "\n"
     ]
    }
   ],
   "source": [
    "data = data.withColumn(\"prediction\", set_prediction(col(\"id\"))).withColumn(\"weight\", set_weight(col(\"id\")))\n",
    "data.show()"
   ]
  },
  {
   "cell_type": "code",
   "execution_count": 7,
   "metadata": {},
   "outputs": [],
   "source": [
    "(data.select(col(\"id\"), col(\"target\").cast(\"double\"),col(\"features\"))\n",
    ".write.mode(\"overwrite\").parquet(\"../../../test/resources/adaBoost\"))"
   ]
  },
  {
   "cell_type": "code",
   "execution_count": null,
   "metadata": {},
   "outputs": [],
   "source": []
  }
 ],
 "metadata": {
  "kernelspec": {
   "display_name": "Python 2",
   "language": "python",
   "name": "python2"
  },
  "language_info": {
   "codemirror_mode": {
    "name": "ipython",
    "version": 2
   },
   "file_extension": ".py",
   "mimetype": "text/x-python",
   "name": "python",
   "nbconvert_exporter": "python",
   "pygments_lexer": "ipython2",
   "version": "2.7.14"
  }
 },
 "nbformat": 4,
 "nbformat_minor": 2
}
