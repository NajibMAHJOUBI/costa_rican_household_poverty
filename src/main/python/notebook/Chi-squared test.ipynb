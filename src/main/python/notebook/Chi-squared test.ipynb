{
 "cells": [
  {
   "cell_type": "code",
   "execution_count": 1,
   "metadata": {},
   "outputs": [],
   "source": []
  },
  {
   "cell_type": "code",
   "execution_count": 66,
   "metadata": {},
   "outputs": [],
   "source": [
    "from pyspark.ml.linalg import Vectors, Vector, VectorUDT\n",
    "from pyspark.sql.types import ArrayType, DoubleType, IntegerType\n",
    "from pyspark.ml.stat import ChiSquareTest\n",
    "from pyspark.ml.feature import ChiSqSelector\n",
    "from pyspark.sql.functions import udf, col\n",
    "from pyspark.sql import Row\n",
    "\n",
    "import numpy as np\n",
    "from scipy import stats"
   ]
  },
  {
   "cell_type": "markdown",
   "metadata": {},
   "source": [
    "## Case study test f the chi square test"
   ]
  },
  {
   "cell_type": "code",
   "execution_count": 4,
   "metadata": {},
   "outputs": [],
   "source": [
    "dataset = [[0, Vectors.dense([0, 0, 1])],\n",
    "           [0, Vectors.dense([1, 0, 1])],\n",
    "           [1, Vectors.dense([2, 1, 1])],\n",
    "           [1, Vectors.dense([3, 1, 1])]]"
   ]
  },
  {
   "cell_type": "code",
   "execution_count": 5,
   "metadata": {},
   "outputs": [],
   "source": [
    "dataset = spark.createDataFrame(dataset, [\"label\", \"features\"])\n",
    "chiSqResult = ChiSquareTest.test(dataset, 'features', 'label')"
   ]
  },
  {
   "cell_type": "code",
   "execution_count": 8,
   "metadata": {},
   "outputs": [
    {
     "name": "stdout",
     "output_type": "stream",
     "text": [
      "+--------------------------------------------+----------------+-------------+\n",
      "|pValues                                     |degreesOfFreedom|statistics   |\n",
      "+--------------------------------------------+----------------+-------------+\n",
      "|[0.2614641299491107,0.04550026389635764,1.0]|[3, 1, 0]       |[4.0,4.0,0.0]|\n",
      "+--------------------------------------------+----------------+-------------+\n",
      "\n"
     ]
    }
   ],
   "source": [
    "chiSqResult.show(truncate=False)"
   ]
  },
  {
   "cell_type": "code",
   "execution_count": 11,
   "metadata": {},
   "outputs": [],
   "source": [
    "obs = np.array([[1,1,0,0], [0,0,1,1]])"
   ]
  },
  {
   "cell_type": "code",
   "execution_count": 12,
   "metadata": {},
   "outputs": [
    {
     "data": {
      "text/plain": [
       "(4.0, 0.26146412994911117, 3, array([[ 0.5,  0.5,  0.5,  0.5],\n",
       "        [ 0.5,  0.5,  0.5,  0.5]]))"
      ]
     },
     "execution_count": 12,
     "metadata": {},
     "output_type": "execute_result"
    }
   ],
   "source": [
    "stats.chi2_contingency(obs)"
   ]
  },
  {
   "cell_type": "code",
   "execution_count": 44,
   "metadata": {},
   "outputs": [],
   "source": [
    "selector = (ChiSqSelector()\n",
    "            .setSelectorType(\"fpr\")\n",
    "            .setFpr(0.5)\n",
    "            .setFeaturesCol(\"features\")\n",
    "            .setLabelCol(\"label\")\n",
    "            .setOutputCol(\"selectedFeatures\"))"
   ]
  },
  {
   "cell_type": "code",
   "execution_count": 45,
   "metadata": {},
   "outputs": [
    {
     "data": {
      "text/plain": [
       "DataFrame[label: bigint, features: vector, selectedFeatures: vector]"
      ]
     },
     "execution_count": 45,
     "metadata": {},
     "output_type": "execute_result"
    }
   ],
   "source": [
    "selector.fit(dataset).transform(dataset)"
   ]
  },
  {
   "cell_type": "code",
   "execution_count": 47,
   "metadata": {},
   "outputs": [
    {
     "name": "stdout",
     "output_type": "stream",
     "text": [
      "+-----+-------------+----------------+\n",
      "|label|     features|selectedFeatures|\n",
      "+-----+-------------+----------------+\n",
      "|    0|[0.0,0.0,1.0]|       [0.0,0.0]|\n",
      "|    0|[1.0,0.0,1.0]|       [1.0,0.0]|\n",
      "|    1|[2.0,1.0,1.0]|       [2.0,1.0]|\n",
      "|    1|[3.0,1.0,1.0]|       [3.0,1.0]|\n",
      "+-----+-------------+----------------+\n",
      "\n"
     ]
    }
   ],
   "source": [
    "model = selector.fit(dataset)\n",
    "\n",
    "model.transform(dataset).show()"
   ]
  },
  {
   "cell_type": "code",
   "execution_count": 50,
   "metadata": {},
   "outputs": [
    {
     "data": {
      "text/plain": [
       "Param(parent=u'ChiSqSelector_424c8837ce5b75800f25', name='fpr', doc='The highest p-value for features to be kept.')"
      ]
     },
     "execution_count": 50,
     "metadata": {},
     "output_type": "execute_result"
    }
   ],
   "source": [
    "model.fpr"
   ]
  },
  {
   "cell_type": "markdown",
   "metadata": {},
   "source": [
    "## Application on the costa poverty train data set on specific features"
   ]
  },
  {
   "cell_type": "code",
   "execution_count": 97,
   "metadata": {},
   "outputs": [],
   "source": [
    "train = spark.read.csv(\"../../../../data/train/train.csv\", header=True, inferSchema=True)"
   ]
  },
  {
   "cell_type": "code",
   "execution_count": 98,
   "metadata": {},
   "outputs": [],
   "source": [
    "selected_features = [\"paredblolad\", \"paredzocalo\", \"paredpreb\", \"pareddes\", \"paredmad\", \"paredzinc\", \"paredfibras\", \"paredother\"]\n",
    "features_broadcast = spark.sparkContext.broadcast(selected_features)"
   ]
  },
  {
   "cell_type": "code",
   "execution_count": 99,
   "metadata": {},
   "outputs": [
    {
     "name": "stdout",
     "output_type": "stream",
     "text": [
      "+-----------+-----------+---------+--------+--------+---------+-----------+----------+------+\n",
      "|paredblolad|paredzocalo|paredpreb|pareddes|paredmad|paredzinc|paredfibras|paredother|Target|\n",
      "+-----------+-----------+---------+--------+--------+---------+-----------+----------+------+\n",
      "|          1|          0|        0|       0|       0|        0|          0|         0|     4|\n",
      "|          0|          0|        0|       0|       1|        0|          0|         0|     4|\n",
      "|          0|          0|        0|       0|       1|        0|          0|         0|     4|\n",
      "|          1|          0|        0|       0|       0|        0|          0|         0|     4|\n",
      "|          1|          0|        0|       0|       0|        0|          0|         0|     4|\n",
      "|          1|          0|        0|       0|       0|        0|          0|         0|     4|\n",
      "|          1|          0|        0|       0|       0|        0|          0|         0|     4|\n",
      "|          1|          0|        0|       0|       0|        0|          0|         0|     4|\n",
      "|          1|          0|        0|       0|       0|        0|          0|         0|     4|\n",
      "|          1|          0|        0|       0|       0|        0|          0|         0|     4|\n",
      "|          1|          0|        0|       0|       0|        0|          0|         0|     4|\n",
      "|          0|          0|        1|       0|       0|        0|          0|         0|     4|\n",
      "|          0|          0|        1|       0|       0|        0|          0|         0|     4|\n",
      "|          0|          0|        1|       0|       0|        0|          0|         0|     4|\n",
      "|          0|          0|        1|       0|       0|        0|          0|         0|     4|\n",
      "|          0|          0|        0|       0|       1|        0|          0|         0|     4|\n",
      "|          0|          0|        0|       0|       1|        0|          0|         0|     4|\n",
      "|          0|          0|        0|       0|       1|        0|          0|         0|     4|\n",
      "|          0|          0|        0|       0|       1|        0|          0|         0|     4|\n",
      "|          1|          0|        0|       0|       0|        0|          0|         0|     4|\n",
      "+-----------+-----------+---------+--------+--------+---------+-----------+----------+------+\n",
      "only showing top 20 rows\n",
      "\n"
     ]
    }
   ],
   "source": [
    "train.select(selected_features + [\"Target\"]).show()"
   ]
  },
  {
   "cell_type": "code",
   "execution_count": 100,
   "metadata": {},
   "outputs": [
    {
     "name": "stdout",
     "output_type": "stream",
     "text": [
      "root\n",
      " |-- paredblolad: integer (nullable = true)\n",
      " |-- paredzocalo: integer (nullable = true)\n",
      " |-- paredpreb: integer (nullable = true)\n",
      " |-- pareddes: integer (nullable = true)\n",
      " |-- paredmad: integer (nullable = true)\n",
      " |-- paredzinc: integer (nullable = true)\n",
      " |-- paredfibras: integer (nullable = true)\n",
      " |-- paredother: integer (nullable = true)\n",
      " |-- Target: integer (nullable = true)\n",
      "\n"
     ]
    }
   ],
   "source": [
    "train.select(selected_features + [\"Target\"]).printSchema()"
   ]
  },
  {
   "cell_type": "code",
   "execution_count": 101,
   "metadata": {},
   "outputs": [],
   "source": [
    "# train.stat.crosstab(\"Target\", \"paredblolad\").show()"
   ]
  },
  {
   "cell_type": "code",
   "execution_count": 102,
   "metadata": {},
   "outputs": [
    {
     "name": "stdout",
     "output_type": "stream",
     "text": [
      "+-----------+-----------+---------+--------+--------+---------+-----------+----------+\n",
      "|paredblolad|paredzocalo|paredpreb|pareddes|paredmad|paredzinc|paredfibras|paredother|\n",
      "+-----------+-----------+---------+--------+--------+---------+-----------+----------+\n",
      "|          0|          0|        0|       1|       0|        0|          0|         0|\n",
      "|          0|          0|        1|       0|       0|        0|          0|         0|\n",
      "|          1|          0|        0|       0|       0|        0|          0|         0|\n",
      "|          0|          0|        0|       0|       0|        0|          0|         1|\n",
      "|          0|          1|        0|       0|       0|        0|          0|         0|\n",
      "|          0|          0|        0|       0|       0|        1|          0|         0|\n",
      "|          0|          0|        0|       0|       0|        0|          1|         0|\n",
      "|          0|          0|        0|       0|       1|        0|          0|         0|\n",
      "+-----------+-----------+---------+--------+--------+---------+-----------+----------+\n",
      "\n"
     ]
    }
   ],
   "source": [
    "train.select(selected_features).dropDuplicates().show()"
   ]
  },
  {
   "cell_type": "code",
   "execution_count": 103,
   "metadata": {},
   "outputs": [
    {
     "data": {
      "text/plain": [
       "8"
      ]
     },
     "execution_count": 103,
     "metadata": {},
     "output_type": "execute_result"
    }
   ],
   "source": [
    "train.select(selected_features).dropDuplicates().count()"
   ]
  },
  {
   "cell_type": "code",
   "execution_count": 110,
   "metadata": {},
   "outputs": [],
   "source": [
    "udf_create_dense_vector = udf(lambda values: Vectors.dense(values), VectorUDT())\n",
    "udf_get_target = udf(lambda values: Vectors.dense([values.index(1)]), VectorUDT())"
   ]
  },
  {
   "cell_type": "code",
   "execution_count": 111,
   "metadata": {},
   "outputs": [],
   "source": [
    "Person = Row(\"Target\", \"values\")\n",
    "\n",
    "rdd = (train\n",
    " .select(selected_features + [\"Target\"])\n",
    " .rdd\n",
    " .map(lambda row: (Person(row[\"Target\"], [row[target] for target in features_broadcast.value]))))"
   ]
  },
  {
   "cell_type": "code",
   "execution_count": 115,
   "metadata": {},
   "outputs": [],
   "source": [
    "df = (spark.createDataFrame(rdd)\n",
    "      .withColumn(\"Features\", udf_create_dense_vector(col(\"values\")))\n",
    "      .select(col(\"Target\").cast(DoubleType()).alias(\"label\"), col(\"values\"), col(\"Features\").alias(\"features\"))\n",
    "      .withColumn(\"target\", udf_get_target(col(\"values\")))\n",
    "     )"
   ]
  },
  {
   "cell_type": "code",
   "execution_count": 116,
   "metadata": {},
   "outputs": [
    {
     "data": {
      "text/plain": [
       "Row(label=4.0, values=[1, 0, 0, 0, 0, 0, 0, 0], features=DenseVector([1.0, 0.0, 0.0, 0.0, 0.0, 0.0, 0.0, 0.0]), target=DenseVector([0.0]))"
      ]
     },
     "execution_count": 116,
     "metadata": {},
     "output_type": "execute_result"
    }
   ],
   "source": [
    "df.first()"
   ]
  },
  {
   "cell_type": "markdown",
   "metadata": {},
   "source": [
    "#### ChiSquareTest"
   ]
  },
  {
   "cell_type": "code",
   "execution_count": 117,
   "metadata": {},
   "outputs": [],
   "source": [
    "chiSqResult_features = ChiSquareTest.test(df, 'features', 'label')\n",
    "chiSqResult_target = ChiSquareTest.test(df, 'target', 'label')"
   ]
  },
  {
   "cell_type": "code",
   "execution_count": 46,
   "metadata": {},
   "outputs": [
    {
     "name": "stdout",
     "output_type": "stream",
     "text": [
      "root\n",
      " |-- pValues: vector (nullable = true)\n",
      " |-- degreesOfFreedom: array (nullable = true)\n",
      " |    |-- element: integer (containsNull = false)\n",
      " |-- statistics: vector (nullable = true)\n",
      "\n"
     ]
    }
   ],
   "source": [
    "chiSqResult.printSchema()"
   ]
  },
  {
   "cell_type": "code",
   "execution_count": 49,
   "metadata": {},
   "outputs": [
    {
     "name": "stdout",
     "output_type": "stream",
     "text": [
      "+----------------------------------------------------------------------------------------------------+\n",
      "|pValues                                                                                             |\n",
      "+----------------------------------------------------------------------------------------------------+\n",
      "|[0.0,7.66053886991358E-15,0.0,0.0,0.0,7.11292535982011E-9,0.0037971881924065976,0.11572771545742688]|\n",
      "+----------------------------------------------------------------------------------------------------+\n",
      "\n",
      "+------------------------+\n",
      "|degreesOfFreedom        |\n",
      "+------------------------+\n",
      "|[3, 3, 3, 3, 3, 3, 3, 3]|\n",
      "+------------------------+\n",
      "\n",
      "+------------------------------------------------------------------------------------------------------------------------------------------------+\n",
      "|statistics                                                                                                                                      |\n",
      "+------------------------------------------------------------------------------------------------------------------------------------------------+\n",
      "|[703.7332517944108,68.80654616700133,108.31965020849546,86.99402937938483,287.7200871219159,40.82778617714418,13.427773676728,5.916825497328082]|\n",
      "+------------------------------------------------------------------------------------------------------------------------------------------------+\n",
      "\n"
     ]
    }
   ],
   "source": [
    "chiSqResult_features.select(\"pValues\").show(truncate=False)\n",
    "\n",
    "chiSqResult_features.select(\"degreesOfFreedom\").show(truncate=False)\n",
    "\n",
    "chiSqResult_features.select(\"statistics\").show(truncate=False)"
   ]
  },
  {
   "cell_type": "code",
   "execution_count": 118,
   "metadata": {},
   "outputs": [
    {
     "name": "stdout",
     "output_type": "stream",
     "text": [
      "+-------+\n",
      "|pValues|\n",
      "+-------+\n",
      "|[0.0]  |\n",
      "+-------+\n",
      "\n",
      "+----------------+\n",
      "|degreesOfFreedom|\n",
      "+----------------+\n",
      "|[21]            |\n",
      "+----------------+\n",
      "\n",
      "+------------------+\n",
      "|statistics        |\n",
      "+------------------+\n",
      "|[837.425781559185]|\n",
      "+------------------+\n",
      "\n"
     ]
    }
   ],
   "source": [
    "chiSqResult_target.select(\"pValues\").show(truncate=False)\n",
    "\n",
    "chiSqResult_target.select(\"degreesOfFreedom\").show(truncate=False)\n",
    "\n",
    "chiSqResult_target.select(\"statistics\").show(truncate=False)"
   ]
  },
  {
   "cell_type": "markdown",
   "metadata": {},
   "source": [
    "#### ChiSqSelector"
   ]
  },
  {
   "cell_type": "code",
   "execution_count": 122,
   "metadata": {},
   "outputs": [
    {
     "name": "stdout",
     "output_type": "stream",
     "text": [
      "+-----+------------------------+---------------------------------+------+-----------------------------+\n",
      "|label|values                  |features                         |target|$featureColumn-Selected      |\n",
      "+-----+------------------------+---------------------------------+------+-----------------------------+\n",
      "|4.0  |[1, 0, 0, 0, 0, 0, 0, 0]|[1.0,0.0,0.0,0.0,0.0,0.0,0.0,0.0]|[0.0] |[1.0,0.0,0.0,0.0,0.0,0.0,0.0]|\n",
      "|4.0  |[0, 0, 0, 0, 1, 0, 0, 0]|[0.0,0.0,0.0,0.0,1.0,0.0,0.0,0.0]|[4.0] |[0.0,0.0,0.0,0.0,1.0,0.0,0.0]|\n",
      "|4.0  |[0, 0, 0, 0, 1, 0, 0, 0]|[0.0,0.0,0.0,0.0,1.0,0.0,0.0,0.0]|[4.0] |[0.0,0.0,0.0,0.0,1.0,0.0,0.0]|\n",
      "|4.0  |[1, 0, 0, 0, 0, 0, 0, 0]|[1.0,0.0,0.0,0.0,0.0,0.0,0.0,0.0]|[0.0] |[1.0,0.0,0.0,0.0,0.0,0.0,0.0]|\n",
      "|4.0  |[1, 0, 0, 0, 0, 0, 0, 0]|[1.0,0.0,0.0,0.0,0.0,0.0,0.0,0.0]|[0.0] |[1.0,0.0,0.0,0.0,0.0,0.0,0.0]|\n",
      "|4.0  |[1, 0, 0, 0, 0, 0, 0, 0]|[1.0,0.0,0.0,0.0,0.0,0.0,0.0,0.0]|[0.0] |[1.0,0.0,0.0,0.0,0.0,0.0,0.0]|\n",
      "|4.0  |[1, 0, 0, 0, 0, 0, 0, 0]|[1.0,0.0,0.0,0.0,0.0,0.0,0.0,0.0]|[0.0] |[1.0,0.0,0.0,0.0,0.0,0.0,0.0]|\n",
      "|4.0  |[1, 0, 0, 0, 0, 0, 0, 0]|[1.0,0.0,0.0,0.0,0.0,0.0,0.0,0.0]|[0.0] |[1.0,0.0,0.0,0.0,0.0,0.0,0.0]|\n",
      "|4.0  |[1, 0, 0, 0, 0, 0, 0, 0]|[1.0,0.0,0.0,0.0,0.0,0.0,0.0,0.0]|[0.0] |[1.0,0.0,0.0,0.0,0.0,0.0,0.0]|\n",
      "|4.0  |[1, 0, 0, 0, 0, 0, 0, 0]|[1.0,0.0,0.0,0.0,0.0,0.0,0.0,0.0]|[0.0] |[1.0,0.0,0.0,0.0,0.0,0.0,0.0]|\n",
      "|4.0  |[1, 0, 0, 0, 0, 0, 0, 0]|[1.0,0.0,0.0,0.0,0.0,0.0,0.0,0.0]|[0.0] |[1.0,0.0,0.0,0.0,0.0,0.0,0.0]|\n",
      "|4.0  |[0, 0, 1, 0, 0, 0, 0, 0]|[0.0,0.0,1.0,0.0,0.0,0.0,0.0,0.0]|[2.0] |[0.0,0.0,1.0,0.0,0.0,0.0,0.0]|\n",
      "|4.0  |[0, 0, 1, 0, 0, 0, 0, 0]|[0.0,0.0,1.0,0.0,0.0,0.0,0.0,0.0]|[2.0] |[0.0,0.0,1.0,0.0,0.0,0.0,0.0]|\n",
      "|4.0  |[0, 0, 1, 0, 0, 0, 0, 0]|[0.0,0.0,1.0,0.0,0.0,0.0,0.0,0.0]|[2.0] |[0.0,0.0,1.0,0.0,0.0,0.0,0.0]|\n",
      "|4.0  |[0, 0, 1, 0, 0, 0, 0, 0]|[0.0,0.0,1.0,0.0,0.0,0.0,0.0,0.0]|[2.0] |[0.0,0.0,1.0,0.0,0.0,0.0,0.0]|\n",
      "|4.0  |[0, 0, 0, 0, 1, 0, 0, 0]|[0.0,0.0,0.0,0.0,1.0,0.0,0.0,0.0]|[4.0] |[0.0,0.0,0.0,0.0,1.0,0.0,0.0]|\n",
      "|4.0  |[0, 0, 0, 0, 1, 0, 0, 0]|[0.0,0.0,0.0,0.0,1.0,0.0,0.0,0.0]|[4.0] |[0.0,0.0,0.0,0.0,1.0,0.0,0.0]|\n",
      "|4.0  |[0, 0, 0, 0, 1, 0, 0, 0]|[0.0,0.0,0.0,0.0,1.0,0.0,0.0,0.0]|[4.0] |[0.0,0.0,0.0,0.0,1.0,0.0,0.0]|\n",
      "|4.0  |[0, 0, 0, 0, 1, 0, 0, 0]|[0.0,0.0,0.0,0.0,1.0,0.0,0.0,0.0]|[4.0] |[0.0,0.0,0.0,0.0,1.0,0.0,0.0]|\n",
      "|4.0  |[1, 0, 0, 0, 0, 0, 0, 0]|[1.0,0.0,0.0,0.0,0.0,0.0,0.0,0.0]|[0.0] |[1.0,0.0,0.0,0.0,0.0,0.0,0.0]|\n",
      "+-----+------------------------+---------------------------------+------+-----------------------------+\n",
      "only showing top 20 rows\n",
      "\n"
     ]
    }
   ],
   "source": [
    "alpha = 0.05\n",
    "\n",
    "chiSelector = (ChiSqSelector()\n",
    "               .setSelectorType(\"fpr\")\n",
    "               .setFpr(alpha)\n",
    "               .setLabelCol(\"label\")\n",
    "               .setFeaturesCol(\"features\")\n",
    "               .setOutputCol(\"$featureColumn-Selected\"))\n",
    "\n",
    "chiSelector.fit(df).transform(df).show(truncate=False)"
   ]
  },
  {
   "cell_type": "code",
   "execution_count": 124,
   "metadata": {},
   "outputs": [
    {
     "name": "stdout",
     "output_type": "stream",
     "text": [
      "+-----+------------------------+---------------------------------+------+-----------------------+\n",
      "|label|values                  |features                         |target|$featureColumn-Selected|\n",
      "+-----+------------------------+---------------------------------+------+-----------------------+\n",
      "|4.0  |[1, 0, 0, 0, 0, 0, 0, 0]|[1.0,0.0,0.0,0.0,0.0,0.0,0.0,0.0]|[0.0] |[0.0]                  |\n",
      "|4.0  |[0, 0, 0, 0, 1, 0, 0, 0]|[0.0,0.0,0.0,0.0,1.0,0.0,0.0,0.0]|[4.0] |[4.0]                  |\n",
      "|4.0  |[0, 0, 0, 0, 1, 0, 0, 0]|[0.0,0.0,0.0,0.0,1.0,0.0,0.0,0.0]|[4.0] |[4.0]                  |\n",
      "|4.0  |[1, 0, 0, 0, 0, 0, 0, 0]|[1.0,0.0,0.0,0.0,0.0,0.0,0.0,0.0]|[0.0] |[0.0]                  |\n",
      "|4.0  |[1, 0, 0, 0, 0, 0, 0, 0]|[1.0,0.0,0.0,0.0,0.0,0.0,0.0,0.0]|[0.0] |[0.0]                  |\n",
      "|4.0  |[1, 0, 0, 0, 0, 0, 0, 0]|[1.0,0.0,0.0,0.0,0.0,0.0,0.0,0.0]|[0.0] |[0.0]                  |\n",
      "|4.0  |[1, 0, 0, 0, 0, 0, 0, 0]|[1.0,0.0,0.0,0.0,0.0,0.0,0.0,0.0]|[0.0] |[0.0]                  |\n",
      "|4.0  |[1, 0, 0, 0, 0, 0, 0, 0]|[1.0,0.0,0.0,0.0,0.0,0.0,0.0,0.0]|[0.0] |[0.0]                  |\n",
      "|4.0  |[1, 0, 0, 0, 0, 0, 0, 0]|[1.0,0.0,0.0,0.0,0.0,0.0,0.0,0.0]|[0.0] |[0.0]                  |\n",
      "|4.0  |[1, 0, 0, 0, 0, 0, 0, 0]|[1.0,0.0,0.0,0.0,0.0,0.0,0.0,0.0]|[0.0] |[0.0]                  |\n",
      "|4.0  |[1, 0, 0, 0, 0, 0, 0, 0]|[1.0,0.0,0.0,0.0,0.0,0.0,0.0,0.0]|[0.0] |[0.0]                  |\n",
      "|4.0  |[0, 0, 1, 0, 0, 0, 0, 0]|[0.0,0.0,1.0,0.0,0.0,0.0,0.0,0.0]|[2.0] |[2.0]                  |\n",
      "|4.0  |[0, 0, 1, 0, 0, 0, 0, 0]|[0.0,0.0,1.0,0.0,0.0,0.0,0.0,0.0]|[2.0] |[2.0]                  |\n",
      "|4.0  |[0, 0, 1, 0, 0, 0, 0, 0]|[0.0,0.0,1.0,0.0,0.0,0.0,0.0,0.0]|[2.0] |[2.0]                  |\n",
      "|4.0  |[0, 0, 1, 0, 0, 0, 0, 0]|[0.0,0.0,1.0,0.0,0.0,0.0,0.0,0.0]|[2.0] |[2.0]                  |\n",
      "|4.0  |[0, 0, 0, 0, 1, 0, 0, 0]|[0.0,0.0,0.0,0.0,1.0,0.0,0.0,0.0]|[4.0] |[4.0]                  |\n",
      "|4.0  |[0, 0, 0, 0, 1, 0, 0, 0]|[0.0,0.0,0.0,0.0,1.0,0.0,0.0,0.0]|[4.0] |[4.0]                  |\n",
      "|4.0  |[0, 0, 0, 0, 1, 0, 0, 0]|[0.0,0.0,0.0,0.0,1.0,0.0,0.0,0.0]|[4.0] |[4.0]                  |\n",
      "|4.0  |[0, 0, 0, 0, 1, 0, 0, 0]|[0.0,0.0,0.0,0.0,1.0,0.0,0.0,0.0]|[4.0] |[4.0]                  |\n",
      "|4.0  |[1, 0, 0, 0, 0, 0, 0, 0]|[1.0,0.0,0.0,0.0,0.0,0.0,0.0,0.0]|[0.0] |[0.0]                  |\n",
      "+-----+------------------------+---------------------------------+------+-----------------------+\n",
      "only showing top 20 rows\n",
      "\n"
     ]
    }
   ],
   "source": [
    "alpha = 0.05\n",
    "\n",
    "chiSelector = (ChiSqSelector()\n",
    "               .setSelectorType(\"fpr\")\n",
    "               .setFpr(alpha)\n",
    "               .setLabelCol(\"label\")\n",
    "               .setFeaturesCol(\"target\")\n",
    "               .setOutputCol(\"$featureColumn-Selected\"))\n",
    "\n",
    "chiSelector.fit(df).transform(df).show(truncate=False)"
   ]
  },
  {
   "cell_type": "code",
   "execution_count": 121,
   "metadata": {},
   "outputs": [
    {
     "name": "stdout",
     "output_type": "stream",
     "text": [
      "+-----+------------------------+---------------------------------+------+-----------------------------+\n",
      "|label|values                  |features                         |target|$featureColumn-Selected      |\n",
      "+-----+------------------------+---------------------------------+------+-----------------------------+\n",
      "|4.0  |[1, 0, 0, 0, 0, 0, 0, 0]|[1.0,0.0,0.0,0.0,0.0,0.0,0.0,0.0]|[0.0] |[1.0,0.0,0.0,0.0,0.0,0.0,0.0]|\n",
      "|4.0  |[0, 0, 0, 0, 1, 0, 0, 0]|[0.0,0.0,0.0,0.0,1.0,0.0,0.0,0.0]|[4.0] |[0.0,0.0,0.0,0.0,1.0,0.0,0.0]|\n",
      "|4.0  |[0, 0, 0, 0, 1, 0, 0, 0]|[0.0,0.0,0.0,0.0,1.0,0.0,0.0,0.0]|[4.0] |[0.0,0.0,0.0,0.0,1.0,0.0,0.0]|\n",
      "|4.0  |[1, 0, 0, 0, 0, 0, 0, 0]|[1.0,0.0,0.0,0.0,0.0,0.0,0.0,0.0]|[0.0] |[1.0,0.0,0.0,0.0,0.0,0.0,0.0]|\n",
      "|4.0  |[1, 0, 0, 0, 0, 0, 0, 0]|[1.0,0.0,0.0,0.0,0.0,0.0,0.0,0.0]|[0.0] |[1.0,0.0,0.0,0.0,0.0,0.0,0.0]|\n",
      "|4.0  |[1, 0, 0, 0, 0, 0, 0, 0]|[1.0,0.0,0.0,0.0,0.0,0.0,0.0,0.0]|[0.0] |[1.0,0.0,0.0,0.0,0.0,0.0,0.0]|\n",
      "|4.0  |[1, 0, 0, 0, 0, 0, 0, 0]|[1.0,0.0,0.0,0.0,0.0,0.0,0.0,0.0]|[0.0] |[1.0,0.0,0.0,0.0,0.0,0.0,0.0]|\n",
      "|4.0  |[1, 0, 0, 0, 0, 0, 0, 0]|[1.0,0.0,0.0,0.0,0.0,0.0,0.0,0.0]|[0.0] |[1.0,0.0,0.0,0.0,0.0,0.0,0.0]|\n",
      "|4.0  |[1, 0, 0, 0, 0, 0, 0, 0]|[1.0,0.0,0.0,0.0,0.0,0.0,0.0,0.0]|[0.0] |[1.0,0.0,0.0,0.0,0.0,0.0,0.0]|\n",
      "|4.0  |[1, 0, 0, 0, 0, 0, 0, 0]|[1.0,0.0,0.0,0.0,0.0,0.0,0.0,0.0]|[0.0] |[1.0,0.0,0.0,0.0,0.0,0.0,0.0]|\n",
      "|4.0  |[1, 0, 0, 0, 0, 0, 0, 0]|[1.0,0.0,0.0,0.0,0.0,0.0,0.0,0.0]|[0.0] |[1.0,0.0,0.0,0.0,0.0,0.0,0.0]|\n",
      "|4.0  |[0, 0, 1, 0, 0, 0, 0, 0]|[0.0,0.0,1.0,0.0,0.0,0.0,0.0,0.0]|[2.0] |[0.0,0.0,1.0,0.0,0.0,0.0,0.0]|\n",
      "|4.0  |[0, 0, 1, 0, 0, 0, 0, 0]|[0.0,0.0,1.0,0.0,0.0,0.0,0.0,0.0]|[2.0] |[0.0,0.0,1.0,0.0,0.0,0.0,0.0]|\n",
      "|4.0  |[0, 0, 1, 0, 0, 0, 0, 0]|[0.0,0.0,1.0,0.0,0.0,0.0,0.0,0.0]|[2.0] |[0.0,0.0,1.0,0.0,0.0,0.0,0.0]|\n",
      "|4.0  |[0, 0, 1, 0, 0, 0, 0, 0]|[0.0,0.0,1.0,0.0,0.0,0.0,0.0,0.0]|[2.0] |[0.0,0.0,1.0,0.0,0.0,0.0,0.0]|\n",
      "|4.0  |[0, 0, 0, 0, 1, 0, 0, 0]|[0.0,0.0,0.0,0.0,1.0,0.0,0.0,0.0]|[4.0] |[0.0,0.0,0.0,0.0,1.0,0.0,0.0]|\n",
      "|4.0  |[0, 0, 0, 0, 1, 0, 0, 0]|[0.0,0.0,0.0,0.0,1.0,0.0,0.0,0.0]|[4.0] |[0.0,0.0,0.0,0.0,1.0,0.0,0.0]|\n",
      "|4.0  |[0, 0, 0, 0, 1, 0, 0, 0]|[0.0,0.0,0.0,0.0,1.0,0.0,0.0,0.0]|[4.0] |[0.0,0.0,0.0,0.0,1.0,0.0,0.0]|\n",
      "|4.0  |[0, 0, 0, 0, 1, 0, 0, 0]|[0.0,0.0,0.0,0.0,1.0,0.0,0.0,0.0]|[4.0] |[0.0,0.0,0.0,0.0,1.0,0.0,0.0]|\n",
      "|4.0  |[1, 0, 0, 0, 0, 0, 0, 0]|[1.0,0.0,0.0,0.0,0.0,0.0,0.0,0.0]|[0.0] |[1.0,0.0,0.0,0.0,0.0,0.0,0.0]|\n",
      "+-----+------------------------+---------------------------------+------+-----------------------------+\n",
      "only showing top 20 rows\n",
      "\n"
     ]
    }
   ],
   "source": []
  },
  {
   "cell_type": "code",
   "execution_count": null,
   "metadata": {},
   "outputs": [],
   "source": []
  }
 ],
 "metadata": {
  "kernelspec": {
   "display_name": "Python [Root]",
   "language": "python",
   "name": "Python [Root]"
  },
  "language_info": {
   "codemirror_mode": {
    "name": "ipython",
    "version": 2
   },
   "file_extension": ".py",
   "mimetype": "text/x-python",
   "name": "python",
   "nbconvert_exporter": "python",
   "pygments_lexer": "ipython2",
   "version": "2.7.12"
  }
 },
 "nbformat": 4,
 "nbformat_minor": 1
}
