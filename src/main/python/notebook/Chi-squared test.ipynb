{
 "cells": [
  {
   "cell_type": "code",
   "execution_count": 1,
   "metadata": {},
   "outputs": [],
   "source": [
    "#     >>> from pyspark.ml.linalg import Vectors\n",
    "#     >>> from pyspark.ml.stat import ChiSquareTest\n",
    "#     >>> dataset = [[0, Vectors.dense([0, 0, 1])],\n",
    "#     ...            [0, Vectors.dense([1, 0, 1])],\n",
    "#     ...            [1, Vectors.dense([2, 1, 1])],\n",
    "#     ...            [1, Vectors.dense([3, 1, 1])]]\n",
    "#     >>> dataset = spark.createDataFrame(dataset, [\"label\", \"features\"])\n",
    "#     >>> chiSqResult = ChiSquareTest.test(dataset, 'features', 'label')\n",
    "#     >>> chiSqResult.select(\"degreesOfFreedom\").collect()[0]\n",
    "#     Row(degreesOfFreedom=[3, 1, 0])"
   ]
  },
  {
   "cell_type": "code",
   "execution_count": 15,
   "metadata": {},
   "outputs": [],
   "source": [
    "from pyspark.ml.linalg import Vectors\n",
    "from pyspark.ml.stat import ChiSquareTest\n",
    "from pyspark.ml.feature import ChiSqSelector\n",
    "\n",
    "import numpy as np\n",
    "from scipy import stats"
   ]
  },
  {
   "cell_type": "code",
   "execution_count": 4,
   "metadata": {},
   "outputs": [],
   "source": [
    "dataset = [[0, Vectors.dense([0, 0, 1])],\n",
    "           [0, Vectors.dense([1, 0, 1])],\n",
    "           [1, Vectors.dense([2, 1, 1])],\n",
    "           [1, Vectors.dense([3, 1, 1])]]"
   ]
  },
  {
   "cell_type": "code",
   "execution_count": 5,
   "metadata": {},
   "outputs": [],
   "source": [
    "dataset = spark.createDataFrame(dataset, [\"label\", \"features\"])\n",
    "chiSqResult = ChiSquareTest.test(dataset, 'features', 'label')"
   ]
  },
  {
   "cell_type": "code",
   "execution_count": 8,
   "metadata": {},
   "outputs": [
    {
     "name": "stdout",
     "output_type": "stream",
     "text": [
      "+--------------------------------------------+----------------+-------------+\n",
      "|pValues                                     |degreesOfFreedom|statistics   |\n",
      "+--------------------------------------------+----------------+-------------+\n",
      "|[0.2614641299491107,0.04550026389635764,1.0]|[3, 1, 0]       |[4.0,4.0,0.0]|\n",
      "+--------------------------------------------+----------------+-------------+\n",
      "\n"
     ]
    }
   ],
   "source": [
    "chiSqResult.show(truncate=False)"
   ]
  },
  {
   "cell_type": "code",
   "execution_count": 11,
   "metadata": {},
   "outputs": [],
   "source": [
    "obs = np.array([[1,1,0,0], [0,0,1,1]])"
   ]
  },
  {
   "cell_type": "code",
   "execution_count": 12,
   "metadata": {},
   "outputs": [
    {
     "data": {
      "text/plain": [
       "(4.0, 0.26146412994911117, 3, array([[ 0.5,  0.5,  0.5,  0.5],\n",
       "        [ 0.5,  0.5,  0.5,  0.5]]))"
      ]
     },
     "execution_count": 12,
     "metadata": {},
     "output_type": "execute_result"
    }
   ],
   "source": [
    "stats.chi2_contingency(obs)"
   ]
  },
  {
   "cell_type": "code",
   "execution_count": 44,
   "metadata": {},
   "outputs": [],
   "source": [
    "selector = (ChiSqSelector()\n",
    "            .setSelectorType(\"fpr\")\n",
    "            .setFpr(0.5)\n",
    "            .setFeaturesCol(\"features\")\n",
    "            .setLabelCol(\"label\")\n",
    "            .setOutputCol(\"selectedFeatures\"))"
   ]
  },
  {
   "cell_type": "code",
   "execution_count": 45,
   "metadata": {},
   "outputs": [
    {
     "data": {
      "text/plain": [
       "DataFrame[label: bigint, features: vector, selectedFeatures: vector]"
      ]
     },
     "execution_count": 45,
     "metadata": {},
     "output_type": "execute_result"
    }
   ],
   "source": [
    "selector.fit(dataset).transform(dataset)"
   ]
  },
  {
   "cell_type": "code",
   "execution_count": 47,
   "metadata": {},
   "outputs": [
    {
     "name": "stdout",
     "output_type": "stream",
     "text": [
      "+-----+-------------+----------------+\n",
      "|label|     features|selectedFeatures|\n",
      "+-----+-------------+----------------+\n",
      "|    0|[0.0,0.0,1.0]|       [0.0,0.0]|\n",
      "|    0|[1.0,0.0,1.0]|       [1.0,0.0]|\n",
      "|    1|[2.0,1.0,1.0]|       [2.0,1.0]|\n",
      "|    1|[3.0,1.0,1.0]|       [3.0,1.0]|\n",
      "+-----+-------------+----------------+\n",
      "\n"
     ]
    }
   ],
   "source": [
    "model = selector.fit(dataset)\n",
    "\n",
    "model.transform(dataset).show()"
   ]
  },
  {
   "cell_type": "code",
   "execution_count": 50,
   "metadata": {},
   "outputs": [
    {
     "data": {
      "text/plain": [
       "Param(parent=u'ChiSqSelector_424c8837ce5b75800f25', name='fpr', doc='The highest p-value for features to be kept.')"
      ]
     },
     "execution_count": 50,
     "metadata": {},
     "output_type": "execute_result"
    }
   ],
   "source": [
    "model.fpr"
   ]
  },
  {
   "cell_type": "code",
   "execution_count": null,
   "metadata": {},
   "outputs": [],
   "source": []
  },
  {
   "cell_type": "code",
   "execution_count": null,
   "metadata": {},
   "outputs": [],
   "source": []
  }
 ],
 "metadata": {
  "kernelspec": {
   "display_name": "Python [Root]",
   "language": "python",
   "name": "Python [Root]"
  },
  "language_info": {
   "codemirror_mode": {
    "name": "ipython",
    "version": 2
   },
   "file_extension": ".py",
   "mimetype": "text/x-python",
   "name": "python",
   "nbconvert_exporter": "python",
   "pygments_lexer": "ipython2",
   "version": "2.7.12"
  }
 },
 "nbformat": 4,
 "nbformat_minor": 1
}
