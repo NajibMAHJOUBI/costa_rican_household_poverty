{
 "cells": [
  {
   "cell_type": "code",
   "execution_count": 1,
   "metadata": {},
   "outputs": [],
   "source": [
    "train = spark.read.csv(\"../../../../data/train/train.csv\", header=True)"
   ]
  },
  {
   "cell_type": "code",
   "execution_count": 2,
   "metadata": {},
   "outputs": [
    {
     "name": "stdout",
     "output_type": "stream",
     "text": [
      "root\n",
      " |-- Id: string (nullable = true)\n",
      " |-- v2a1: string (nullable = true)\n",
      " |-- hacdor: string (nullable = true)\n",
      " |-- rooms: string (nullable = true)\n",
      " |-- hacapo: string (nullable = true)\n",
      " |-- v14a: string (nullable = true)\n",
      " |-- refrig: string (nullable = true)\n",
      " |-- v18q: string (nullable = true)\n",
      " |-- v18q1: string (nullable = true)\n",
      " |-- r4h1: string (nullable = true)\n",
      " |-- r4h2: string (nullable = true)\n",
      " |-- r4h3: string (nullable = true)\n",
      " |-- r4m1: string (nullable = true)\n",
      " |-- r4m2: string (nullable = true)\n",
      " |-- r4m3: string (nullable = true)\n",
      " |-- r4t1: string (nullable = true)\n",
      " |-- r4t2: string (nullable = true)\n",
      " |-- r4t3: string (nullable = true)\n",
      " |-- tamhog: string (nullable = true)\n",
      " |-- tamviv: string (nullable = true)\n",
      " |-- escolari: string (nullable = true)\n",
      " |-- rez_esc: string (nullable = true)\n",
      " |-- hhsize: string (nullable = true)\n",
      " |-- paredblolad: string (nullable = true)\n",
      " |-- paredzocalo: string (nullable = true)\n",
      " |-- paredpreb: string (nullable = true)\n",
      " |-- pareddes: string (nullable = true)\n",
      " |-- paredmad: string (nullable = true)\n",
      " |-- paredzinc: string (nullable = true)\n",
      " |-- paredfibras: string (nullable = true)\n",
      " |-- paredother: string (nullable = true)\n",
      " |-- pisomoscer: string (nullable = true)\n",
      " |-- pisocemento: string (nullable = true)\n",
      " |-- pisoother: string (nullable = true)\n",
      " |-- pisonatur: string (nullable = true)\n",
      " |-- pisonotiene: string (nullable = true)\n",
      " |-- pisomadera: string (nullable = true)\n",
      " |-- techozinc: string (nullable = true)\n",
      " |-- techoentrepiso: string (nullable = true)\n",
      " |-- techocane: string (nullable = true)\n",
      " |-- techootro: string (nullable = true)\n",
      " |-- cielorazo: string (nullable = true)\n",
      " |-- abastaguadentro: string (nullable = true)\n",
      " |-- abastaguafuera: string (nullable = true)\n",
      " |-- abastaguano: string (nullable = true)\n",
      " |-- public: string (nullable = true)\n",
      " |-- planpri: string (nullable = true)\n",
      " |-- noelec: string (nullable = true)\n",
      " |-- coopele: string (nullable = true)\n",
      " |-- sanitario1: string (nullable = true)\n",
      " |-- sanitario2: string (nullable = true)\n",
      " |-- sanitario3: string (nullable = true)\n",
      " |-- sanitario5: string (nullable = true)\n",
      " |-- sanitario6: string (nullable = true)\n",
      " |-- energcocinar1: string (nullable = true)\n",
      " |-- energcocinar2: string (nullable = true)\n",
      " |-- energcocinar3: string (nullable = true)\n",
      " |-- energcocinar4: string (nullable = true)\n",
      " |-- elimbasu1: string (nullable = true)\n",
      " |-- elimbasu2: string (nullable = true)\n",
      " |-- elimbasu3: string (nullable = true)\n",
      " |-- elimbasu4: string (nullable = true)\n",
      " |-- elimbasu5: string (nullable = true)\n",
      " |-- elimbasu6: string (nullable = true)\n",
      " |-- epared1: string (nullable = true)\n",
      " |-- epared2: string (nullable = true)\n",
      " |-- epared3: string (nullable = true)\n",
      " |-- etecho1: string (nullable = true)\n",
      " |-- etecho2: string (nullable = true)\n",
      " |-- etecho3: string (nullable = true)\n",
      " |-- eviv1: string (nullable = true)\n",
      " |-- eviv2: string (nullable = true)\n",
      " |-- eviv3: string (nullable = true)\n",
      " |-- dis: string (nullable = true)\n",
      " |-- male: string (nullable = true)\n",
      " |-- female: string (nullable = true)\n",
      " |-- estadocivil1: string (nullable = true)\n",
      " |-- estadocivil2: string (nullable = true)\n",
      " |-- estadocivil3: string (nullable = true)\n",
      " |-- estadocivil4: string (nullable = true)\n",
      " |-- estadocivil5: string (nullable = true)\n",
      " |-- estadocivil6: string (nullable = true)\n",
      " |-- estadocivil7: string (nullable = true)\n",
      " |-- parentesco1: string (nullable = true)\n",
      " |-- parentesco2: string (nullable = true)\n",
      " |-- parentesco3: string (nullable = true)\n",
      " |-- parentesco4: string (nullable = true)\n",
      " |-- parentesco5: string (nullable = true)\n",
      " |-- parentesco6: string (nullable = true)\n",
      " |-- parentesco7: string (nullable = true)\n",
      " |-- parentesco8: string (nullable = true)\n",
      " |-- parentesco9: string (nullable = true)\n",
      " |-- parentesco10: string (nullable = true)\n",
      " |-- parentesco11: string (nullable = true)\n",
      " |-- parentesco12: string (nullable = true)\n",
      " |-- idhogar: string (nullable = true)\n",
      " |-- hogar_nin: string (nullable = true)\n",
      " |-- hogar_adul: string (nullable = true)\n",
      " |-- hogar_mayor: string (nullable = true)\n",
      " |-- hogar_total: string (nullable = true)\n",
      " |-- dependency: string (nullable = true)\n",
      " |-- edjefe: string (nullable = true)\n",
      " |-- edjefa: string (nullable = true)\n",
      " |-- meaneduc: string (nullable = true)\n",
      " |-- instlevel1: string (nullable = true)\n",
      " |-- instlevel2: string (nullable = true)\n",
      " |-- instlevel3: string (nullable = true)\n",
      " |-- instlevel4: string (nullable = true)\n",
      " |-- instlevel5: string (nullable = true)\n",
      " |-- instlevel6: string (nullable = true)\n",
      " |-- instlevel7: string (nullable = true)\n",
      " |-- instlevel8: string (nullable = true)\n",
      " |-- instlevel9: string (nullable = true)\n",
      " |-- bedrooms: string (nullable = true)\n",
      " |-- overcrowding: string (nullable = true)\n",
      " |-- tipovivi1: string (nullable = true)\n",
      " |-- tipovivi2: string (nullable = true)\n",
      " |-- tipovivi3: string (nullable = true)\n",
      " |-- tipovivi4: string (nullable = true)\n",
      " |-- tipovivi5: string (nullable = true)\n",
      " |-- computer: string (nullable = true)\n",
      " |-- television: string (nullable = true)\n",
      " |-- mobilephone: string (nullable = true)\n",
      " |-- qmobilephone: string (nullable = true)\n",
      " |-- lugar1: string (nullable = true)\n",
      " |-- lugar2: string (nullable = true)\n",
      " |-- lugar3: string (nullable = true)\n",
      " |-- lugar4: string (nullable = true)\n",
      " |-- lugar5: string (nullable = true)\n",
      " |-- lugar6: string (nullable = true)\n",
      " |-- area1: string (nullable = true)\n",
      " |-- area2: string (nullable = true)\n",
      " |-- age: string (nullable = true)\n",
      " |-- SQBescolari: string (nullable = true)\n",
      " |-- SQBage: string (nullable = true)\n",
      " |-- SQBhogar_total: string (nullable = true)\n",
      " |-- SQBedjefe: string (nullable = true)\n",
      " |-- SQBhogar_nin: string (nullable = true)\n",
      " |-- SQBovercrowding: string (nullable = true)\n",
      " |-- SQBdependency: string (nullable = true)\n",
      " |-- SQBmeaned: string (nullable = true)\n",
      " |-- agesq: string (nullable = true)\n",
      " |-- Target: string (nullable = true)\n",
      "\n"
     ]
    }
   ],
   "source": [
    "train.printSchema()"
   ]
  },
  {
   "cell_type": "markdown",
   "metadata": {},
   "source": [
    "### predominant material on the outside wall"
   ]
  },
  {
   "cell_type": "code",
   "execution_count": 4,
   "metadata": {},
   "outputs": [],
   "source": [
    "select_features = [\"paredblolad\", \"paredzocalo\", \"paredpreb\", \"pareddes\", \"paredmad\", \"paredzinc\", \"paredfibras\", \"paredother\"]"
   ]
  },
  {
   "cell_type": "code",
   "execution_count": 7,
   "metadata": {
    "scrolled": true
   },
   "outputs": [
    {
     "name": "stdout",
     "output_type": "stream",
     "text": [
      "+-----------+-----------+---------+--------+--------+---------+-----------+----------+\n",
      "|paredblolad|paredzocalo|paredpreb|pareddes|paredmad|paredzinc|paredfibras|paredother|\n",
      "+-----------+-----------+---------+--------+--------+---------+-----------+----------+\n",
      "|          0|          0|        0|       0|       0|        0|          1|         0|\n",
      "|          1|          0|        0|       0|       0|        0|          0|         0|\n",
      "|          0|          1|        0|       0|       0|        0|          0|         0|\n",
      "|          0|          0|        1|       0|       0|        0|          0|         0|\n",
      "|          0|          0|        0|       0|       0|        0|          0|         1|\n",
      "|          0|          0|        0|       0|       0|        1|          0|         0|\n",
      "|          0|          0|        0|       1|       0|        0|          0|         0|\n",
      "|          0|          0|        0|       0|       1|        0|          0|         0|\n",
      "+-----------+-----------+---------+--------+--------+---------+-----------+----------+\n",
      "\n"
     ]
    }
   ],
   "source": [
    "train.select(select_features).dropDuplicates().show()"
   ]
  },
  {
   "cell_type": "markdown",
   "metadata": {},
   "source": [
    "### predominant material on the floor"
   ]
  },
  {
   "cell_type": "code",
   "execution_count": 8,
   "metadata": {},
   "outputs": [],
   "source": [
    "select_features = [\"pisomoscer\", \"pisocemento\", \"pisoother\",\"pisonatur\", \"pisonotiene\", \"pisomadera\"]"
   ]
  },
  {
   "cell_type": "code",
   "execution_count": 9,
   "metadata": {},
   "outputs": [
    {
     "name": "stdout",
     "output_type": "stream",
     "text": [
      "+----------+-----------+---------+---------+-----------+----------+\n",
      "|pisomoscer|pisocemento|pisoother|pisonatur|pisonotiene|pisomadera|\n",
      "+----------+-----------+---------+---------+-----------+----------+\n",
      "|         1|          0|        0|        0|          0|         0|\n",
      "|         0|          0|        1|        0|          0|         0|\n",
      "|         0|          0|        0|        1|          0|         0|\n",
      "|         0|          0|        0|        0|          1|         0|\n",
      "|         0|          0|        0|        0|          0|         1|\n",
      "|         0|          1|        0|        0|          0|         0|\n",
      "+----------+-----------+---------+---------+-----------+----------+\n",
      "\n"
     ]
    }
   ],
   "source": [
    "train.select(select_features).dropDuplicates().show()"
   ]
  },
  {
   "cell_type": "code",
   "execution_count": null,
   "metadata": {},
   "outputs": [],
   "source": []
  },
  {
   "cell_type": "code",
   "execution_count": 16,
   "metadata": {},
   "outputs": [],
   "source": [
    "select_features = [\"techozinc\", \"techoentrepiso\", \"techocane\", \"techootro\"]"
   ]
  },
  {
   "cell_type": "code",
   "execution_count": 17,
   "metadata": {},
   "outputs": [
    {
     "name": "stdout",
     "output_type": "stream",
     "text": [
      "+---------+--------------+---------+---------+\n",
      "|techozinc|techoentrepiso|techocane|techootro|\n",
      "+---------+--------------+---------+---------+\n",
      "|        0|             0|        0|        0|\n",
      "|        0|             0|        1|        0|\n",
      "|        1|             0|        0|        0|\n",
      "|        0|             1|        0|        0|\n",
      "|        0|             0|        0|        1|\n",
      "+---------+--------------+---------+---------+\n",
      "\n"
     ]
    }
   ],
   "source": [
    "train.select(select_features).dropDuplicates().show()"
   ]
  },
  {
   "cell_type": "code",
   "execution_count": null,
   "metadata": {},
   "outputs": [],
   "source": []
  }
 ],
 "metadata": {
  "kernelspec": {
   "display_name": "Python [anaconda2]",
   "language": "python",
   "name": "Python [anaconda2]"
  },
  "language_info": {
   "codemirror_mode": {
    "name": "ipython",
    "version": 2
   },
   "file_extension": ".py",
   "mimetype": "text/x-python",
   "name": "python",
   "nbconvert_exporter": "python",
   "pygments_lexer": "ipython2",
   "version": "2.7.12"
  }
 },
 "nbformat": 4,
 "nbformat_minor": 1
}
