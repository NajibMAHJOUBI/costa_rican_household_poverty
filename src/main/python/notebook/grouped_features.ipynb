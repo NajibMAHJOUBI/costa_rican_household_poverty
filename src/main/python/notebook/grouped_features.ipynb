{
 "cells": [
  {
   "cell_type": "code",
   "execution_count": 135,
   "metadata": {},
   "outputs": [],
   "source": [
    "from pyspark.ml.feature import StringIndexer\n",
    "from pyspark.ml.linalg import Vectors, VectorUDT\n",
    "from pyspark.sql.functions import udf, col\n",
    "from pyspark.sql import Row\n",
    "from pyspark.ml.stat import ChiSquareTest\n",
    "from pyspark.ml.feature import ChiSqSelector"
   ]
  },
  {
   "cell_type": "code",
   "execution_count": 114,
   "metadata": {},
   "outputs": [
    {
     "name": "stdout",
     "output_type": "stream",
     "text": [
      "9557\n"
     ]
    }
   ],
   "source": [
    "train = spark.read.csv(\"../../../../data/train/train.csv\", header=True)\n",
    "train.cache()\n",
    "print(train.count())"
   ]
  },
  {
   "cell_type": "code",
   "execution_count": 115,
   "metadata": {},
   "outputs": [
    {
     "name": "stdout",
     "output_type": "stream",
     "text": [
      "root\n",
      " |-- Id: string (nullable = true)\n",
      " |-- v2a1: string (nullable = true)\n",
      " |-- hacdor: string (nullable = true)\n",
      " |-- rooms: string (nullable = true)\n",
      " |-- hacapo: string (nullable = true)\n",
      " |-- v14a: string (nullable = true)\n",
      " |-- refrig: string (nullable = true)\n",
      " |-- v18q: string (nullable = true)\n",
      " |-- v18q1: string (nullable = true)\n",
      " |-- r4h1: string (nullable = true)\n",
      " |-- r4h2: string (nullable = true)\n",
      " |-- r4h3: string (nullable = true)\n",
      " |-- r4m1: string (nullable = true)\n",
      " |-- r4m2: string (nullable = true)\n",
      " |-- r4m3: string (nullable = true)\n",
      " |-- r4t1: string (nullable = true)\n",
      " |-- r4t2: string (nullable = true)\n",
      " |-- r4t3: string (nullable = true)\n",
      " |-- tamhog: string (nullable = true)\n",
      " |-- tamviv: string (nullable = true)\n",
      " |-- escolari: string (nullable = true)\n",
      " |-- rez_esc: string (nullable = true)\n",
      " |-- hhsize: string (nullable = true)\n",
      " |-- paredblolad: string (nullable = true)\n",
      " |-- paredzocalo: string (nullable = true)\n",
      " |-- paredpreb: string (nullable = true)\n",
      " |-- pareddes: string (nullable = true)\n",
      " |-- paredmad: string (nullable = true)\n",
      " |-- paredzinc: string (nullable = true)\n",
      " |-- paredfibras: string (nullable = true)\n",
      " |-- paredother: string (nullable = true)\n",
      " |-- pisomoscer: string (nullable = true)\n",
      " |-- pisocemento: string (nullable = true)\n",
      " |-- pisoother: string (nullable = true)\n",
      " |-- pisonatur: string (nullable = true)\n",
      " |-- pisonotiene: string (nullable = true)\n",
      " |-- pisomadera: string (nullable = true)\n",
      " |-- techozinc: string (nullable = true)\n",
      " |-- techoentrepiso: string (nullable = true)\n",
      " |-- techocane: string (nullable = true)\n",
      " |-- techootro: string (nullable = true)\n",
      " |-- cielorazo: string (nullable = true)\n",
      " |-- abastaguadentro: string (nullable = true)\n",
      " |-- abastaguafuera: string (nullable = true)\n",
      " |-- abastaguano: string (nullable = true)\n",
      " |-- public: string (nullable = true)\n",
      " |-- planpri: string (nullable = true)\n",
      " |-- noelec: string (nullable = true)\n",
      " |-- coopele: string (nullable = true)\n",
      " |-- sanitario1: string (nullable = true)\n",
      " |-- sanitario2: string (nullable = true)\n",
      " |-- sanitario3: string (nullable = true)\n",
      " |-- sanitario5: string (nullable = true)\n",
      " |-- sanitario6: string (nullable = true)\n",
      " |-- energcocinar1: string (nullable = true)\n",
      " |-- energcocinar2: string (nullable = true)\n",
      " |-- energcocinar3: string (nullable = true)\n",
      " |-- energcocinar4: string (nullable = true)\n",
      " |-- elimbasu1: string (nullable = true)\n",
      " |-- elimbasu2: string (nullable = true)\n",
      " |-- elimbasu3: string (nullable = true)\n",
      " |-- elimbasu4: string (nullable = true)\n",
      " |-- elimbasu5: string (nullable = true)\n",
      " |-- elimbasu6: string (nullable = true)\n",
      " |-- epared1: string (nullable = true)\n",
      " |-- epared2: string (nullable = true)\n",
      " |-- epared3: string (nullable = true)\n",
      " |-- etecho1: string (nullable = true)\n",
      " |-- etecho2: string (nullable = true)\n",
      " |-- etecho3: string (nullable = true)\n",
      " |-- eviv1: string (nullable = true)\n",
      " |-- eviv2: string (nullable = true)\n",
      " |-- eviv3: string (nullable = true)\n",
      " |-- dis: string (nullable = true)\n",
      " |-- male: string (nullable = true)\n",
      " |-- female: string (nullable = true)\n",
      " |-- estadocivil1: string (nullable = true)\n",
      " |-- estadocivil2: string (nullable = true)\n",
      " |-- estadocivil3: string (nullable = true)\n",
      " |-- estadocivil4: string (nullable = true)\n",
      " |-- estadocivil5: string (nullable = true)\n",
      " |-- estadocivil6: string (nullable = true)\n",
      " |-- estadocivil7: string (nullable = true)\n",
      " |-- parentesco1: string (nullable = true)\n",
      " |-- parentesco2: string (nullable = true)\n",
      " |-- parentesco3: string (nullable = true)\n",
      " |-- parentesco4: string (nullable = true)\n",
      " |-- parentesco5: string (nullable = true)\n",
      " |-- parentesco6: string (nullable = true)\n",
      " |-- parentesco7: string (nullable = true)\n",
      " |-- parentesco8: string (nullable = true)\n",
      " |-- parentesco9: string (nullable = true)\n",
      " |-- parentesco10: string (nullable = true)\n",
      " |-- parentesco11: string (nullable = true)\n",
      " |-- parentesco12: string (nullable = true)\n",
      " |-- idhogar: string (nullable = true)\n",
      " |-- hogar_nin: string (nullable = true)\n",
      " |-- hogar_adul: string (nullable = true)\n",
      " |-- hogar_mayor: string (nullable = true)\n",
      " |-- hogar_total: string (nullable = true)\n",
      " |-- dependency: string (nullable = true)\n",
      " |-- edjefe: string (nullable = true)\n",
      " |-- edjefa: string (nullable = true)\n",
      " |-- meaneduc: string (nullable = true)\n",
      " |-- instlevel1: string (nullable = true)\n",
      " |-- instlevel2: string (nullable = true)\n",
      " |-- instlevel3: string (nullable = true)\n",
      " |-- instlevel4: string (nullable = true)\n",
      " |-- instlevel5: string (nullable = true)\n",
      " |-- instlevel6: string (nullable = true)\n",
      " |-- instlevel7: string (nullable = true)\n",
      " |-- instlevel8: string (nullable = true)\n",
      " |-- instlevel9: string (nullable = true)\n",
      " |-- bedrooms: string (nullable = true)\n",
      " |-- overcrowding: string (nullable = true)\n",
      " |-- tipovivi1: string (nullable = true)\n",
      " |-- tipovivi2: string (nullable = true)\n",
      " |-- tipovivi3: string (nullable = true)\n",
      " |-- tipovivi4: string (nullable = true)\n",
      " |-- tipovivi5: string (nullable = true)\n",
      " |-- computer: string (nullable = true)\n",
      " |-- television: string (nullable = true)\n",
      " |-- mobilephone: string (nullable = true)\n",
      " |-- qmobilephone: string (nullable = true)\n",
      " |-- lugar1: string (nullable = true)\n",
      " |-- lugar2: string (nullable = true)\n",
      " |-- lugar3: string (nullable = true)\n",
      " |-- lugar4: string (nullable = true)\n",
      " |-- lugar5: string (nullable = true)\n",
      " |-- lugar6: string (nullable = true)\n",
      " |-- area1: string (nullable = true)\n",
      " |-- area2: string (nullable = true)\n",
      " |-- age: string (nullable = true)\n",
      " |-- SQBescolari: string (nullable = true)\n",
      " |-- SQBage: string (nullable = true)\n",
      " |-- SQBhogar_total: string (nullable = true)\n",
      " |-- SQBedjefe: string (nullable = true)\n",
      " |-- SQBhogar_nin: string (nullable = true)\n",
      " |-- SQBovercrowding: string (nullable = true)\n",
      " |-- SQBdependency: string (nullable = true)\n",
      " |-- SQBmeaned: string (nullable = true)\n",
      " |-- agesq: string (nullable = true)\n",
      " |-- Target: string (nullable = true)\n",
      "\n"
     ]
    }
   ],
   "source": [
    "train.printSchema()"
   ]
  },
  {
   "cell_type": "code",
   "execution_count": 116,
   "metadata": {},
   "outputs": [],
   "source": [
    "## Define all groups of data\n",
    "groups_data = {}\n",
    "groups_data[\"hacdor\"] = [\"hacdor\"]\n",
    "groups_data[\"hacapo\"] = [\"hacapo\"]\n",
    "groups_data[\"v14a\"] = [\"v14a\"]\n",
    "groups_data[\"v18q\"] = [\"v18q\"]\n",
    "groups_data[\"refrig\"] = [\"refrig\"]\n",
    "groups_data[\"pared\"] = [\"paredblolad\", \"paredzocalo\", \"paredpreb\", \"pareddes\", \"paredmad\", \"paredzinc\", \"paredfibras\", \"paredother\"]\n",
    "groups_data[\"piso\"] = [\"pisomoscer\", \"pisocemento\", \"pisoother\",\"pisonatur\", \"pisonotiene\", \"pisomadera\"]\n",
    "groups_data[\"techo\"] = [\"techozinc\", \"techoentrepiso\", \"techocane\", \"techootro\"]\n",
    "groups_data[\"cielorazo\"] = [\"cielorazo\"]\n",
    "groups_data[\"abastagua\"] = [\"abastaguadentro\", \"abastaguafuera\", \"abastaguano\"]\n",
    "groups_data[\"electricity\"] = [\"public\", \"planpri\", \"noelec\", \"coopele\"]\n",
    "groups_data[\"sanitario\"] = [\"sanitario1\", \"sanitario2\", \"sanitario3\", \"sanitario5\", \"sanitario6\"]\n",
    "groups_data[\"energcocinar\"] = [\"energcocinar1\", \"energcocinar2\", \"energcocinar3\", \"energcocinar4\"]\n",
    "groups_data[\"elimbasu\"] = [\"elimbasu1\", \"elimbasu2\", \"elimbasu3\", \"elimbasu4\", \"elimbasu5\", \"elimbasu6\"]\n",
    "groups_data[\"epared\"] = [\"epared1\", \"epared2\", \"epared3\"]\n",
    "groups_data[\"etecho\"] = [\"etecho1\", \"etecho2\", \"etecho3\"]\n",
    "groups_data[\"eviv\"] = [\"eviv1\", \"eviv2\", \"eviv3\"]\n",
    "groups_data[\"dis\"] = [\"dis\"]\n",
    "groups_data[\"gender\"] = [\"male\", \"female\"]\n",
    "groups_data[\"estadocivil\"] = [\"estadocivil1\", \"estadocivil2\", \"estadocivil3\", \"estadocivil4\", \"estadocivil5\", \"estadocivil6\", \"estadocivil7\"]\n",
    "groups_data[\"parentesco\"] = [\"parentesco1\", \"parentesco2\", \"parentesco3\", \"parentesco4\", \"parentesco5\", \"parentesco6\", \"parentesco7\", \"parentesco8\", \"parentesco9\", \"parentesco10\", \"parentesco11\", \"parentesco12\"]\n",
    "groups_data[\"tipovivi\"] = [\"tipovivi1\", \"tipovivi2\", \"tipovivi3\", \"tipovivi4\", \"tipovivi5\"]\n",
    "groups_data[\"instlevel\"] = [\"instlevel1\", \"instlevel2\", \"instlevel3\", \"instlevel4\", \"instlevel5\", \"instlevel6\", \"instlevel7\", \"instlevel8\", \"instlevel9\"]\n",
    "groups_data[\"computer\"] = [\"computer\"]\n",
    "groups_data[\"television\"] = [\"television\"]\n",
    "groups_data[\"mobilephone\"] = [\"mobilephone\"]\n",
    "groups_data[\"lugar\"] = [\"lugar1\", \"lugar2\", \"lugar3\", \"lugar4\", \"lugar5\", \"lugar6\"]\n",
    "groups_data[\"area\"] = [\"area1\", \"area2\"]\n",
    "\n",
    "groups_data_broadcast = spark.sparkContext.broadcast(groups_data)\n",
    "new_features_broadcast = spark.sparkContext.broadcast(groups_data.keys())\n",
    "permanent_features_broadcast = spark.sparkContext.broadcast([\"Id\", \"Target\"])"
   ]
  },
  {
   "cell_type": "code",
   "execution_count": 117,
   "metadata": {},
   "outputs": [
    {
     "name": "stdout",
     "output_type": "stream",
     "text": [
      "electricity 4 5\n",
      "techo 4 5\n",
      "instlevel 9 10\n",
      "elimbasu 6 5\n"
     ]
    }
   ],
   "source": [
    "for key,values in groups_data.iteritems():\n",
    "    data_count = train.select(values).dropDuplicates().count()\n",
    "    if data_count != len(values) and len(values) >= 2:\n",
    "        print key, len(values), data_count"
   ]
  },
  {
   "cell_type": "code",
   "execution_count": 118,
   "metadata": {},
   "outputs": [
    {
     "data": {
      "text/plain": [
       "102"
      ]
     },
     "execution_count": 118,
     "metadata": {},
     "output_type": "execute_result"
    }
   ],
   "source": [
    "sum([len(value) for value in groups_data.values()])"
   ]
  },
  {
   "cell_type": "code",
   "execution_count": 119,
   "metadata": {},
   "outputs": [],
   "source": [
    "new_features = [key for key in groups_data.iteritems() if len(value)==1]"
   ]
  },
  {
   "cell_type": "code",
   "execution_count": 120,
   "metadata": {},
   "outputs": [],
   "source": [
    "def define_row(row, permanent_features, new_features, groups_data):\n",
    "    new_row = [row[key] for key in permanent_features]\n",
    "    for key in new_features:\n",
    "        group_new = [row[name] for name in groups_data[key]]\n",
    "        new_row.append(str(group_new))\n",
    "    return new_row"
   ]
  },
  {
   "cell_type": "code",
   "execution_count": 121,
   "metadata": {
    "scrolled": true
   },
   "outputs": [],
   "source": [
    "rdd = train.rdd.map(lambda row: define_row(row, permanent_features_broadcast.value, new_features_broadcast.value, groups_data_broadcast.value))"
   ]
  },
  {
   "cell_type": "code",
   "execution_count": 122,
   "metadata": {},
   "outputs": [],
   "source": [
    "new_data = spark.createDataFrame(rdd, permanent_features_broadcast.value+new_features_broadcast.value)"
   ]
  },
  {
   "cell_type": "markdown",
   "metadata": {},
   "source": [
    "#### New indexation"
   ]
  },
  {
   "cell_type": "code",
   "execution_count": 123,
   "metadata": {},
   "outputs": [
    {
     "name": "stdout",
     "output_type": "stream",
     "text": [
      "lugar\n",
      "v14a\n",
      "hacdor\n",
      "cielorazo\n",
      "computer\n",
      "tipovivi\n",
      "etecho\n",
      "piso\n",
      "area\n",
      "electricity\n",
      "estadocivil\n",
      "pared\n",
      "v18q\n",
      "energcocinar\n",
      "techo\n",
      "instlevel\n",
      "parentesco\n",
      "epared\n",
      "eviv\n",
      "elimbasu\n",
      "hacapo\n",
      "mobilephone\n",
      "television\n",
      "sanitario\n",
      "abastagua\n",
      "gender\n",
      "refrig\n",
      "dis\n"
     ]
    }
   ],
   "source": [
    "for key in new_features_broadcast.value:\n",
    "    print(key)\n",
    "    stringIndexer = StringIndexer(inputCol=key, outputCol=\"{0}_indexed\".format(key))\n",
    "    model = stringIndexer.fit(new_data)\n",
    "    new_data = model.transform(new_data).drop(stringIndexer.getInputCol())"
   ]
  },
  {
   "cell_type": "code",
   "execution_count": 124,
   "metadata": {},
   "outputs": [
    {
     "name": "stdout",
     "output_type": "stream",
     "text": [
      "root\n",
      " |-- Id: string (nullable = true)\n",
      " |-- Target: string (nullable = true)\n",
      " |-- lugar_indexed: double (nullable = false)\n",
      " |-- v14a_indexed: double (nullable = false)\n",
      " |-- hacdor_indexed: double (nullable = false)\n",
      " |-- cielorazo_indexed: double (nullable = false)\n",
      " |-- computer_indexed: double (nullable = false)\n",
      " |-- tipovivi_indexed: double (nullable = false)\n",
      " |-- etecho_indexed: double (nullable = false)\n",
      " |-- piso_indexed: double (nullable = false)\n",
      " |-- area_indexed: double (nullable = false)\n",
      " |-- electricity_indexed: double (nullable = false)\n",
      " |-- estadocivil_indexed: double (nullable = false)\n",
      " |-- pared_indexed: double (nullable = false)\n",
      " |-- v18q_indexed: double (nullable = false)\n",
      " |-- energcocinar_indexed: double (nullable = false)\n",
      " |-- techo_indexed: double (nullable = false)\n",
      " |-- instlevel_indexed: double (nullable = false)\n",
      " |-- parentesco_indexed: double (nullable = false)\n",
      " |-- epared_indexed: double (nullable = false)\n",
      " |-- eviv_indexed: double (nullable = false)\n",
      " |-- elimbasu_indexed: double (nullable = false)\n",
      " |-- hacapo_indexed: double (nullable = false)\n",
      " |-- mobilephone_indexed: double (nullable = false)\n",
      " |-- television_indexed: double (nullable = false)\n",
      " |-- sanitario_indexed: double (nullable = false)\n",
      " |-- abastagua_indexed: double (nullable = false)\n",
      " |-- gender_indexed: double (nullable = false)\n",
      " |-- refrig_indexed: double (nullable = false)\n",
      " |-- dis_indexed: double (nullable = false)\n",
      "\n"
     ]
    }
   ],
   "source": [
    "new_data.printSchema()"
   ]
  },
  {
   "cell_type": "code",
   "execution_count": 149,
   "metadata": {},
   "outputs": [
    {
     "name": "stdout",
     "output_type": "stream",
     "text": [
      "+--------------------------+----+---+---+---+---+\n",
      "|Target_electricity_indexed| 0.0|1.0|2.0|3.0|4.0|\n",
      "+--------------------------+----+---+---+---+---+\n",
      "|                         1| 669| 78|  4|  4|  0|\n",
      "|                         2|1399|179|  9|  9|  1|\n",
      "|                         3|1069|140|  0|  0|  0|\n",
      "|                         4|5322|662|  8|  2|  2|\n",
      "+--------------------------+----+---+---+---+---+\n",
      "\n"
     ]
    }
   ],
   "source": [
    "new_data.stat.crosstab(\"Target\", \"electricity_indexed\").sort(\"Target_electricity_indexed\").show()"
   ]
  },
  {
   "cell_type": "code",
   "execution_count": 125,
   "metadata": {},
   "outputs": [],
   "source": [
    "udf_create_dense_vector = udf(lambda values: Vectors.dense(values), VectorUDT())\n",
    "udf_get_target = udf(lambda values: Vectors.dense([values.index(1)]), VectorUDT())"
   ]
  },
  {
   "cell_type": "code",
   "execution_count": 154,
   "metadata": {},
   "outputs": [
    {
     "name": "stdout",
     "output_type": "stream",
     "text": [
      "['lugar_indexed', 'v14a_indexed', 'hacdor_indexed', 'cielorazo_indexed', 'computer_indexed', 'tipovivi_indexed', 'etecho_indexed', 'piso_indexed', 'area_indexed', 'electricity_indexed', 'estadocivil_indexed', 'pared_indexed', 'v18q_indexed', 'energcocinar_indexed', 'techo_indexed', 'instlevel_indexed', 'parentesco_indexed', 'epared_indexed', 'eviv_indexed', 'elimbasu_indexed', 'hacapo_indexed', 'mobilephone_indexed', 'television_indexed', 'sanitario_indexed', 'abastagua_indexed', 'gender_indexed', 'refrig_indexed', 'dis_indexed']\n"
     ]
    }
   ],
   "source": [
    "columns = new_data.columns\n",
    "columns.remove(\"Id\")\n",
    "columns.remove(\"Target\")\n",
    "print(columns)\n",
    "columns_broadcast = spark.sparkContext.broadcast(columns)\n",
    "columns_broadcast = spark.sparkContext.broadcast([\"electricity_indexed\"])"
   ]
  },
  {
   "cell_type": "code",
   "execution_count": 155,
   "metadata": {},
   "outputs": [],
   "source": [
    "Person = Row(\"Id\", \"Target\", \"values\")\n",
    "\n",
    "rdd = (new_data.rdd\n",
    "       .map(lambda row: (Person(row[\"Id\"], row[\"Target\"], [row[column] for column in columns_broadcast.value]))))"
   ]
  },
  {
   "cell_type": "code",
   "execution_count": 156,
   "metadata": {},
   "outputs": [],
   "source": [
    "df = (spark.createDataFrame(rdd)\n",
    "      .withColumn(\"features\", udf_create_dense_vector(col(\"values\")))\n",
    "      .select(col(\"Id\"), col(\"Target\"), col(\"features\")))"
   ]
  },
  {
   "cell_type": "code",
   "execution_count": 157,
   "metadata": {},
   "outputs": [
    {
     "name": "stdout",
     "output_type": "stream",
     "text": [
      "+------------+------+--------+\n",
      "|          Id|Target|features|\n",
      "+------------+------+--------+\n",
      "|ID_279628684|     4|   [0.0]|\n",
      "|ID_f29eb3ddd|     4|   [0.0]|\n",
      "|ID_68de51c94|     4|   [0.0]|\n",
      "|ID_d671db89c|     4|   [0.0]|\n",
      "|ID_d56d6f5f5|     4|   [0.0]|\n",
      "|ID_ec05b1a7b|     4|   [0.0]|\n",
      "|ID_e9e0c1100|     4|   [0.0]|\n",
      "|ID_3e04e571e|     4|   [0.0]|\n",
      "|ID_1284f8aad|     4|   [0.0]|\n",
      "|ID_51f52fdd2|     4|   [0.0]|\n",
      "|ID_db44f5c59|     4|   [0.0]|\n",
      "|ID_de822510c|     4|   [0.0]|\n",
      "|ID_d94071d7c|     4|   [0.0]|\n",
      "|ID_064b57869|     4|   [0.0]|\n",
      "|ID_5c837d8a4|     4|   [0.0]|\n",
      "|ID_0a39e419e|     4|   [0.0]|\n",
      "|ID_4ff51f90c|     4|   [0.0]|\n",
      "|ID_336c51386|     4|   [0.0]|\n",
      "|ID_c51938edf|     4|   [0.0]|\n",
      "|ID_35b66f7c6|     4|   [0.0]|\n",
      "+------------+------+--------+\n",
      "only showing top 20 rows\n",
      "\n"
     ]
    }
   ],
   "source": [
    "df.select(\"Id\", \"Target\", \"features\").show()"
   ]
  },
  {
   "cell_type": "code",
   "execution_count": 158,
   "metadata": {},
   "outputs": [],
   "source": [
    "stringIndexer = StringIndexer(inputCol=\"Target\", outputCol=\"label\")\n",
    "model = stringIndexer.fit(new_data)\n",
    "df = model.transform(df).drop(stringIndexer.getInputCol()).select(\"label\", \"features\")"
   ]
  },
  {
   "cell_type": "code",
   "execution_count": 159,
   "metadata": {},
   "outputs": [
    {
     "name": "stdout",
     "output_type": "stream",
     "text": [
      "+-----+--------+\n",
      "|label|features|\n",
      "+-----+--------+\n",
      "|  0.0|   [0.0]|\n",
      "|  0.0|   [0.0]|\n",
      "|  0.0|   [0.0]|\n",
      "+-----+--------+\n",
      "only showing top 3 rows\n",
      "\n"
     ]
    }
   ],
   "source": [
    "df.show(3)"
   ]
  },
  {
   "cell_type": "code",
   "execution_count": 160,
   "metadata": {},
   "outputs": [
    {
     "data": {
      "text/plain": [
       "28"
      ]
     },
     "execution_count": 160,
     "metadata": {},
     "output_type": "execute_result"
    }
   ],
   "source": [
    "len(columns)"
   ]
  },
  {
   "cell_type": "code",
   "execution_count": 161,
   "metadata": {},
   "outputs": [],
   "source": [
    "chiSqResult = ChiSquareTest.test(df, 'features', 'label')"
   ]
  },
  {
   "cell_type": "code",
   "execution_count": 162,
   "metadata": {},
   "outputs": [
    {
     "name": "stdout",
     "output_type": "stream",
     "text": [
      "+-----------------------+\n",
      "|pValues                |\n",
      "+-----------------------+\n",
      "|[1.4984640577253572E-6]|\n",
      "+-----------------------+\n",
      "\n",
      "+----------------+\n",
      "|degreesOfFreedom|\n",
      "+----------------+\n",
      "|[12]            |\n",
      "+----------------+\n",
      "\n",
      "+-------------------+\n",
      "|statistics         |\n",
      "+-------------------+\n",
      "|[49.82678802304894]|\n",
      "+-------------------+\n",
      "\n"
     ]
    }
   ],
   "source": [
    "chiSqResult.select(\"pValues\").show(truncate=False)\n",
    "chiSqResult.select(\"degreesOfFreedom\").show(truncate=False)\n",
    "chiSqResult.select(\"statistics\").show(truncate=False)"
   ]
  },
  {
   "cell_type": "code",
   "execution_count": 150,
   "metadata": {},
   "outputs": [
    {
     "name": "stdout",
     "output_type": "stream",
     "text": [
      "+-----+-----------------------------------------------------------------------------------------------------------------+-----------------------------------------------------------------------------------------------------------------+\n",
      "|label|features                                                                                                         |$featureColumn-Selected                                                                                          |\n",
      "+-----+-----------------------------------------------------------------------------------------------------------------+-----------------------------------------------------------------------------------------------------------------+\n",
      "|0.0  |[0.0,0.0,0.0,0.0,0.0,1.0,2.0,0.0,0.0,0.0,6.0,0.0,0.0,1.0,1.0,1.0,1.0,1.0,2.0,0.0,0.0,0.0,0.0,1.0,0.0,1.0,0.0,0.0]|[0.0,0.0,0.0,0.0,0.0,1.0,2.0,0.0,0.0,0.0,6.0,0.0,0.0,1.0,1.0,1.0,1.0,1.0,2.0,0.0,0.0,0.0,0.0,1.0,0.0,1.0,0.0,0.0]|\n",
      "|0.0  |[0.0,0.0,0.0,0.0,0.0,1.0,1.0,2.0,0.0,0.0,6.0,2.0,1.0,0.0,0.0,3.0,1.0,1.0,1.0,0.0,0.0,0.0,0.0,1.0,0.0,1.0,0.0,0.0]|[0.0,0.0,0.0,0.0,0.0,1.0,1.0,2.0,0.0,0.0,6.0,2.0,1.0,0.0,0.0,3.0,1.0,1.0,1.0,0.0,0.0,0.0,0.0,1.0,0.0,1.0,0.0,0.0]|\n",
      "|0.0  |[0.0,0.0,0.0,0.0,0.0,0.0,0.0,0.0,0.0,0.0,5.0,2.0,0.0,0.0,0.0,5.0,1.0,1.0,0.0,0.0,0.0,1.0,0.0,1.0,0.0,0.0,0.0,1.0]|[0.0,0.0,0.0,0.0,0.0,0.0,0.0,0.0,0.0,0.0,5.0,2.0,0.0,0.0,0.0,5.0,1.0,1.0,0.0,0.0,0.0,1.0,0.0,1.0,0.0,0.0,0.0,1.0]|\n",
      "|0.0  |[0.0,0.0,0.0,0.0,0.0,1.0,0.0,0.0,0.0,0.0,0.0,0.0,1.0,0.0,0.0,1.0,0.0,0.0,0.0,0.0,0.0,0.0,0.0,1.0,0.0,1.0,0.0,0.0]|[0.0,0.0,0.0,0.0,0.0,1.0,0.0,0.0,0.0,0.0,0.0,0.0,1.0,0.0,0.0,1.0,0.0,0.0,0.0,0.0,0.0,0.0,0.0,1.0,0.0,1.0,0.0,0.0]|\n",
      "|0.0  |[0.0,0.0,0.0,0.0,0.0,1.0,0.0,0.0,0.0,0.0,3.0,0.0,1.0,0.0,0.0,5.0,2.0,0.0,0.0,0.0,0.0,0.0,0.0,1.0,0.0,0.0,0.0,0.0]|[0.0,0.0,0.0,0.0,0.0,1.0,0.0,0.0,0.0,0.0,3.0,0.0,1.0,0.0,0.0,5.0,2.0,0.0,0.0,0.0,0.0,0.0,0.0,1.0,0.0,0.0,0.0,0.0]|\n",
      "|0.0  |[0.0,0.0,0.0,0.0,0.0,1.0,0.0,0.0,0.0,0.0,3.0,0.0,1.0,0.0,0.0,5.0,1.0,0.0,0.0,0.0,0.0,0.0,0.0,1.0,0.0,1.0,0.0,0.0]|[0.0,0.0,0.0,0.0,0.0,1.0,0.0,0.0,0.0,0.0,3.0,0.0,1.0,0.0,0.0,5.0,1.0,0.0,0.0,0.0,0.0,0.0,0.0,1.0,0.0,1.0,0.0,0.0]|\n",
      "|0.0  |[0.0,0.0,0.0,0.0,0.0,1.0,0.0,0.0,0.0,0.0,2.0,0.0,1.0,0.0,0.0,2.0,0.0,0.0,0.0,0.0,0.0,0.0,0.0,1.0,0.0,0.0,0.0,0.0]|[0.0,0.0,0.0,0.0,0.0,1.0,0.0,0.0,0.0,0.0,2.0,0.0,1.0,0.0,0.0,2.0,0.0,0.0,0.0,0.0,0.0,0.0,0.0,1.0,0.0,0.0,0.0,0.0]|\n",
      "|0.0  |[0.0,0.0,1.0,0.0,0.0,1.0,2.0,0.0,0.0,0.0,2.0,0.0,0.0,1.0,0.0,4.0,0.0,2.0,1.0,0.0,0.0,0.0,0.0,1.0,0.0,0.0,0.0,0.0]|[0.0,0.0,1.0,0.0,0.0,1.0,2.0,0.0,0.0,0.0,2.0,0.0,0.0,1.0,0.0,4.0,0.0,2.0,1.0,0.0,0.0,0.0,0.0,1.0,0.0,0.0,0.0,0.0]|\n",
      "|0.0  |[0.0,0.0,1.0,0.0,0.0,1.0,2.0,0.0,0.0,0.0,3.0,0.0,0.0,1.0,0.0,1.0,1.0,2.0,1.0,0.0,0.0,0.0,0.0,1.0,0.0,1.0,0.0,0.0]|[0.0,0.0,1.0,0.0,0.0,1.0,2.0,0.0,0.0,0.0,3.0,0.0,0.0,1.0,0.0,1.0,1.0,2.0,1.0,0.0,0.0,0.0,0.0,1.0,0.0,1.0,0.0,0.0]|\n",
      "|0.0  |[0.0,0.0,1.0,0.0,0.0,1.0,2.0,0.0,0.0,0.0,3.0,0.0,0.0,1.0,0.0,5.0,2.0,2.0,1.0,0.0,0.0,0.0,0.0,1.0,0.0,0.0,0.0,0.0]|[0.0,0.0,1.0,0.0,0.0,1.0,2.0,0.0,0.0,0.0,3.0,0.0,0.0,1.0,0.0,5.0,2.0,2.0,1.0,0.0,0.0,0.0,0.0,1.0,0.0,0.0,0.0,0.0]|\n",
      "|0.0  |[0.0,0.0,1.0,0.0,0.0,1.0,2.0,0.0,0.0,0.0,0.0,0.0,0.0,1.0,0.0,2.0,0.0,2.0,1.0,0.0,0.0,0.0,0.0,1.0,0.0,0.0,0.0,0.0]|[0.0,0.0,1.0,0.0,0.0,1.0,2.0,0.0,0.0,0.0,0.0,0.0,0.0,1.0,0.0,2.0,0.0,2.0,1.0,0.0,0.0,0.0,0.0,1.0,0.0,0.0,0.0,0.0]|\n",
      "|0.0  |[0.0,0.0,0.0,0.0,0.0,2.0,0.0,0.0,0.0,0.0,0.0,1.0,0.0,0.0,0.0,7.0,0.0,0.0,0.0,0.0,0.0,0.0,0.0,1.0,0.0,0.0,0.0,0.0]|[0.0,0.0,0.0,0.0,0.0,2.0,0.0,0.0,0.0,0.0,0.0,1.0,0.0,0.0,0.0,7.0,0.0,0.0,0.0,0.0,0.0,0.0,0.0,1.0,0.0,0.0,0.0,0.0]|\n",
      "|0.0  |[0.0,0.0,0.0,0.0,0.0,2.0,0.0,0.0,0.0,0.0,4.0,1.0,0.0,0.0,0.0,5.0,1.0,0.0,0.0,0.0,0.0,0.0,0.0,1.0,0.0,0.0,0.0,0.0]|[0.0,0.0,0.0,0.0,0.0,2.0,0.0,0.0,0.0,0.0,4.0,1.0,0.0,0.0,0.0,5.0,1.0,0.0,0.0,0.0,0.0,0.0,0.0,1.0,0.0,0.0,0.0,0.0]|\n",
      "|0.0  |[0.0,0.0,0.0,1.0,0.0,0.0,0.0,1.0,0.0,0.0,5.0,1.0,1.0,0.0,0.0,2.0,1.0,0.0,1.0,0.0,0.0,0.0,0.0,1.0,0.0,0.0,0.0,0.0]|[0.0,0.0,0.0,1.0,0.0,0.0,0.0,1.0,0.0,0.0,5.0,1.0,1.0,0.0,0.0,2.0,1.0,0.0,1.0,0.0,0.0,0.0,0.0,1.0,0.0,0.0,0.0,0.0]|\n",
      "|0.0  |[0.0,0.0,0.0,1.0,0.0,0.0,0.0,1.0,0.0,0.0,0.0,1.0,1.0,0.0,0.0,3.0,0.0,0.0,1.0,0.0,0.0,0.0,0.0,1.0,0.0,1.0,0.0,0.0]|[0.0,0.0,0.0,1.0,0.0,0.0,0.0,1.0,0.0,0.0,0.0,1.0,1.0,0.0,0.0,3.0,0.0,0.0,1.0,0.0,0.0,0.0,0.0,1.0,0.0,1.0,0.0,0.0]|\n",
      "|0.0  |[0.0,0.0,1.0,0.0,0.0,1.0,2.0,2.0,0.0,0.0,4.0,2.0,0.0,0.0,0.0,5.0,0.0,2.0,2.0,0.0,0.0,0.0,0.0,1.0,0.0,1.0,0.0,0.0]|[0.0,0.0,1.0,0.0,0.0,1.0,2.0,2.0,0.0,0.0,4.0,2.0,0.0,0.0,0.0,5.0,0.0,2.0,2.0,0.0,0.0,0.0,0.0,1.0,0.0,1.0,0.0,0.0]|\n",
      "|0.0  |[0.0,0.0,1.0,0.0,0.0,1.0,2.0,2.0,0.0,0.0,3.0,2.0,0.0,0.0,0.0,2.0,2.0,2.0,2.0,0.0,0.0,0.0,0.0,1.0,0.0,1.0,0.0,0.0]|[0.0,0.0,1.0,0.0,0.0,1.0,2.0,2.0,0.0,0.0,3.0,2.0,0.0,0.0,0.0,2.0,2.0,2.0,2.0,0.0,0.0,0.0,0.0,1.0,0.0,1.0,0.0,0.0]|\n",
      "|0.0  |[0.0,0.0,1.0,0.0,0.0,1.0,2.0,2.0,0.0,0.0,0.0,2.0,0.0,0.0,0.0,5.0,9.0,2.0,2.0,0.0,0.0,0.0,0.0,1.0,0.0,0.0,0.0,0.0]|[0.0,0.0,1.0,0.0,0.0,1.0,2.0,2.0,0.0,0.0,0.0,2.0,0.0,0.0,0.0,5.0,9.0,2.0,2.0,0.0,0.0,0.0,0.0,1.0,0.0,0.0,0.0,0.0]|\n",
      "|0.0  |[0.0,0.0,1.0,0.0,0.0,1.0,2.0,2.0,0.0,0.0,3.0,2.0,0.0,0.0,0.0,1.0,1.0,2.0,2.0,0.0,0.0,0.0,0.0,1.0,0.0,0.0,0.0,0.0]|[0.0,0.0,1.0,0.0,0.0,1.0,2.0,2.0,0.0,0.0,3.0,2.0,0.0,0.0,0.0,1.0,1.0,2.0,2.0,0.0,0.0,0.0,0.0,1.0,0.0,0.0,0.0,0.0]|\n",
      "|0.0  |[0.0,0.0,0.0,0.0,0.0,1.0,0.0,0.0,0.0,0.0,1.0,0.0,0.0,1.0,0.0,7.0,2.0,0.0,0.0,0.0,0.0,0.0,0.0,1.0,0.0,0.0,0.0,0.0]|[0.0,0.0,0.0,0.0,0.0,1.0,0.0,0.0,0.0,0.0,1.0,0.0,0.0,1.0,0.0,7.0,2.0,0.0,0.0,0.0,0.0,0.0,0.0,1.0,0.0,0.0,0.0,0.0]|\n",
      "+-----+-----------------------------------------------------------------------------------------------------------------+-----------------------------------------------------------------------------------------------------------------+\n",
      "only showing top 20 rows\n",
      "\n"
     ]
    }
   ],
   "source": [
    "alpha = 0.01\n",
    "\n",
    "chiSelector = (ChiSqSelector()\n",
    "               .setSelectorType(\"fpr\")\n",
    "               .setFpr(alpha)\n",
    "               .setLabelCol(\"label\")\n",
    "               .setFeaturesCol(\"features\")\n",
    "               .setOutputCol(\"$featureColumn-Selected\"))\n",
    "\n",
    "chiSelector.fit(df).transform(df).show(truncate=False)"
   ]
  },
  {
   "cell_type": "code",
   "execution_count": 153,
   "metadata": {},
   "outputs": [
    {
     "data": {
      "text/plain": [
       "9"
      ]
     },
     "execution_count": 153,
     "metadata": {},
     "output_type": "execute_result"
    }
   ],
   "source": [
    "columns.index(\"electricity_indexed\")"
   ]
  },
  {
   "cell_type": "code",
   "execution_count": null,
   "metadata": {},
   "outputs": [],
   "source": []
  }
 ],
 "metadata": {
  "kernelspec": {
   "display_name": "Python [anaconda2]",
   "language": "python",
   "name": "Python [anaconda2]"
  },
  "language_info": {
   "codemirror_mode": {
    "name": "ipython",
    "version": 2
   },
   "file_extension": ".py",
   "mimetype": "text/x-python",
   "name": "python",
   "nbconvert_exporter": "python",
   "pygments_lexer": "ipython2",
   "version": "2.7.12"
  }
 },
 "nbformat": 4,
 "nbformat_minor": 1
}
